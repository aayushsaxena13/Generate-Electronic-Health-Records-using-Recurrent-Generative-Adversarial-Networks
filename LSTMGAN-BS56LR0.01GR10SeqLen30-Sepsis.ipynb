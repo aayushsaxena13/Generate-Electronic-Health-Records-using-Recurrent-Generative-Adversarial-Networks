{
 "cells": [
  {
   "cell_type": "code",
   "execution_count": 1,
   "metadata": {
    "collapsed": true
   },
   "outputs": [],
   "source": [
    "#Uninstalling scikit-image, updating dask, and reinstalling scikit-image fixed it.\n",
    "#conda upgrade ipykernel\n",
    "#conda install tornado=4.5.3\n",
    "#conda install -c anaconda toolz"
   ]
  },
  {
   "cell_type": "code",
   "execution_count": null,
   "metadata": {
    "collapsed": false
   },
   "outputs": [],
   "source": []
  },
  {
   "cell_type": "code",
   "execution_count": 2,
   "metadata": {
    "collapsed": true
   },
   "outputs": [],
   "source": [
    "import pymysql\n",
    "import pandas as pd\n",
    "import numpy as np\n",
    "pd.set_option('display.max_rows', 500)\n",
    "import tensorflow as tf"
   ]
  },
  {
   "cell_type": "code",
   "execution_count": 3,
   "metadata": {
    "collapsed": false
   },
   "outputs": [],
   "source": [
    "conn = pymysql.connect(user='asaxena6', password='', host='127.0.0.1', database = 'cchs_nov16')"
   ]
  },
  {
   "cell_type": "code",
   "execution_count": 4,
   "metadata": {
    "collapsed": false
   },
   "outputs": [
    {
     "data": {
      "text/plain": [
       "'SELECT VisitEventID, VisitIdentifier, PatientIdentifier, EventTimeKey,         MinutesFromArrival, HeartRate, RespiratoryRate, Temperature, SystolicBP,         WBC, Bands, SedRate, CReactiveProtein, Procalcitonin, DiastolicBP, Platelet,         PulseOx, FIO2, MAP, OxygenSource, BUN, Lactate, Creatinine, BiliRubin,         CurrentLocationTypeCode from cchs_nov16.Shock_Infected order by PatientIdentifier, EventTimeKey;'"
      ]
     },
     "execution_count": 4,
     "metadata": {},
     "output_type": "execute_result"
    }
   ],
   "source": [
    "query = \"SELECT VisitEventID, VisitIdentifier, PatientIdentifier, EventTimeKey,\\\n",
    "         MinutesFromArrival, HeartRate, RespiratoryRate, Temperature, SystolicBP,\\\n",
    "         WBC, Bands, SedRate, CReactiveProtein, Procalcitonin, DiastolicBP, Platelet,\\\n",
    "         PulseOx, FIO2, MAP, OxygenSource, BUN, Lactate, Creatinine, BiliRubin,\\\n",
    "         CurrentLocationTypeCode from cchs_nov16.Shock_Infected order by PatientIdentifier, EventTimeKey;\"\n",
    "query"
   ]
  },
  {
   "cell_type": "code",
   "execution_count": 5,
   "metadata": {
    "collapsed": false
   },
   "outputs": [],
   "source": [
    "pd_shock = pd.read_sql(query, conn)"
   ]
  },
  {
   "cell_type": "code",
   "execution_count": 6,
   "metadata": {
    "collapsed": true
   },
   "outputs": [],
   "source": [
    "all_features = ['PatientIdentifier','VisitIdentifier','HeartRate','RespiratoryRate','PulseOx','SystolicBP','Temperature']"
   ]
  },
  {
   "cell_type": "code",
   "execution_count": 7,
   "metadata": {
    "collapsed": false
   },
   "outputs": [
    {
     "data": {
      "text/html": [
       "<div>\n",
       "<style scoped>\n",
       "    .dataframe tbody tr th:only-of-type {\n",
       "        vertical-align: middle;\n",
       "    }\n",
       "\n",
       "    .dataframe tbody tr th {\n",
       "        vertical-align: top;\n",
       "    }\n",
       "\n",
       "    .dataframe thead th {\n",
       "        text-align: right;\n",
       "    }\n",
       "</style>\n",
       "<table border=\"1\" class=\"dataframe\">\n",
       "  <thead>\n",
       "    <tr style=\"text-align: right;\">\n",
       "      <th></th>\n",
       "      <th>PatientIdentifier</th>\n",
       "      <th>VisitIdentifier</th>\n",
       "      <th>HeartRate</th>\n",
       "      <th>RespiratoryRate</th>\n",
       "      <th>PulseOx</th>\n",
       "      <th>SystolicBP</th>\n",
       "      <th>Temperature</th>\n",
       "    </tr>\n",
       "  </thead>\n",
       "  <tbody>\n",
       "    <tr>\n",
       "      <th>0</th>\n",
       "      <td>4</td>\n",
       "      <td>122033</td>\n",
       "      <td>NaN</td>\n",
       "      <td>NaN</td>\n",
       "      <td>NaN</td>\n",
       "      <td>NaN</td>\n",
       "      <td>NaN</td>\n",
       "    </tr>\n",
       "    <tr>\n",
       "      <th>1</th>\n",
       "      <td>4</td>\n",
       "      <td>122033</td>\n",
       "      <td>NaN</td>\n",
       "      <td>NaN</td>\n",
       "      <td>NaN</td>\n",
       "      <td>NaN</td>\n",
       "      <td>NaN</td>\n",
       "    </tr>\n",
       "    <tr>\n",
       "      <th>2</th>\n",
       "      <td>4</td>\n",
       "      <td>122033</td>\n",
       "      <td>85.0</td>\n",
       "      <td>16.0</td>\n",
       "      <td>94.0</td>\n",
       "      <td>147.0</td>\n",
       "      <td>36.4</td>\n",
       "    </tr>\n",
       "    <tr>\n",
       "      <th>3</th>\n",
       "      <td>4</td>\n",
       "      <td>122033</td>\n",
       "      <td>NaN</td>\n",
       "      <td>NaN</td>\n",
       "      <td>NaN</td>\n",
       "      <td>NaN</td>\n",
       "      <td>NaN</td>\n",
       "    </tr>\n",
       "    <tr>\n",
       "      <th>4</th>\n",
       "      <td>4</td>\n",
       "      <td>122033</td>\n",
       "      <td>88.0</td>\n",
       "      <td>14.0</td>\n",
       "      <td>100.0</td>\n",
       "      <td>NaN</td>\n",
       "      <td>NaN</td>\n",
       "    </tr>\n",
       "  </tbody>\n",
       "</table>\n",
       "</div>"
      ],
      "text/plain": [
       "   PatientIdentifier  VisitIdentifier  HeartRate  RespiratoryRate  PulseOx  \\\n",
       "0                  4           122033        NaN              NaN      NaN   \n",
       "1                  4           122033        NaN              NaN      NaN   \n",
       "2                  4           122033       85.0             16.0     94.0   \n",
       "3                  4           122033        NaN              NaN      NaN   \n",
       "4                  4           122033       88.0             14.0    100.0   \n",
       "\n",
       "   SystolicBP  Temperature  \n",
       "0         NaN          NaN  \n",
       "1         NaN          NaN  \n",
       "2       147.0         36.4  \n",
       "3         NaN          NaN  \n",
       "4         NaN          NaN  "
      ]
     },
     "execution_count": 7,
     "metadata": {},
     "output_type": "execute_result"
    }
   ],
   "source": [
    "pd_shock_rel = pd_shock[all_features]\n",
    "pd_shock_rel.head()"
   ]
  },
  {
   "cell_type": "code",
   "execution_count": 8,
   "metadata": {
    "collapsed": false
   },
   "outputs": [
    {
     "data": {
      "text/html": [
       "<div>\n",
       "<style scoped>\n",
       "    .dataframe tbody tr th:only-of-type {\n",
       "        vertical-align: middle;\n",
       "    }\n",
       "\n",
       "    .dataframe tbody tr th {\n",
       "        vertical-align: top;\n",
       "    }\n",
       "\n",
       "    .dataframe thead th {\n",
       "        text-align: right;\n",
       "    }\n",
       "</style>\n",
       "<table border=\"1\" class=\"dataframe\">\n",
       "  <thead>\n",
       "    <tr style=\"text-align: right;\">\n",
       "      <th></th>\n",
       "      <th>PatientIdentifier</th>\n",
       "      <th>VisitIdentifier</th>\n",
       "      <th>HeartRate</th>\n",
       "      <th>RespiratoryRate</th>\n",
       "      <th>PulseOx</th>\n",
       "      <th>SystolicBP</th>\n",
       "      <th>Temperature</th>\n",
       "    </tr>\n",
       "  </thead>\n",
       "  <tbody>\n",
       "    <tr>\n",
       "      <th>5313</th>\n",
       "      <td>887</td>\n",
       "      <td>120593</td>\n",
       "      <td>NaN</td>\n",
       "      <td>NaN</td>\n",
       "      <td>NaN</td>\n",
       "      <td>NaN</td>\n",
       "      <td>NaN</td>\n",
       "    </tr>\n",
       "    <tr>\n",
       "      <th>5314</th>\n",
       "      <td>887</td>\n",
       "      <td>120593</td>\n",
       "      <td>108.0</td>\n",
       "      <td>20.0</td>\n",
       "      <td>96.0</td>\n",
       "      <td>132.0</td>\n",
       "      <td>39.5</td>\n",
       "    </tr>\n",
       "    <tr>\n",
       "      <th>5315</th>\n",
       "      <td>887</td>\n",
       "      <td>120593</td>\n",
       "      <td>NaN</td>\n",
       "      <td>NaN</td>\n",
       "      <td>NaN</td>\n",
       "      <td>NaN</td>\n",
       "      <td>NaN</td>\n",
       "    </tr>\n",
       "    <tr>\n",
       "      <th>5316</th>\n",
       "      <td>887</td>\n",
       "      <td>120593</td>\n",
       "      <td>NaN</td>\n",
       "      <td>NaN</td>\n",
       "      <td>96.0</td>\n",
       "      <td>NaN</td>\n",
       "      <td>NaN</td>\n",
       "    </tr>\n",
       "    <tr>\n",
       "      <th>5317</th>\n",
       "      <td>887</td>\n",
       "      <td>120593</td>\n",
       "      <td>NaN</td>\n",
       "      <td>NaN</td>\n",
       "      <td>NaN</td>\n",
       "      <td>NaN</td>\n",
       "      <td>NaN</td>\n",
       "    </tr>\n",
       "  </tbody>\n",
       "</table>\n",
       "</div>"
      ],
      "text/plain": [
       "      PatientIdentifier  VisitIdentifier  HeartRate  RespiratoryRate  PulseOx  \\\n",
       "5313                887           120593        NaN              NaN      NaN   \n",
       "5314                887           120593      108.0             20.0     96.0   \n",
       "5315                887           120593        NaN              NaN      NaN   \n",
       "5316                887           120593        NaN              NaN     96.0   \n",
       "5317                887           120593        NaN              NaN      NaN   \n",
       "\n",
       "      SystolicBP  Temperature  \n",
       "5313         NaN          NaN  \n",
       "5314       132.0         39.5  \n",
       "5315         NaN          NaN  \n",
       "5316         NaN          NaN  \n",
       "5317         NaN          NaN  "
      ]
     },
     "execution_count": 8,
     "metadata": {},
     "output_type": "execute_result"
    }
   ],
   "source": [
    "pd_shock_rel[pd_shock_rel['PatientIdentifier'] == 887].head()"
   ]
  },
  {
   "cell_type": "code",
   "execution_count": 9,
   "metadata": {
    "collapsed": false
   },
   "outputs": [],
   "source": [
    "pd_shock_fill = pd_shock_rel.groupby(['PatientIdentifier','VisitIdentifier']).fillna(method='ffill').fillna(method='bfill')"
   ]
  },
  {
   "cell_type": "code",
   "execution_count": 10,
   "metadata": {
    "collapsed": false
   },
   "outputs": [
    {
     "data": {
      "text/html": [
       "<div>\n",
       "<style scoped>\n",
       "    .dataframe tbody tr th:only-of-type {\n",
       "        vertical-align: middle;\n",
       "    }\n",
       "\n",
       "    .dataframe tbody tr th {\n",
       "        vertical-align: top;\n",
       "    }\n",
       "\n",
       "    .dataframe thead th {\n",
       "        text-align: right;\n",
       "    }\n",
       "</style>\n",
       "<table border=\"1\" class=\"dataframe\">\n",
       "  <thead>\n",
       "    <tr style=\"text-align: right;\">\n",
       "      <th></th>\n",
       "      <th>PatientIdentifier</th>\n",
       "      <th>VisitIdentifier</th>\n",
       "      <th>HeartRate</th>\n",
       "      <th>RespiratoryRate</th>\n",
       "      <th>PulseOx</th>\n",
       "      <th>SystolicBP</th>\n",
       "      <th>Temperature</th>\n",
       "    </tr>\n",
       "  </thead>\n",
       "  <tbody>\n",
       "    <tr>\n",
       "      <th>0</th>\n",
       "      <td>4</td>\n",
       "      <td>122033</td>\n",
       "      <td>85.0</td>\n",
       "      <td>16.0</td>\n",
       "      <td>94.0</td>\n",
       "      <td>147.0</td>\n",
       "      <td>36.4</td>\n",
       "    </tr>\n",
       "    <tr>\n",
       "      <th>1</th>\n",
       "      <td>4</td>\n",
       "      <td>122033</td>\n",
       "      <td>85.0</td>\n",
       "      <td>16.0</td>\n",
       "      <td>94.0</td>\n",
       "      <td>147.0</td>\n",
       "      <td>36.4</td>\n",
       "    </tr>\n",
       "    <tr>\n",
       "      <th>2</th>\n",
       "      <td>4</td>\n",
       "      <td>122033</td>\n",
       "      <td>85.0</td>\n",
       "      <td>16.0</td>\n",
       "      <td>94.0</td>\n",
       "      <td>147.0</td>\n",
       "      <td>36.4</td>\n",
       "    </tr>\n",
       "    <tr>\n",
       "      <th>3</th>\n",
       "      <td>4</td>\n",
       "      <td>122033</td>\n",
       "      <td>85.0</td>\n",
       "      <td>16.0</td>\n",
       "      <td>94.0</td>\n",
       "      <td>147.0</td>\n",
       "      <td>36.4</td>\n",
       "    </tr>\n",
       "    <tr>\n",
       "      <th>4</th>\n",
       "      <td>4</td>\n",
       "      <td>122033</td>\n",
       "      <td>88.0</td>\n",
       "      <td>14.0</td>\n",
       "      <td>100.0</td>\n",
       "      <td>147.0</td>\n",
       "      <td>36.4</td>\n",
       "    </tr>\n",
       "  </tbody>\n",
       "</table>\n",
       "</div>"
      ],
      "text/plain": [
       "   PatientIdentifier  VisitIdentifier  HeartRate  RespiratoryRate  PulseOx  \\\n",
       "0                  4           122033       85.0             16.0     94.0   \n",
       "1                  4           122033       85.0             16.0     94.0   \n",
       "2                  4           122033       85.0             16.0     94.0   \n",
       "3                  4           122033       85.0             16.0     94.0   \n",
       "4                  4           122033       88.0             14.0    100.0   \n",
       "\n",
       "   SystolicBP  Temperature  \n",
       "0       147.0         36.4  \n",
       "1       147.0         36.4  \n",
       "2       147.0         36.4  \n",
       "3       147.0         36.4  \n",
       "4       147.0         36.4  "
      ]
     },
     "execution_count": 10,
     "metadata": {},
     "output_type": "execute_result"
    }
   ],
   "source": [
    "pd_data = pd.concat([pd_shock_rel[['PatientIdentifier','VisitIdentifier']],pd_shock_fill],axis=1)\n",
    "pd_data.head()"
   ]
  },
  {
   "cell_type": "code",
   "execution_count": 11,
   "metadata": {
    "collapsed": false
   },
   "outputs": [
    {
     "data": {
      "text/html": [
       "<div>\n",
       "<style scoped>\n",
       "    .dataframe tbody tr th:only-of-type {\n",
       "        vertical-align: middle;\n",
       "    }\n",
       "\n",
       "    .dataframe tbody tr th {\n",
       "        vertical-align: top;\n",
       "    }\n",
       "\n",
       "    .dataframe thead th {\n",
       "        text-align: right;\n",
       "    }\n",
       "</style>\n",
       "<table border=\"1\" class=\"dataframe\">\n",
       "  <thead>\n",
       "    <tr style=\"text-align: right;\">\n",
       "      <th></th>\n",
       "      <th>PatientIdentifier</th>\n",
       "      <th>VisitIdentifier</th>\n",
       "      <th>HeartRate</th>\n",
       "      <th>RespiratoryRate</th>\n",
       "      <th>PulseOx</th>\n",
       "      <th>SystolicBP</th>\n",
       "      <th>Temperature</th>\n",
       "    </tr>\n",
       "  </thead>\n",
       "  <tbody>\n",
       "    <tr>\n",
       "      <th>5313</th>\n",
       "      <td>887</td>\n",
       "      <td>120593</td>\n",
       "      <td>108.0</td>\n",
       "      <td>20.0</td>\n",
       "      <td>96.0</td>\n",
       "      <td>132.0</td>\n",
       "      <td>39.5</td>\n",
       "    </tr>\n",
       "    <tr>\n",
       "      <th>5314</th>\n",
       "      <td>887</td>\n",
       "      <td>120593</td>\n",
       "      <td>108.0</td>\n",
       "      <td>20.0</td>\n",
       "      <td>96.0</td>\n",
       "      <td>132.0</td>\n",
       "      <td>39.5</td>\n",
       "    </tr>\n",
       "    <tr>\n",
       "      <th>5315</th>\n",
       "      <td>887</td>\n",
       "      <td>120593</td>\n",
       "      <td>108.0</td>\n",
       "      <td>20.0</td>\n",
       "      <td>96.0</td>\n",
       "      <td>132.0</td>\n",
       "      <td>39.5</td>\n",
       "    </tr>\n",
       "    <tr>\n",
       "      <th>5316</th>\n",
       "      <td>887</td>\n",
       "      <td>120593</td>\n",
       "      <td>108.0</td>\n",
       "      <td>20.0</td>\n",
       "      <td>96.0</td>\n",
       "      <td>132.0</td>\n",
       "      <td>39.5</td>\n",
       "    </tr>\n",
       "    <tr>\n",
       "      <th>5317</th>\n",
       "      <td>887</td>\n",
       "      <td>120593</td>\n",
       "      <td>108.0</td>\n",
       "      <td>20.0</td>\n",
       "      <td>96.0</td>\n",
       "      <td>132.0</td>\n",
       "      <td>39.5</td>\n",
       "    </tr>\n",
       "  </tbody>\n",
       "</table>\n",
       "</div>"
      ],
      "text/plain": [
       "      PatientIdentifier  VisitIdentifier  HeartRate  RespiratoryRate  PulseOx  \\\n",
       "5313                887           120593      108.0             20.0     96.0   \n",
       "5314                887           120593      108.0             20.0     96.0   \n",
       "5315                887           120593      108.0             20.0     96.0   \n",
       "5316                887           120593      108.0             20.0     96.0   \n",
       "5317                887           120593      108.0             20.0     96.0   \n",
       "\n",
       "      SystolicBP  Temperature  \n",
       "5313       132.0         39.5  \n",
       "5314       132.0         39.5  \n",
       "5315       132.0         39.5  \n",
       "5316       132.0         39.5  \n",
       "5317       132.0         39.5  "
      ]
     },
     "execution_count": 11,
     "metadata": {},
     "output_type": "execute_result"
    }
   ],
   "source": [
    "#THis patient has data for multiple visits\n",
    "pd_data[pd_data['PatientIdentifier'] == 887].head()"
   ]
  },
  {
   "cell_type": "code",
   "execution_count": null,
   "metadata": {
    "collapsed": false
   },
   "outputs": [],
   "source": []
  },
  {
   "cell_type": "code",
   "execution_count": 12,
   "metadata": {
    "collapsed": false
   },
   "outputs": [
    {
     "data": {
      "text/html": [
       "<div>\n",
       "<style scoped>\n",
       "    .dataframe tbody tr th:only-of-type {\n",
       "        vertical-align: middle;\n",
       "    }\n",
       "\n",
       "    .dataframe tbody tr th {\n",
       "        vertical-align: top;\n",
       "    }\n",
       "\n",
       "    .dataframe thead th {\n",
       "        text-align: right;\n",
       "    }\n",
       "</style>\n",
       "<table border=\"1\" class=\"dataframe\">\n",
       "  <thead>\n",
       "    <tr style=\"text-align: right;\">\n",
       "      <th></th>\n",
       "      <th>PatientIdentifier</th>\n",
       "      <th>VisitIdentifier</th>\n",
       "      <th>HeartRate</th>\n",
       "      <th>RespiratoryRate</th>\n",
       "      <th>PulseOx</th>\n",
       "      <th>SystolicBP</th>\n",
       "      <th>Temperature</th>\n",
       "    </tr>\n",
       "  </thead>\n",
       "  <tbody>\n",
       "    <tr>\n",
       "      <th>0</th>\n",
       "      <td>4</td>\n",
       "      <td>122033</td>\n",
       "      <td>85.0</td>\n",
       "      <td>16.0</td>\n",
       "      <td>94.0</td>\n",
       "      <td>147.0</td>\n",
       "      <td>36.4</td>\n",
       "    </tr>\n",
       "    <tr>\n",
       "      <th>4</th>\n",
       "      <td>4</td>\n",
       "      <td>122033</td>\n",
       "      <td>88.0</td>\n",
       "      <td>14.0</td>\n",
       "      <td>100.0</td>\n",
       "      <td>147.0</td>\n",
       "      <td>36.4</td>\n",
       "    </tr>\n",
       "    <tr>\n",
       "      <th>5</th>\n",
       "      <td>4</td>\n",
       "      <td>122033</td>\n",
       "      <td>124.0</td>\n",
       "      <td>16.0</td>\n",
       "      <td>100.0</td>\n",
       "      <td>147.0</td>\n",
       "      <td>36.4</td>\n",
       "    </tr>\n",
       "    <tr>\n",
       "      <th>8</th>\n",
       "      <td>4</td>\n",
       "      <td>122033</td>\n",
       "      <td>106.0</td>\n",
       "      <td>20.0</td>\n",
       "      <td>100.0</td>\n",
       "      <td>147.0</td>\n",
       "      <td>36.4</td>\n",
       "    </tr>\n",
       "    <tr>\n",
       "      <th>15</th>\n",
       "      <td>4</td>\n",
       "      <td>122033</td>\n",
       "      <td>104.0</td>\n",
       "      <td>20.0</td>\n",
       "      <td>100.0</td>\n",
       "      <td>147.0</td>\n",
       "      <td>36.4</td>\n",
       "    </tr>\n",
       "  </tbody>\n",
       "</table>\n",
       "</div>"
      ],
      "text/plain": [
       "    PatientIdentifier  VisitIdentifier  HeartRate  RespiratoryRate  PulseOx  \\\n",
       "0                   4           122033       85.0             16.0     94.0   \n",
       "4                   4           122033       88.0             14.0    100.0   \n",
       "5                   4           122033      124.0             16.0    100.0   \n",
       "8                   4           122033      106.0             20.0    100.0   \n",
       "15                  4           122033      104.0             20.0    100.0   \n",
       "\n",
       "    SystolicBP  Temperature  \n",
       "0        147.0         36.4  \n",
       "4        147.0         36.4  \n",
       "5        147.0         36.4  \n",
       "8        147.0         36.4  \n",
       "15       147.0         36.4  "
      ]
     },
     "execution_count": 12,
     "metadata": {},
     "output_type": "execute_result"
    }
   ],
   "source": [
    "pd_data_unique = pd_data.drop_duplicates(subset=all_features, keep=\"first\")\n",
    "pd_data_unique.head()"
   ]
  },
  {
   "cell_type": "code",
   "execution_count": 13,
   "metadata": {
    "collapsed": false
   },
   "outputs": [
    {
     "data": {
      "text/html": [
       "<div>\n",
       "<style scoped>\n",
       "    .dataframe tbody tr th:only-of-type {\n",
       "        vertical-align: middle;\n",
       "    }\n",
       "\n",
       "    .dataframe tbody tr th {\n",
       "        vertical-align: top;\n",
       "    }\n",
       "\n",
       "    .dataframe thead tr th {\n",
       "        text-align: left;\n",
       "    }\n",
       "\n",
       "    .dataframe thead tr:last-of-type th {\n",
       "        text-align: right;\n",
       "    }\n",
       "</style>\n",
       "<table border=\"1\" class=\"dataframe\">\n",
       "  <thead>\n",
       "    <tr>\n",
       "      <th></th>\n",
       "      <th>VisitIdentifier</th>\n",
       "      <th>HeartRate</th>\n",
       "      <th>RespiratoryRate</th>\n",
       "      <th>PulseOx</th>\n",
       "      <th>SystolicBP</th>\n",
       "      <th>Temperature</th>\n",
       "    </tr>\n",
       "    <tr>\n",
       "      <th></th>\n",
       "      <th>count</th>\n",
       "      <th>count</th>\n",
       "      <th>count</th>\n",
       "      <th>count</th>\n",
       "      <th>count</th>\n",
       "      <th>count</th>\n",
       "    </tr>\n",
       "    <tr>\n",
       "      <th>PatientIdentifier</th>\n",
       "      <th></th>\n",
       "      <th></th>\n",
       "      <th></th>\n",
       "      <th></th>\n",
       "      <th></th>\n",
       "      <th></th>\n",
       "    </tr>\n",
       "  </thead>\n",
       "  <tbody>\n",
       "    <tr>\n",
       "      <th>4</th>\n",
       "      <td>165</td>\n",
       "      <td>165</td>\n",
       "      <td>165</td>\n",
       "      <td>165</td>\n",
       "      <td>165</td>\n",
       "      <td>165</td>\n",
       "    </tr>\n",
       "    <tr>\n",
       "      <th>30</th>\n",
       "      <td>28</td>\n",
       "      <td>28</td>\n",
       "      <td>28</td>\n",
       "      <td>28</td>\n",
       "      <td>28</td>\n",
       "      <td>28</td>\n",
       "    </tr>\n",
       "    <tr>\n",
       "      <th>85</th>\n",
       "      <td>323</td>\n",
       "      <td>323</td>\n",
       "      <td>323</td>\n",
       "      <td>323</td>\n",
       "      <td>323</td>\n",
       "      <td>323</td>\n",
       "    </tr>\n",
       "    <tr>\n",
       "      <th>184</th>\n",
       "      <td>170</td>\n",
       "      <td>170</td>\n",
       "      <td>170</td>\n",
       "      <td>170</td>\n",
       "      <td>170</td>\n",
       "      <td>170</td>\n",
       "    </tr>\n",
       "    <tr>\n",
       "      <th>228</th>\n",
       "      <td>20</td>\n",
       "      <td>20</td>\n",
       "      <td>20</td>\n",
       "      <td>20</td>\n",
       "      <td>20</td>\n",
       "      <td>20</td>\n",
       "    </tr>\n",
       "  </tbody>\n",
       "</table>\n",
       "</div>"
      ],
      "text/plain": [
       "                  VisitIdentifier HeartRate RespiratoryRate PulseOx  \\\n",
       "                            count     count           count   count   \n",
       "PatientIdentifier                                                     \n",
       "4                             165       165             165     165   \n",
       "30                             28        28              28      28   \n",
       "85                            323       323             323     323   \n",
       "184                           170       170             170     170   \n",
       "228                            20        20              20      20   \n",
       "\n",
       "                  SystolicBP Temperature  \n",
       "                       count       count  \n",
       "PatientIdentifier                         \n",
       "4                        165         165  \n",
       "30                        28          28  \n",
       "85                       323         323  \n",
       "184                      170         170  \n",
       "228                       20          20  "
      ]
     },
     "execution_count": 13,
     "metadata": {},
     "output_type": "execute_result"
    }
   ],
   "source": [
    "pd_patient_group = pd_data_unique.groupby('PatientIdentifier').agg(['count'])\n",
    "pd_patient_group.head()"
   ]
  },
  {
   "cell_type": "code",
   "execution_count": 14,
   "metadata": {
    "collapsed": false
   },
   "outputs": [],
   "source": [
    "#pd_patient_group[pd_patient_group['VisitIdentifier']['count'] == 15]"
   ]
  },
  {
   "cell_type": "code",
   "execution_count": 15,
   "metadata": {
    "collapsed": false
   },
   "outputs": [],
   "source": [
    "#pd_patient_group['VisitIdentifier'].nsmallest(20, 'count')"
   ]
  },
  {
   "cell_type": "code",
   "execution_count": 16,
   "metadata": {
    "collapsed": false
   },
   "outputs": [
    {
     "data": {
      "text/html": [
       "<div>\n",
       "<style scoped>\n",
       "    .dataframe tbody tr th:only-of-type {\n",
       "        vertical-align: middle;\n",
       "    }\n",
       "\n",
       "    .dataframe tbody tr th {\n",
       "        vertical-align: top;\n",
       "    }\n",
       "\n",
       "    .dataframe thead th {\n",
       "        text-align: right;\n",
       "    }\n",
       "</style>\n",
       "<table border=\"1\" class=\"dataframe\">\n",
       "  <thead>\n",
       "    <tr style=\"text-align: right;\">\n",
       "      <th></th>\n",
       "      <th>count</th>\n",
       "    </tr>\n",
       "  </thead>\n",
       "  <tbody>\n",
       "    <tr>\n",
       "      <th>count</th>\n",
       "      <td>2701.000000</td>\n",
       "    </tr>\n",
       "    <tr>\n",
       "      <th>mean</th>\n",
       "      <td>119.699371</td>\n",
       "    </tr>\n",
       "    <tr>\n",
       "      <th>std</th>\n",
       "      <td>159.303023</td>\n",
       "    </tr>\n",
       "    <tr>\n",
       "      <th>min</th>\n",
       "      <td>2.000000</td>\n",
       "    </tr>\n",
       "    <tr>\n",
       "      <th>25%</th>\n",
       "      <td>36.000000</td>\n",
       "    </tr>\n",
       "    <tr>\n",
       "      <th>50%</th>\n",
       "      <td>69.000000</td>\n",
       "    </tr>\n",
       "    <tr>\n",
       "      <th>75%</th>\n",
       "      <td>141.000000</td>\n",
       "    </tr>\n",
       "    <tr>\n",
       "      <th>max</th>\n",
       "      <td>2301.000000</td>\n",
       "    </tr>\n",
       "  </tbody>\n",
       "</table>\n",
       "</div>"
      ],
      "text/plain": [
       "             count\n",
       "count  2701.000000\n",
       "mean    119.699371\n",
       "std     159.303023\n",
       "min       2.000000\n",
       "25%      36.000000\n",
       "50%      69.000000\n",
       "75%     141.000000\n",
       "max    2301.000000"
      ]
     },
     "execution_count": 16,
     "metadata": {},
     "output_type": "execute_result"
    }
   ],
   "source": [
    "pd_patient_group['VisitIdentifier'].describe()"
   ]
  },
  {
   "cell_type": "code",
   "execution_count": 17,
   "metadata": {
    "collapsed": false
   },
   "outputs": [
    {
     "data": {
      "text/plain": [
       "2189"
      ]
     },
     "execution_count": 17,
     "metadata": {},
     "output_type": "execute_result"
    }
   ],
   "source": [
    "len(pd_patient_group[pd_patient_group['VisitIdentifier']['count'] >=30])\n",
    "#Choosing 30 as the sequence lenght so that we have sufficient data"
   ]
  },
  {
   "cell_type": "code",
   "execution_count": 18,
   "metadata": {
    "collapsed": false
   },
   "outputs": [
    {
     "data": {
      "text/plain": [
       "array([     4,     85,    184, ..., 119512, 119641, 119787])"
      ]
     },
     "execution_count": 18,
     "metadata": {},
     "output_type": "execute_result"
    }
   ],
   "source": [
    "# Get patients with records greater than 30\n",
    "pid = pd_patient_group[pd_patient_group['VisitIdentifier']['count'] >=30].index\n",
    "pid = np.array(pid)\n",
    "pid"
   ]
  },
  {
   "cell_type": "code",
   "execution_count": 19,
   "metadata": {
    "collapsed": false
   },
   "outputs": [
    {
     "data": {
      "text/plain": [
       "2189"
      ]
     },
     "execution_count": 19,
     "metadata": {},
     "output_type": "execute_result"
    }
   ],
   "source": [
    "len(pid)"
   ]
  },
  {
   "cell_type": "code",
   "execution_count": 20,
   "metadata": {
    "collapsed": false
   },
   "outputs": [
    {
     "data": {
      "text/plain": [
       "pandas.core.series.Series"
      ]
     },
     "execution_count": 20,
     "metadata": {},
     "output_type": "execute_result"
    }
   ],
   "source": [
    "type(pd_patient_group['VisitIdentifier']['count'])"
   ]
  },
  {
   "cell_type": "code",
   "execution_count": 21,
   "metadata": {
    "collapsed": false
   },
   "outputs": [
    {
     "data": {
      "text/plain": [
       "False"
      ]
     },
     "execution_count": 21,
     "metadata": {},
     "output_type": "execute_result"
    }
   ],
   "source": [
    "pd_data_unique.isnull().values.any()"
   ]
  },
  {
   "cell_type": "code",
   "execution_count": 22,
   "metadata": {
    "collapsed": false
   },
   "outputs": [
    {
     "data": {
      "text/plain": [
       "2189"
      ]
     },
     "execution_count": 22,
     "metadata": {},
     "output_type": "execute_result"
    }
   ],
   "source": [
    "#Number of unique patients\n",
    "nUniquePatients = len(pid)\n",
    "nUniquePatients"
   ]
  },
  {
   "cell_type": "code",
   "execution_count": 23,
   "metadata": {
    "collapsed": false
   },
   "outputs": [
    {
     "data": {
      "text/html": [
       "<div>\n",
       "<style scoped>\n",
       "    .dataframe tbody tr th:only-of-type {\n",
       "        vertical-align: middle;\n",
       "    }\n",
       "\n",
       "    .dataframe tbody tr th {\n",
       "        vertical-align: top;\n",
       "    }\n",
       "\n",
       "    .dataframe thead th {\n",
       "        text-align: right;\n",
       "    }\n",
       "</style>\n",
       "<table border=\"1\" class=\"dataframe\">\n",
       "  <thead>\n",
       "    <tr style=\"text-align: right;\">\n",
       "      <th></th>\n",
       "      <th>PatientIdentifier</th>\n",
       "      <th>VisitIdentifier</th>\n",
       "      <th>HeartRate</th>\n",
       "      <th>RespiratoryRate</th>\n",
       "      <th>PulseOx</th>\n",
       "      <th>SystolicBP</th>\n",
       "      <th>Temperature</th>\n",
       "    </tr>\n",
       "  </thead>\n",
       "  <tbody>\n",
       "    <tr>\n",
       "      <th>283</th>\n",
       "      <td>4</td>\n",
       "      <td>122033</td>\n",
       "      <td>104.0</td>\n",
       "      <td>20.0</td>\n",
       "      <td>95.0</td>\n",
       "      <td>78.0</td>\n",
       "      <td>36.7</td>\n",
       "    </tr>\n",
       "    <tr>\n",
       "      <th>289</th>\n",
       "      <td>4</td>\n",
       "      <td>122033</td>\n",
       "      <td>96.0</td>\n",
       "      <td>22.0</td>\n",
       "      <td>96.0</td>\n",
       "      <td>78.0</td>\n",
       "      <td>36.7</td>\n",
       "    </tr>\n",
       "    <tr>\n",
       "      <th>290</th>\n",
       "      <td>4</td>\n",
       "      <td>122033</td>\n",
       "      <td>104.0</td>\n",
       "      <td>27.0</td>\n",
       "      <td>95.0</td>\n",
       "      <td>78.0</td>\n",
       "      <td>36.7</td>\n",
       "    </tr>\n",
       "    <tr>\n",
       "      <th>293</th>\n",
       "      <td>4</td>\n",
       "      <td>122033</td>\n",
       "      <td>110.0</td>\n",
       "      <td>24.0</td>\n",
       "      <td>93.0</td>\n",
       "      <td>78.0</td>\n",
       "      <td>36.7</td>\n",
       "    </tr>\n",
       "    <tr>\n",
       "      <th>294</th>\n",
       "      <td>4</td>\n",
       "      <td>122033</td>\n",
       "      <td>97.0</td>\n",
       "      <td>20.0</td>\n",
       "      <td>95.0</td>\n",
       "      <td>78.0</td>\n",
       "      <td>36.7</td>\n",
       "    </tr>\n",
       "  </tbody>\n",
       "</table>\n",
       "</div>"
      ],
      "text/plain": [
       "     PatientIdentifier  VisitIdentifier  HeartRate  RespiratoryRate  PulseOx  \\\n",
       "283                  4           122033      104.0             20.0     95.0   \n",
       "289                  4           122033       96.0             22.0     96.0   \n",
       "290                  4           122033      104.0             27.0     95.0   \n",
       "293                  4           122033      110.0             24.0     93.0   \n",
       "294                  4           122033       97.0             20.0     95.0   \n",
       "\n",
       "     SystolicBP  Temperature  \n",
       "283        78.0         36.7  \n",
       "289        78.0         36.7  \n",
       "290        78.0         36.7  \n",
       "293        78.0         36.7  \n",
       "294        78.0         36.7  "
      ]
     },
     "execution_count": 23,
     "metadata": {},
     "output_type": "execute_result"
    }
   ],
   "source": [
    "pd_data_latest_records = pd_data_unique[pd_data_unique['PatientIdentifier'].isin(pid)].groupby('PatientIdentifier').tail(30)\n",
    "pd_data_latest_records.head()"
   ]
  },
  {
   "cell_type": "code",
   "execution_count": 25,
   "metadata": {
    "collapsed": false
   },
   "outputs": [],
   "source": [
    "#pd_data_latest_records.head()"
   ]
  },
  {
   "cell_type": "code",
   "execution_count": 25,
   "metadata": {
    "collapsed": false
   },
   "outputs": [
    {
     "data": {
      "text/plain": [
       "{'D_rounds': 1,\n",
       " 'G_rounds': 10,\n",
       " 'WGAN_clip': False,\n",
       " 'batch_mean': False,\n",
       " 'batch_size': 56,\n",
       " 'batches_per_lot': 1,\n",
       " 'cond_dim': 0,\n",
       " 'data': 'eICU_task',\n",
       " 'dp': False,\n",
       " 'dp_sigma': 0.6,\n",
       " 'hidden_units_d': 100,\n",
       " 'hidden_units_g': 100,\n",
       " 'kappa': 1,\n",
       " 'l2norm_bound': 4,\n",
       " 'latent_dim': 10,\n",
       " 'learn_scale': False,\n",
       " 'learning_rate': 0.01,\n",
       " 'max_val': 1,\n",
       " 'normalise': True,\n",
       " 'num_epochs': 120,\n",
       " 'num_generated_features': 5,\n",
       " 'num_samples': 2189,\n",
       " 'num_signals': 5,\n",
       " 'one_hot': None,\n",
       " 'predict_labels': False,\n",
       " 'seq_length': 30,\n",
       " 'shuffle': True,\n",
       " 'use_time': False}"
      ]
     },
     "execution_count": 25,
     "metadata": {},
     "output_type": "execute_result"
    }
   ],
   "source": [
    "settings = {\n",
    "    \"data\": \"eICU_task\",\n",
    "    \"num_samples\": nUniquePatients,\n",
    "    \"seq_length\": 30,\n",
    "    \"num_signals\": 5,\n",
    "    \"normalise\": True,\n",
    "    #For conditional GAN\n",
    "    \"cond_dim\": 0,\n",
    "    #For conditional GAN\n",
    "    \"max_val\": 1,\n",
    "    #For conditional GAN - to encode labels in one hot encoding\n",
    "    \"one_hot\": None,\n",
    "    \"predict_labels\": False,\n",
    "    \"hidden_units_g\": 100,\n",
    "    \"hidden_units_d\": 100,\n",
    "    \"kappa\": 1,\n",
    "    #Noise Dimensions\n",
    "    \"latent_dim\": 10,\n",
    "#     \"learning_rate\": 0.1,\n",
    "#     \"batch_size\": 28,\n",
    "    \"learning_rate\": 0.01,\n",
    "    \"batch_size\": 56,\n",
    "    \"num_epochs\": 120,\n",
    "    \"D_rounds\": 1,\n",
    "#     \"G_rounds\": 3,\n",
    "    \"G_rounds\": 10,\n",
    "    \"shuffle\": True,\n",
    "    \"num_generated_features\": 5,\n",
    "    \"batch_mean\": False,\n",
    "    \"learn_scale\": False,\n",
    "    \"dp\": False,\n",
    "    \"batches_per_lot\": 1,\n",
    "    \"dp_sigma\": 0.6,\n",
    "    \"l2norm_bound\": 4,\n",
    "    \"use_time\": False,\n",
    "    \"WGAN_clip\": False\n",
    "}\n",
    "settings"
   ]
  },
  {
   "cell_type": "code",
   "execution_count": 26,
   "metadata": {
    "collapsed": false
   },
   "outputs": [],
   "source": [
    "#60-20-20 Split\n",
    "#train, validate, test = np.split(pd_data_latest_records.sample(frac=1), [int(.6*len(pd_data_latest_records)), int(.8*len(pd_data_latest_records))])"
   ]
  },
  {
   "cell_type": "code",
   "execution_count": 27,
   "metadata": {
    "collapsed": false
   },
   "outputs": [
    {
     "data": {
      "text/plain": [
       "2189.0"
      ]
     },
     "execution_count": 27,
     "metadata": {},
     "output_type": "execute_result"
    }
   ],
   "source": [
    "import math\n",
    "pd_data_latest_records.shape[0]/30"
   ]
  },
  {
   "cell_type": "code",
   "execution_count": 28,
   "metadata": {
    "collapsed": false
   },
   "outputs": [],
   "source": [
    "#80-20 split\n",
    "train = pd_data_latest_records.iloc[0:30*(math.floor(0.8*(pd_data_latest_records.shape[0]/30)))]\n",
    "validate = pd_data_latest_records.iloc[30*(math.floor(0.8*(pd_data_latest_records.shape[0]/30))):]"
   ]
  },
  {
   "cell_type": "code",
   "execution_count": null,
   "metadata": {
    "collapsed": false
   },
   "outputs": [],
   "source": []
  },
  {
   "cell_type": "code",
   "execution_count": 29,
   "metadata": {
    "collapsed": false
   },
   "outputs": [
    {
     "name": "stdout",
     "output_type": "stream",
     "text": [
      "(52530, 7)\n",
      "(13140, 7)\n"
     ]
    },
    {
     "data": {
      "text/html": [
       "<div>\n",
       "<style scoped>\n",
       "    .dataframe tbody tr th:only-of-type {\n",
       "        vertical-align: middle;\n",
       "    }\n",
       "\n",
       "    .dataframe tbody tr th {\n",
       "        vertical-align: top;\n",
       "    }\n",
       "\n",
       "    .dataframe thead th {\n",
       "        text-align: right;\n",
       "    }\n",
       "</style>\n",
       "<table border=\"1\" class=\"dataframe\">\n",
       "  <thead>\n",
       "    <tr style=\"text-align: right;\">\n",
       "      <th></th>\n",
       "      <th>PatientIdentifier</th>\n",
       "      <th>VisitIdentifier</th>\n",
       "      <th>HeartRate</th>\n",
       "      <th>RespiratoryRate</th>\n",
       "      <th>PulseOx</th>\n",
       "      <th>SystolicBP</th>\n",
       "      <th>Temperature</th>\n",
       "    </tr>\n",
       "  </thead>\n",
       "  <tbody>\n",
       "    <tr>\n",
       "      <th>283</th>\n",
       "      <td>4</td>\n",
       "      <td>122033</td>\n",
       "      <td>104.0</td>\n",
       "      <td>20.0</td>\n",
       "      <td>95.0</td>\n",
       "      <td>78.0</td>\n",
       "      <td>36.7</td>\n",
       "    </tr>\n",
       "    <tr>\n",
       "      <th>289</th>\n",
       "      <td>4</td>\n",
       "      <td>122033</td>\n",
       "      <td>96.0</td>\n",
       "      <td>22.0</td>\n",
       "      <td>96.0</td>\n",
       "      <td>78.0</td>\n",
       "      <td>36.7</td>\n",
       "    </tr>\n",
       "    <tr>\n",
       "      <th>290</th>\n",
       "      <td>4</td>\n",
       "      <td>122033</td>\n",
       "      <td>104.0</td>\n",
       "      <td>27.0</td>\n",
       "      <td>95.0</td>\n",
       "      <td>78.0</td>\n",
       "      <td>36.7</td>\n",
       "    </tr>\n",
       "    <tr>\n",
       "      <th>293</th>\n",
       "      <td>4</td>\n",
       "      <td>122033</td>\n",
       "      <td>110.0</td>\n",
       "      <td>24.0</td>\n",
       "      <td>93.0</td>\n",
       "      <td>78.0</td>\n",
       "      <td>36.7</td>\n",
       "    </tr>\n",
       "    <tr>\n",
       "      <th>294</th>\n",
       "      <td>4</td>\n",
       "      <td>122033</td>\n",
       "      <td>97.0</td>\n",
       "      <td>20.0</td>\n",
       "      <td>95.0</td>\n",
       "      <td>78.0</td>\n",
       "      <td>36.7</td>\n",
       "    </tr>\n",
       "  </tbody>\n",
       "</table>\n",
       "</div>"
      ],
      "text/plain": [
       "     PatientIdentifier  VisitIdentifier  HeartRate  RespiratoryRate  PulseOx  \\\n",
       "283                  4           122033      104.0             20.0     95.0   \n",
       "289                  4           122033       96.0             22.0     96.0   \n",
       "290                  4           122033      104.0             27.0     95.0   \n",
       "293                  4           122033      110.0             24.0     93.0   \n",
       "294                  4           122033       97.0             20.0     95.0   \n",
       "\n",
       "     SystolicBP  Temperature  \n",
       "283        78.0         36.7  \n",
       "289        78.0         36.7  \n",
       "290        78.0         36.7  \n",
       "293        78.0         36.7  \n",
       "294        78.0         36.7  "
      ]
     },
     "execution_count": 29,
     "metadata": {},
     "output_type": "execute_result"
    }
   ],
   "source": [
    "print(train.shape)\n",
    "print(validate.shape)\n",
    "train.head()"
   ]
  },
  {
   "cell_type": "code",
   "execution_count": 30,
   "metadata": {
    "collapsed": false
   },
   "outputs": [
    {
     "data": {
      "text/html": [
       "<div>\n",
       "<style scoped>\n",
       "    .dataframe tbody tr th:only-of-type {\n",
       "        vertical-align: middle;\n",
       "    }\n",
       "\n",
       "    .dataframe tbody tr th {\n",
       "        vertical-align: top;\n",
       "    }\n",
       "\n",
       "    .dataframe thead th {\n",
       "        text-align: right;\n",
       "    }\n",
       "</style>\n",
       "<table border=\"1\" class=\"dataframe\">\n",
       "  <thead>\n",
       "    <tr style=\"text-align: right;\">\n",
       "      <th></th>\n",
       "      <th>HeartRate</th>\n",
       "      <th>RespiratoryRate</th>\n",
       "      <th>PulseOx</th>\n",
       "      <th>SystolicBP</th>\n",
       "      <th>Temperature</th>\n",
       "    </tr>\n",
       "  </thead>\n",
       "  <tbody>\n",
       "    <tr>\n",
       "      <th>283</th>\n",
       "      <td>104.0</td>\n",
       "      <td>20.0</td>\n",
       "      <td>95.0</td>\n",
       "      <td>78.0</td>\n",
       "      <td>36.7</td>\n",
       "    </tr>\n",
       "    <tr>\n",
       "      <th>289</th>\n",
       "      <td>96.0</td>\n",
       "      <td>22.0</td>\n",
       "      <td>96.0</td>\n",
       "      <td>78.0</td>\n",
       "      <td>36.7</td>\n",
       "    </tr>\n",
       "    <tr>\n",
       "      <th>290</th>\n",
       "      <td>104.0</td>\n",
       "      <td>27.0</td>\n",
       "      <td>95.0</td>\n",
       "      <td>78.0</td>\n",
       "      <td>36.7</td>\n",
       "    </tr>\n",
       "    <tr>\n",
       "      <th>293</th>\n",
       "      <td>110.0</td>\n",
       "      <td>24.0</td>\n",
       "      <td>93.0</td>\n",
       "      <td>78.0</td>\n",
       "      <td>36.7</td>\n",
       "    </tr>\n",
       "    <tr>\n",
       "      <th>294</th>\n",
       "      <td>97.0</td>\n",
       "      <td>20.0</td>\n",
       "      <td>95.0</td>\n",
       "      <td>78.0</td>\n",
       "      <td>36.7</td>\n",
       "    </tr>\n",
       "  </tbody>\n",
       "</table>\n",
       "</div>"
      ],
      "text/plain": [
       "     HeartRate  RespiratoryRate  PulseOx  SystolicBP  Temperature\n",
       "283      104.0             20.0     95.0        78.0         36.7\n",
       "289       96.0             22.0     96.0        78.0         36.7\n",
       "290      104.0             27.0     95.0        78.0         36.7\n",
       "293      110.0             24.0     93.0        78.0         36.7\n",
       "294       97.0             20.0     95.0        78.0         36.7"
      ]
     },
     "execution_count": 30,
     "metadata": {},
     "output_type": "execute_result"
    }
   ],
   "source": [
    "X_train = pd_data_latest_records[['HeartRate','RespiratoryRate','PulseOx','SystolicBP','Temperature']]\n",
    "X_val = validate[['HeartRate','RespiratoryRate','PulseOx','SystolicBP','Temperature']]\n",
    "#X_test = test[['HeartRate','RespiratoryRate','PulseOx','SystolicBP','Temperature']]\n",
    "X_train.head()"
   ]
  },
  {
   "cell_type": "code",
   "execution_count": 31,
   "metadata": {
    "collapsed": false
   },
   "outputs": [
    {
     "data": {
      "text/plain": [
       "(65670, 5)"
      ]
     },
     "execution_count": 31,
     "metadata": {},
     "output_type": "execute_result"
    }
   ],
   "source": [
    "X_train.values.shape"
   ]
  },
  {
   "cell_type": "code",
   "execution_count": 32,
   "metadata": {
    "collapsed": false
   },
   "outputs": [
    {
     "data": {
      "text/plain": [
       "30"
      ]
     },
     "execution_count": 32,
     "metadata": {},
     "output_type": "execute_result"
    }
   ],
   "source": [
    "settings['seq_length']"
   ]
  },
  {
   "cell_type": "code",
   "execution_count": 33,
   "metadata": {
    "collapsed": true
   },
   "outputs": [],
   "source": [
    "def reshape_data():\n",
    "    # labels = {'train': data['Y_train'], 'vali': data['Y_vali'], 'test': data['Y_test']}\n",
    "    samples = {'train':X_train.values, 'vali':X_val.values}#, 'test':X_test.values}\n",
    "    # Reshape\n",
    "    for (k, X) in samples.items():\n",
    "        samples[k] = X.reshape(-1, settings['seq_length'], settings['num_signals'])\n",
    "    return samples"
   ]
  },
  {
   "cell_type": "code",
   "execution_count": 34,
   "metadata": {
    "collapsed": true
   },
   "outputs": [],
   "source": [
    "def normalise_data(train, vali, low=-1, high=1):\n",
    "    \"\"\" Apply some sort of whitening procedure\n",
    "    \"\"\"\n",
    "    # remember, data is num_samples x seq_length x signals\n",
    "    # whiten each signal - mean 0, std 1\n",
    "    mean = np.mean(np.vstack([train, vali]), axis=(0, 1))\n",
    "    std = np.std(np.vstack([train-mean, vali-mean]), axis=(0, 1))\n",
    "\n",
    "    normalised_train = (train - mean)/std\n",
    "    normalised_vali = (vali - mean)/std\n",
    "    #normalised_test = (test - mean)/std\n",
    "    return normalised_train, normalised_vali#, normalised_test"
   ]
  },
  {
   "cell_type": "code",
   "execution_count": null,
   "metadata": {
    "collapsed": true
   },
   "outputs": [],
   "source": []
  },
  {
   "cell_type": "code",
   "execution_count": 35,
   "metadata": {
    "collapsed": true
   },
   "outputs": [],
   "source": [
    "# def normalise_data(train, low=-1, high=1):\n",
    "#     \"\"\" Apply some sort of whitening procedure\n",
    "#     \"\"\"\n",
    "#     # remember, data is num_samples x seq_length x signals\n",
    "#     # whiten each signal - mean 0, std 1\n",
    "#     #mean = np.mean(np.vstack([train, vali]), axis=(0, 1))\n",
    "#     #std = np.std(np.vstack([train-mean, vali-mean]), axis=(0, 1))\n",
    "#     mean = np.mean(train, axis=(0, 1))\n",
    "#     std = np.std((train-mean), axis=(0, 1))\n",
    "#     normalised_train = (train - mean)/std\n",
    "#     #normalised_vali = (vali - mean)/std\n",
    "#     #normalised_test = (test - mean)/std\n",
    "#     return normalised_train"
   ]
  },
  {
   "cell_type": "code",
   "execution_count": 36,
   "metadata": {
    "collapsed": false
   },
   "outputs": [],
   "source": [
    "#np.vstack([X_train.values,X_val.values]).shape"
   ]
  },
  {
   "cell_type": "code",
   "execution_count": 37,
   "metadata": {
    "collapsed": false
   },
   "outputs": [],
   "source": [
    "#X_train.values.reshape(-1,30,5)"
   ]
  },
  {
   "cell_type": "code",
   "execution_count": 38,
   "metadata": {
    "collapsed": false
   },
   "outputs": [],
   "source": [
    "def de_normalise_data(data,mean,std):\n",
    "    return (data*std)+mean"
   ]
  },
  {
   "cell_type": "code",
   "execution_count": 39,
   "metadata": {
    "collapsed": true
   },
   "outputs": [],
   "source": [
    "def get_samples_and_labels(settings):\n",
    "    \n",
    "    samples = reshape_data()\n",
    "    #train, vali, test = samples['train'], samples['vali'], samples['test']\n",
    "    train, vali = samples['train'], samples['vali']\n",
    "    #train_labels, vali_labels, test_labels = labels['train'], labels['vali'], labels['test']\n",
    "    #assert train_labels.shape[1] == settings['cond_dim']\n",
    "    # normalise to between -1, 1\n",
    "    #train, vali, test = normalise_data(train, vali, test)\n",
    "    train, vali = normalise_data(train, vali)\n",
    "    #train = normalise_data(train)\n",
    "    #labels = dict()\n",
    "    #labels['train'], labels['vali'], labels['test'] = train_labels, vali_labels, test_labels\n",
    "\n",
    "    samples = dict()\n",
    "    #samples['train'], samples['vali'], samples['test'] = train, vali, test\n",
    "    samples['train'], samples['vali'] = train, vali\n",
    "    \n",
    "\n",
    "    # futz around with labels\n",
    "#     # TODO refactor cause this is messy\n",
    "#     if 'one_hot' in settings and settings['one_hot'] and not settings['data_load_from']:\n",
    "#         if len(labels['train'].shape) == 1:\n",
    "#             # ASSUME labels go from 0 to max_val inclusive, find max-val\n",
    "#             max_val = int(np.max([labels['train'].max(), labels['test'].max(), labels['vali'].max()]))\n",
    "#             # now we have max_val + 1 dimensions\n",
    "#             print('Setting cond_dim to', max_val + 1, 'from', settings['cond_dim'])\n",
    "#             settings['cond_dim'] = max_val + 1\n",
    "#             print('Setting max_val to 1 from', settings['max_val'])\n",
    "#             settings['max_val'] = 1\n",
    "\n",
    "#             labels_oh = dict()\n",
    "#             for (k, v) in labels.items():\n",
    "#                 A = np.zeros(shape=(len(v), settings['cond_dim']))\n",
    "#                 A[np.arange(len(v)), (v).astype(int)] = 1\n",
    "#                 labels_oh[k] = A\n",
    "#             labels = labels_oh\n",
    "#         else:\n",
    "#             assert settings['max_val'] == 1\n",
    "#             # this is already one-hot!\n",
    "\n",
    "#     if 'predict_labels' in settings and settings['predict_labels']:\n",
    "#         samples, labels = data_utils.make_predict_labels(samples, labels)\n",
    "#         print('Setting cond_dim to 0 from', settings['cond_dim'])\n",
    "#         settings['cond_dim'] = 0\n",
    "\n",
    "    # update the settings dictionary to update erroneous settings\n",
    "    # (mostly about the sequence length etc. - it gets set by the data!)\n",
    "    settings['seq_length'] = samples['train'].shape[1]\n",
    "    settings['num_samples'] = samples['train'].shape[0] + samples['vali'].shape[0]# + samples['test'].shape[0]\n",
    "    settings['num_signals'] = samples['train'].shape[2]\n",
    "    settings['num_generated_features'] = samples['train'].shape[2]\n",
    "\n",
    "    return samples"
   ]
  },
  {
   "cell_type": "code",
   "execution_count": 40,
   "metadata": {
    "collapsed": false
   },
   "outputs": [],
   "source": [
    "samples = get_samples_and_labels(settings)"
   ]
  },
  {
   "cell_type": "code",
   "execution_count": null,
   "metadata": {
    "collapsed": false
   },
   "outputs": [],
   "source": []
  },
  {
   "cell_type": "code",
   "execution_count": 41,
   "metadata": {
    "collapsed": false
   },
   "outputs": [
    {
     "data": {
      "text/plain": [
       "72.149700545616042"
      ]
     },
     "execution_count": 41,
     "metadata": {},
     "output_type": "execute_result"
    }
   ],
   "source": [
    "mean = np.mean(np.vstack([X_train.values,X_val.values]), axis=(0, 1))\n",
    "mean"
   ]
  },
  {
   "cell_type": "code",
   "execution_count": 42,
   "metadata": {
    "collapsed": false
   },
   "outputs": [
    {
     "data": {
      "text/plain": [
       "40.200588138275755"
      ]
     },
     "execution_count": 42,
     "metadata": {},
     "output_type": "execute_result"
    }
   ],
   "source": [
    "std = np.std(np.vstack([X_train.values - mean,X_val.values - mean]), axis=(0,1))\n",
    "std"
   ]
  },
  {
   "cell_type": "code",
   "execution_count": 43,
   "metadata": {
    "collapsed": false
   },
   "outputs": [
    {
     "data": {
      "text/plain": [
       "(2189, 30, 5)"
      ]
     },
     "execution_count": 43,
     "metadata": {},
     "output_type": "execute_result"
    }
   ],
   "source": [
    "samples['train'].shape"
   ]
  },
  {
   "cell_type": "code",
   "execution_count": 44,
   "metadata": {
    "collapsed": false
   },
   "outputs": [],
   "source": [
    "#samples['train'][0]"
   ]
  },
  {
   "cell_type": "markdown",
   "metadata": {
    "collapsed": false
   },
   "source": [
    "## Build Model"
   ]
  },
  {
   "cell_type": "code",
   "execution_count": 45,
   "metadata": {
    "collapsed": false
   },
   "outputs": [],
   "source": [
    "# import importlib\n",
    "# importlib.reload(plotting)"
   ]
  },
  {
   "cell_type": "code",
   "execution_count": 46,
   "metadata": {
    "collapsed": false
   },
   "outputs": [],
   "source": [
    "import mod_core_rnn_cell_impl\n",
    "import mmd\n",
    "import model\n",
    "from mmd import rbf_mmd2, median_pairwise_distance, mix_rbf_mmd2_and_ratio\n",
    "import plotting\n",
    "\n",
    "from time import time\n",
    "from math import floor"
   ]
  },
  {
   "cell_type": "code",
   "execution_count": 47,
   "metadata": {
    "collapsed": false
   },
   "outputs": [],
   "source": [
    "#Z, X, CG, CD, CS = model.create_placeholders(batch_size, seq_length, latent_dim, num_signals, cond_dim)\n",
    "batch_size = settings['batch_size']\n",
    "seq_length = settings['seq_length']\n",
    "latent_dim = settings['latent_dim']\n",
    "num_signals = settings['num_signals']\n",
    "cond_dim = settings['cond_dim']\n",
    "Z, X = model.create_placeholders(batch_size, seq_length, latent_dim, num_signals, cond_dim)"
   ]
  },
  {
   "cell_type": "code",
   "execution_count": 48,
   "metadata": {
    "collapsed": false
   },
   "outputs": [],
   "source": [
    "discriminator_vars = ['hidden_units_d', 'seq_length', 'cond_dim', 'batch_size', 'batch_mean']\n",
    "discriminator_settings = dict((k, settings[k]) for k in discriminator_vars)\n",
    "generator_vars = ['hidden_units_g', 'seq_length', 'batch_size', \n",
    "                  'num_generated_features', 'cond_dim', 'learn_scale']\n",
    "generator_settings = dict((k, settings[k]) for k in generator_vars)"
   ]
  },
  {
   "cell_type": "code",
   "execution_count": 49,
   "metadata": {
    "collapsed": true
   },
   "outputs": [],
   "source": [
    "CGAN = (cond_dim > 0)\n",
    "if CGAN: assert not settings['predict_labels']"
   ]
  },
  {
   "cell_type": "code",
   "execution_count": 50,
   "metadata": {
    "collapsed": true
   },
   "outputs": [],
   "source": [
    "##Had to install toolz package again to solve error\n",
    "##ValueError: Function has keyword-only arguments or annotations, use getfullargspec() API which can support them"
   ]
  },
  {
   "cell_type": "code",
   "execution_count": 51,
   "metadata": {
    "collapsed": true
   },
   "outputs": [],
   "source": [
    "# D_loss, G_loss = model.GAN_loss(Z, X, generator_settings, discriminator_settings, \n",
    "#         kappa, CGAN, CG, CD, CS, wrong_labels=wrong_labels)\n",
    "D_loss, G_loss = model.GAN_loss(Z, X, generator_settings, discriminator_settings, \n",
    "        kappa=None, cond = CGAN, CG=None, CD=None, CS=None, wrong_labels=None)"
   ]
  },
  {
   "cell_type": "code",
   "execution_count": 52,
   "metadata": {
    "collapsed": false
   },
   "outputs": [],
   "source": [
    "# D_solver, G_solver, priv_accountant = model.GAN_solvers(D_loss, G_loss, learning_rate, batch_size, \n",
    "#         total_examples=samples['train'].shape[0], l2norm_bound=l2norm_bound,\n",
    "#         batches_per_lot=batches_per_lot, sigma=dp_sigma, dp=dp)\n",
    "D_solver, G_solver, priv_accountant = model.GAN_solvers(D_loss, G_loss, settings['learning_rate'], batch_size, \n",
    "        total_examples=samples['train'].shape[0], l2norm_bound=settings['l2norm_bound'],\n",
    "        batches_per_lot=settings['batches_per_lot'], sigma=settings['dp_sigma'], dp=settings[\"dp\"])\n"
   ]
  },
  {
   "cell_type": "code",
   "execution_count": 53,
   "metadata": {
    "collapsed": true
   },
   "outputs": [],
   "source": [
    "#G_sample = model.generator(Z, **generator_settings, reuse=True, c=CG)\n",
    "G_sample = model.generator(Z, **generator_settings, reuse=True, c=None)"
   ]
  },
  {
   "cell_type": "code",
   "execution_count": 54,
   "metadata": {
    "collapsed": false
   },
   "outputs": [],
   "source": [
    "# --- evaluation --- #\n",
    "# frequency to do visualisations\n",
    "vis_freq = max(14000//settings['num_samples'], 1)\n",
    "eval_freq = max(7000//settings['num_samples'], 1)\n",
    "\n",
    "# get heuristic bandwidth for mmd kernel from evaluation samples\n",
    "heuristic_sigma_training = median_pairwise_distance(samples['vali'])\n",
    "best_mmd2_so_far = 1000\n",
    "\n",
    "# optimise sigma using that (that's t-hat)\n",
    "batch_multiplier = 5000//batch_size\n",
    "eval_size = batch_multiplier*batch_size\n",
    "eval_eval_size = int(0.2*eval_size)\n",
    "eval_real_PH = tf.placeholder(tf.float32, [eval_eval_size, seq_length, settings['num_generated_features']])\n",
    "eval_sample_PH = tf.placeholder(tf.float32, [eval_eval_size, seq_length, settings['num_generated_features']])\n",
    "n_sigmas = 2\n",
    "sigma = tf.get_variable(name='sigma', shape=n_sigmas, initializer=tf.constant_initializer(value=np.power(heuristic_sigma_training, np.linspace(-1, 3, num=n_sigmas))))\n",
    "mmd2, that = mix_rbf_mmd2_and_ratio(eval_real_PH, eval_sample_PH, sigma)\n",
    "with tf.variable_scope(\"SIGMA_optimizer\"):\n",
    "    sigma_solver = tf.train.RMSPropOptimizer(learning_rate=0.05).minimize(-that, var_list=[sigma])\n",
    "    #sigma_solver = tf.train.AdamOptimizer().minimize(-that, var_list=[sigma])\n",
    "    #sigma_solver = tf.train.AdagradOptimizer(learning_rate=0.1).minimize(-that, var_list=[sigma])\n",
    "sigma_opt_iter = 2000\n",
    "sigma_opt_thresh = 0.001\n",
    "sigma_opt_vars = [var for var in tf.global_variables() if 'SIGMA_optimizer' in var.name]"
   ]
  },
  {
   "cell_type": "code",
   "execution_count": 55,
   "metadata": {
    "collapsed": false
   },
   "outputs": [
    {
     "data": {
      "text/plain": [
       "<tf.Tensor 'truediv_12:0' shape=() dtype=float32>"
      ]
     },
     "execution_count": 55,
     "metadata": {},
     "output_type": "execute_result"
    }
   ],
   "source": [
    "# tf.reset_default_graph()\n",
    "# sess.close()\n",
    "that"
   ]
  },
  {
   "cell_type": "code",
   "execution_count": 56,
   "metadata": {
    "collapsed": false
   },
   "outputs": [
    {
     "data": {
      "text/plain": [
       "4984"
      ]
     },
     "execution_count": 56,
     "metadata": {},
     "output_type": "execute_result"
    }
   ],
   "source": [
    "vis_freq\n",
    "batch_multiplier\n",
    "eval_freq\n",
    "eval_size"
   ]
  },
  {
   "cell_type": "code",
   "execution_count": 57,
   "metadata": {
    "collapsed": true
   },
   "outputs": [],
   "source": [
    "import os\n",
    "os.environ[\"CUDA_VISIBLE_DEVICES\"]=\"\""
   ]
  },
  {
   "cell_type": "code",
   "execution_count": 58,
   "metadata": {
    "collapsed": false
   },
   "outputs": [],
   "source": [
    "sess = tf.Session()\n",
    "sess.run(tf.global_variables_initializer())\n",
    "\n",
    "vis_Z = model.sample_Z(batch_size, seq_length, latent_dim, settings['use_time'])\n",
    "if CGAN:\n",
    "    vis_C = model.sample_C(batch_size, cond_dim, max_val, one_hot)\n",
    "    if 'mnist' in data:\n",
    "        if one_hot:\n",
    "            if cond_dim == 6:\n",
    "                vis_C[:6] = np.eye(6)\n",
    "            elif cond_dim == 3:\n",
    "                vis_C[:3] = np.eye(3)\n",
    "                vis_C[3:6] = np.eye(3)\n",
    "            else:\n",
    "                raise ValueError(cond_dim)\n",
    "        else:\n",
    "            if cond_dim == 6:\n",
    "                vis_C[:6] = np.arange(cond_dim)\n",
    "            elif cond_dim == 3:\n",
    "                vis_C = np.tile(np.arange(3), 2)\n",
    "            else:\n",
    "                raise ValueError(cond_dim)\n",
    "    elif 'eICU_task' in data:\n",
    "        vis_C = labels['train'][np.random.choice(labels['train'].shape[0], batch_size, replace=False), :]\n",
    "    vis_sample = sess.run(G_sample, feed_dict={Z: vis_Z, CG: vis_C})\n",
    "else:\n",
    "    vis_sample = sess.run(G_sample, feed_dict={Z: vis_Z})\n",
    "    vis_C = None"
   ]
  },
  {
   "cell_type": "code",
   "execution_count": 59,
   "metadata": {
    "collapsed": false
   },
   "outputs": [
    {
     "data": {
      "text/plain": [
       "(56, 30, 5)"
      ]
     },
     "execution_count": 59,
     "metadata": {},
     "output_type": "execute_result"
    }
   ],
   "source": [
    "vis_Z.shape\n",
    "vis_sample.shape"
   ]
  },
  {
   "cell_type": "code",
   "execution_count": 60,
   "metadata": {
    "collapsed": false
   },
   "outputs": [
    {
     "name": "stdout",
     "output_type": "stream",
     "text": [
      "epoch\ttime\tD_loss\tG_loss\tmmd2\tthat\tpdf_sample\tpdf_real\n",
      "0\t147.57\t0.4220\t2.5321\t0.90692\t1133\t NA\t NA\n"
     ]
    },
    {
     "name": "stderr",
     "output_type": "stream",
     "text": [
      "/home/asaxena6/plotting.py:288: FutureWarning: read_table is deprecated, use read_csv instead.\n",
      "  da = read_table(trace_path, sep=' ')\n"
     ]
    },
    {
     "name": "stdout",
     "output_type": "stream",
     "text": [
      "Recorded 9 parameters to ./experiments/parameters/LSTMGAN-BS56LR0.01GR10SeqLen30Sepsis_0.npy\n",
      "1\t223.01\t1.2048\t0.9540\tNA\tNA\t NA\t NA\n",
      "2\t322.46\t1.1642\t0.9783\t0.39746\t185\t NA\t NA\n",
      "3\t390.72\t0.8517\t1.8070\tNA\tNA\t NA\t NA\n",
      "4\t483.51\t1.4790\t0.5836\t0.39635\t185\t NA\t NA\n",
      "5\t560.70\t2.6053\t0.2295\tNA\tNA\t NA\t NA\n",
      "6\t660.57\t1.2962\t0.8075\t0.13835\t76\t NA\t NA\n",
      "7\t728.02\t1.2162\t0.9228\tNA\tNA\t NA\t NA\n",
      "8\t827.27\t1.1156\t1.0668\t0.27999\t159\t NA\t NA\n",
      "9\t895.80\t1.3129\t0.7754\tNA\tNA\t NA\t NA\n",
      "10\t1000.78\t1.2741\t0.8205\t0.16170\t92\t NA\t NA\n",
      "11\t1075.50\t1.2120\t0.9130\tNA\tNA\t NA\t NA\n",
      "Recorded 9 parameters to ./experiments/parameters/LSTMGAN-BS56LR0.01GR10SeqLen30Sepsis_12.npy\n",
      "12\t1175.05\t1.0484\t1.1418\t0.67055\t218\t NA\t NA\n",
      "13\t1244.35\t1.2206\t0.8558\tNA\tNA\t NA\t NA\n",
      "Recorded 9 parameters to ./experiments/parameters/LSTMGAN-BS56LR0.01GR10SeqLen30Sepsis_14.npy\n",
      "14\t1343.21\t1.3030\t0.7364\t0.30228\t135\t NA\t NA\n",
      "15\t1415.62\t1.3210\t0.7317\tNA\tNA\t NA\t NA\n",
      "16\t1521.89\t0.9037\t1.3495\t0.89417\t639\t NA\t NA\n",
      "17\t1591.47\t1.1885\t0.8183\tNA\tNA\t NA\t NA\n",
      "18\t1694.66\t0.6492\t1.8715\t0.78384\t495\t NA\t NA\n",
      "19\t1763.04\t0.9642\t1.1383\tNA\tNA\t NA\t NA\n",
      "20\t1869.33\t0.5249\t1.8830\t0.79373\t432\t NA\t NA\n",
      "21\t1941.17\t0.5117\t2.0077\tNA\tNA\t NA\t NA\n",
      "Recorded 9 parameters to ./experiments/parameters/LSTMGAN-BS56LR0.01GR10SeqLen30Sepsis_22.npy\n",
      "22\t2041.29\t1.0525\t1.2492\t0.15580\t189\t NA\t NA\n",
      "23\t2108.46\t0.8545\t1.4568\tNA\tNA\t NA\t NA\n",
      "Recorded 9 parameters to ./experiments/parameters/LSTMGAN-BS56LR0.01GR10SeqLen30Sepsis_24.npy\n",
      "24\t2204.66\t1.7127\t0.4605\t0.11113\t107\t NA\t NA\n",
      "25\t2280.79\t1.5175\t0.6626\tNA\tNA\t NA\t NA\n",
      "26\t2386.59\t1.4343\t0.7480\t0.18837\t87\t NA\t NA\n",
      "27\t2459.07\t1.2193\t0.7832\tNA\tNA\t NA\t NA\n",
      "28\t2562.48\t1.5151\t0.5784\t0.32083\t124\t NA\t NA\n",
      "29\t2628.84\t1.1614\t0.8773\tNA\tNA\t NA\t NA\n",
      "30\t2737.15\t1.0629\t0.9838\t0.18463\t155\t NA\t NA\n",
      "31\t2810.57\t0.9409\t0.9822\tNA\tNA\t NA\t NA\n",
      "32\t2916.40\t0.8343\t1.3444\t0.47660\t78\t NA\t NA\n",
      "33\t2987.08\t0.8909\t1.3162\tNA\tNA\t NA\t NA\n",
      "34\t3087.10\t0.7494\t1.6402\t0.37030\t134\t NA\t NA\n",
      "35\t3157.78\t1.5694\t0.6663\tNA\tNA\t NA\t NA\n",
      "36\t3259.90\t1.4344\t0.7258\t0.11841\t76\t NA\t NA\n",
      "37\t3328.67\t1.3812\t0.7163\tNA\tNA\t NA\t NA\n",
      "38\t3431.21\t1.0265\t0.8659\t0.23523\t97\t NA\t NA\n",
      "39\t3503.41\t0.8394\t1.2700\tNA\tNA\t NA\t NA\n",
      "40\t3614.72\t2.0508\t0.3546\t0.19999\t89\t NA\t NA\n",
      "41\t3686.94\t1.2094\t1.0069\tNA\tNA\t NA\t NA\n",
      "42\t3787.38\t1.1294\t1.0669\t0.35143\t77\t NA\t NA\n",
      "43\t3857.33\t1.2987\t0.7023\tNA\tNA\t NA\t NA\n",
      "44\t3958.60\t0.9369\t1.1979\t0.17250\t126\t NA\t NA\n",
      "45\t4031.07\t1.2354\t0.9331\tNA\tNA\t NA\t NA\n",
      "46\t4131.55\t1.1385\t0.9857\t0.20079\t84\t NA\t NA\n",
      "47\t4199.12\t1.2836\t0.8514\tNA\tNA\t NA\t NA\n",
      "48\t4301.61\t0.8895\t1.0727\t0.33263\t109\t NA\t NA\n",
      "49\t4369.18\t1.4233\t0.6324\tNA\tNA\t NA\t NA\n",
      "50\t4474.28\t1.4846\t0.7717\t0.11992\t75\t NA\t NA\n",
      "Recorded 9 parameters to ./experiments/parameters/LSTMGAN-BS56LR0.01GR10SeqLen30Sepsis_50.npy\n",
      "51\t4545.08\t1.2703\t0.7815\tNA\tNA\t NA\t NA\n",
      "52\t4647.30\t1.1951\t0.6611\t0.15868\t62\t NA\t NA\n",
      "53\t4714.81\t0.9072\t1.2103\tNA\tNA\t NA\t NA\n",
      "Recorded 9 parameters to ./experiments/parameters/LSTMGAN-BS56LR0.01GR10SeqLen30Sepsis_54.npy\n",
      "54\t4972.72\t1.2499\t0.7923\t0.00557\t56\t NA\t NA\n",
      "55\t5045.65\t1.0426\t1.1483\tNA\tNA\t NA\t NA\n",
      "56\t5151.16\t0.8270\t1.0980\t0.23710\t108\t NA\t NA\n",
      "57\t5219.00\t0.9213\t1.2243\tNA\tNA\t NA\t NA\n",
      "58\t5323.87\t1.3174\t0.8421\t0.11936\t66\t NA\t NA\n",
      "59\t5391.04\t1.3883\t0.6115\tNA\tNA\t NA\t NA\n",
      "60\t5503.37\t1.1171\t0.8625\t0.15918\t100\t NA\t NA\n",
      "61\t5576.08\t1.1969\t0.9562\tNA\tNA\t NA\t NA\n",
      "62\t5679.19\t1.3786\t0.7446\t0.20015\t90\t NA\t NA\n",
      "63\t5748.79\t0.8544\t1.2259\tNA\tNA\t NA\t NA\n",
      "64\t5854.05\t1.1474\t0.8588\t0.51349\t138\t NA\t NA\n",
      "65\t5930.18\t1.2742\t0.8093\tNA\tNA\t NA\t NA\n",
      "66\t6035.89\t1.1697\t0.9543\t0.31631\t80\t NA\t NA\n",
      "67\t6103.29\t1.5932\t0.7935\tNA\tNA\t NA\t NA\n",
      "68\t6212.45\t0.7814\t1.4219\t0.39557\t118\t NA\t NA\n",
      "69\t6282.45\t2.0087\t0.3350\tNA\tNA\t NA\t NA\n",
      "70\t6401.50\t2.3219\t0.5910\t0.27911\t89\t NA\t NA\n",
      "71\t6473.22\t1.2829\t0.8997\tNA\tNA\t NA\t NA\n",
      "72\t6573.50\t1.0931\t0.9211\t0.13262\t103\t NA\t NA\n",
      "73\t6647.32\t1.1299\t0.9266\tNA\tNA\t NA\t NA\n",
      "74\t6760.75\t0.7428\t1.0741\t0.53290\t165\t NA\t NA\n",
      "75\t6835.69\t1.0056\t1.1560\tNA\tNA\t NA\t NA\n",
      "76\t6950.83\t0.7860\t1.5247\t0.16138\t160\t NA\t NA\n",
      "77\t7021.92\t0.9335\t1.1018\tNA\tNA\t NA\t NA\n",
      "78\t7131.56\t1.8112\t0.4340\t0.40999\t195\t NA\t NA\n",
      "79\t7204.64\t1.2411\t0.9209\tNA\tNA\t NA\t NA\n",
      "80\t7313.71\t0.8768\t1.1887\t0.64239\t359\t NA\t NA\n",
      "81\t7389.72\t1.0255\t1.1113\tNA\tNA\t NA\t NA\n",
      "82\t7500.37\t1.3682\t0.7292\t0.06953\t126\t NA\t NA\n",
      "83\t7570.91\t0.7510\t1.4572\tNA\tNA\t NA\t NA\n",
      "84\t7678.75\t0.8505\t1.2861\t0.68860\t246\t NA\t NA\n",
      "85\t7753.32\t1.0878\t1.1319\tNA\tNA\t NA\t NA\n",
      "86\t7861.63\t1.0826\t1.2609\t0.34554\t160\t NA\t NA\n",
      "87\t7926.94\t1.2750\t0.9575\tNA\tNA\t NA\t NA\n",
      "88\t8031.99\t1.2879\t0.9782\t0.50006\t160\t NA\t NA\n",
      "89\t8105.00\t0.5648\t2.0068\tNA\tNA\t NA\t NA\n",
      "90\t8221.42\t1.2371\t0.9166\t0.56770\t172\t NA\t NA\n",
      "91\t8295.07\t1.1173\t1.0160\tNA\tNA\t NA\t NA\n",
      "92\t8401.94\t0.9589\t1.0522\t0.21239\t78\t NA\t NA\n",
      "93\t8469.70\t0.7818\t1.4605\tNA\tNA\t NA\t NA\n",
      "94\t8576.62\t1.0134\t1.1241\t0.15912\t109\t NA\t NA\n",
      "95\t8651.52\t0.9515\t1.1096\tNA\tNA\t NA\t NA\n",
      "96\t8758.69\t0.7168\t1.4208\t0.22933\t65\t NA\t NA\n",
      "97\t8830.90\t1.1428\t0.8743\tNA\tNA\t NA\t NA\n",
      "98\t8937.40\t0.9671\t1.2917\t0.30582\t221\t NA\t NA\n",
      "99\t9008.58\t0.8262\t1.3950\tNA\tNA\t NA\t NA\n",
      "100\t9115.99\t0.8266\t1.4688\t0.22041\t177\t NA\t NA\n",
      "Recorded 9 parameters to ./experiments/parameters/LSTMGAN-BS56LR0.01GR10SeqLen30Sepsis_100.npy\n",
      "101\t9192.07\t0.8900\t1.2472\tNA\tNA\t NA\t NA\n",
      "102\t9306.57\t0.9203\t1.1970\t0.15934\t69\t NA\t NA\n",
      "103\t9375.26\t0.8816\t1.3447\tNA\tNA\t NA\t NA\n",
      "104\t9483.31\t1.0459\t1.3378\t0.15935\t84\t NA\t NA\n",
      "105\t9559.22\t1.0459\t0.9503\tNA\tNA\t NA\t NA\n",
      "106\t9665.87\t1.0796\t0.9164\t0.14157\t77\t NA\t NA\n",
      "107\t9738.35\t0.9090\t1.3424\tNA\tNA\t NA\t NA\n",
      "108\t9898.03\t1.2074\t1.4408\t0.18441\t106\t NA\t NA\n",
      "109\t9969.07\t1.0623\t0.8342\tNA\tNA\t NA\t NA\n",
      "110\t10082.33\t1.1698\t1.1514\t0.16975\t145\t NA\t NA\n",
      "111\t10156.24\t0.8723\t1.2606\tNA\tNA\t NA\t NA\n",
      "112\t10263.36\t0.8771\t1.5054\t0.36057\t84\t NA\t NA\n",
      "113\t10333.62\t0.6682\t1.4152\tNA\tNA\t NA\t NA\n",
      "114\t10447.79\t0.9337\t1.0097\t0.06635\t74\t NA\t NA\n",
      "115\t10524.42\t1.1471\t0.6691\tNA\tNA\t NA\t NA\n",
      "116\t10634.59\t0.6767\t2.0842\t0.41432\t87\t NA\t NA\n",
      "117\t10705.24\t0.7879\t1.3183\tNA\tNA\t NA\t NA\n",
      "118\t10814.73\t1.2420\t0.8846\t0.23485\t72\t NA\t NA\n",
      "119\t10887.53\t1.0707\t0.7918\tNA\tNA\t NA\t NA\n",
      "Recorded 9 parameters to ./experiments/parameters/LSTMGAN-BS56LR0.01GR10SeqLen30Sepsis_119.npy\n"
     ]
    },
    {
     "data": {
      "text/plain": [
       "True"
      ]
     },
     "execution_count": 60,
     "metadata": {},
     "output_type": "execute_result"
    }
   ],
   "source": [
    "num_epochs=settings['num_epochs']\n",
    "use_time = settings['use_time']\n",
    "dp = settings['dp']\n",
    "shuffle = settings['shuffle']\n",
    "vis_real_indices = np.random.choice(len(samples['vali']), size=6)\n",
    "vis_real = np.float32(samples['vali'][vis_real_indices, :, :])\n",
    "#if not labels['vali'] is None:\n",
    "#    vis_real_labels = labels['vali'][vis_real_indices]\n",
    "#else:\n",
    "    #vis_real_labels = None\n",
    "vis_real_labels = None\n",
    "identifier = 'LSTMGAN-BS56LR0.01GR10SeqLen30Sepsis'\n",
    "plotting.save_plot_sample(vis_real, 0, identifier + '_real', n_samples=6, \n",
    "                           num_epochs=settings['num_epochs'])\n",
    "\n",
    "# for dp\n",
    "# target_eps = [0.125, 0.25, 0.5, 1, 2, 4, 8]\n",
    "# dp_trace = open('./experiments/traces/' + identifier + '.dptrace.txt', 'w')\n",
    "# dp_trace.write('epoch ' + ' eps' .join(map(str, target_eps)) + '\\n')\n",
    "\n",
    "trace = open('./experiments/traces/' + identifier + '.trace.txt', 'w')\n",
    "trace.write('epoch time D_loss G_loss mmd2 that pdf real_pdf\\n')\n",
    "\n",
    "# --- train --- #\n",
    "train_vars = ['batch_size', 'D_rounds', 'G_rounds', 'use_time', 'seq_length', \n",
    "              'latent_dim', 'num_generated_features', 'cond_dim', 'max_val', \n",
    "              'WGAN_clip', 'one_hot']\n",
    "train_settings = dict((k, settings[k]) for k in train_vars)\n",
    "\n",
    "\n",
    "t0 = time()\n",
    "best_epoch = 0\n",
    "print('epoch\\ttime\\tD_loss\\tG_loss\\tmmd2\\tthat\\tpdf_sample\\tpdf_real')\n",
    "for epoch in range(settings['num_epochs']):\n",
    "    \n",
    "    \n",
    "#     D_loss_curr, G_loss_curr = model.train_epoch(epoch, samples['train'], labels['train'],\n",
    "#                                         sess, Z, X, CG, CD, CS,\n",
    "#                                         D_loss, G_loss,\n",
    "#                                         D_solver, G_solver, \n",
    "#                                         **train_settings)\n",
    "\n",
    "    D_loss_curr, G_loss_curr = model.train_epoch(None, epoch, samples['train'], None,\n",
    "                                        sess, Z, X, None, None, None,\n",
    "                                        D_loss, G_loss,\n",
    "                                        D_solver, G_solver, \n",
    "                                        **train_settings)\n",
    "    # -- eval -- #\n",
    "    \n",
    "    # visualise plots of generated samples, with/without labels\n",
    "    if epoch % vis_freq == 0:\n",
    "        if CGAN:\n",
    "            vis_sample = sess.run(G_sample, feed_dict={Z: vis_Z, CG: vis_C})\n",
    "        else:\n",
    "            vis_sample = sess.run(G_sample, feed_dict={Z: vis_Z})\n",
    "        \n",
    "        one_hot = settings['one_hot']\n",
    "        predict_labels = settings['predict_labels']\n",
    "        resample_rate_in_min = None\n",
    "        multivariate_mnist = None\n",
    "        plotting.visualise_at_epoch(vis_sample, \"\", \n",
    "                predict_labels, one_hot, epoch, identifier, num_epochs,\n",
    "                resample_rate_in_min, multivariate_mnist, seq_length, labels=vis_C)\n",
    "        \n",
    "    # compute mmd2 and, if available, prob density\n",
    "    if epoch % eval_freq == 0:\n",
    "        \n",
    "        ## how many samples to evaluate with?\n",
    "        eval_Z = model.sample_Z(eval_size, seq_length, latent_dim, use_time)\n",
    "#         if 'eICU_task' in data:\n",
    "#             eval_C = labels['vali'][np.random.choice(labels['vali'].shape[0], eval_size), :]\n",
    "#         else:\n",
    "        max_val = None\n",
    "        eval_C = model.sample_C(eval_size, cond_dim, max_val, one_hot)\n",
    "        eval_sample = np.empty(shape=(eval_size, seq_length, num_signals))\n",
    "        for i in range(batch_multiplier):\n",
    "            if CGAN:\n",
    "                eval_sample[i*batch_size:(i+1)*batch_size, :, :] = sess.run(G_sample, feed_dict={Z: eval_Z[i*batch_size:(i+1)*batch_size], CG: eval_C[i*batch_size:(i+1)*batch_size]})\n",
    "            else:\n",
    "                eval_sample[i*batch_size:(i+1)*batch_size, :, :] = sess.run(G_sample, feed_dict={Z: eval_Z[i*batch_size:(i+1)*batch_size]})\n",
    "        eval_sample = np.float32(eval_sample)\n",
    "        eval_real = np.float32(samples['vali'][np.random.choice(len(samples['vali']), size=batch_multiplier*batch_size), :, :])\n",
    "       \n",
    "        eval_eval_real = eval_real[:eval_eval_size]\n",
    "        eval_test_real = eval_real[eval_eval_size:]\n",
    "        eval_eval_sample = eval_sample[:eval_eval_size]\n",
    "        eval_test_sample = eval_sample[eval_eval_size:]\n",
    "        \n",
    "        ## MMD\n",
    "        # reset ADAM variables\n",
    "        sess.run(tf.initialize_variables(sigma_opt_vars))\n",
    "        sigma_iter = 0\n",
    "        that_change = sigma_opt_thresh*2\n",
    "        old_that = 0\n",
    "        while that_change > sigma_opt_thresh and sigma_iter < sigma_opt_iter:\n",
    "            new_sigma, that_np, _ = sess.run([sigma, that, sigma_solver], feed_dict={eval_real_PH: eval_eval_real, eval_sample_PH: eval_eval_sample})\n",
    "            that_change = np.abs(that_np - old_that)\n",
    "            old_that = that_np\n",
    "            sigma_iter += 1\n",
    "        opt_sigma = sess.run(sigma)\n",
    "        mmd2, that_np = sess.run(mix_rbf_mmd2_and_ratio(eval_test_real, eval_test_sample,biased=False, sigmas=sigma))\n",
    "        \n",
    "        ## save parameters\n",
    "        if mmd2 < best_mmd2_so_far and epoch > 10:\n",
    "            best_epoch = epoch\n",
    "            best_mmd2_so_far = mmd2\n",
    "            model.dump_parameters(identifier + '_' + str(epoch), sess)\n",
    "        pdf = None\n",
    "        ## prob density (if available)\n",
    "        if not pdf is None:\n",
    "            pdf_sample = np.mean(pdf(eval_sample[:, :, 0]))\n",
    "            pdf_real = np.mean(pdf(eval_real[:, :, 0]))\n",
    "        else:\n",
    "            pdf_sample = 'NA'\n",
    "            pdf_real = 'NA'\n",
    "    else:\n",
    "        # report nothing this epoch\n",
    "        mmd2 = 'NA'\n",
    "        #that = 'NA'\n",
    "        that_np = 'NA'\n",
    "        pdf_sample = 'NA'\n",
    "        pdf_real = 'NA'\n",
    "    \n",
    "#     ## get 'spent privacy'\n",
    "#     if settings['dp']:\n",
    "#         spent_eps_deltas = priv_accountant.get_privacy_spent(sess, target_eps=target_eps)\n",
    "#         # get the moments\n",
    "#         deltas = []\n",
    "#         for (spent_eps, spent_delta) in spent_eps_deltas:\n",
    "#             deltas.append(spent_delta)\n",
    "#         dp_trace.write(str(epoch) + ' ' + ' '.join(map(str, deltas)) + '\\n')\n",
    "#         if epoch % 10 == 0: dp_trace.flush()\n",
    "    \n",
    "    ## print\n",
    "    t = time() - t0\n",
    "    try:\n",
    "        print('%d\\t%.2f\\t%.4f\\t%.4f\\t%.5f\\t%.0f\\t %s\\t %s' % (epoch, t, D_loss_curr, G_loss_curr, mmd2, that_np, pdf_sample, pdf_real))\n",
    "    except TypeError:       # mmd2 is NA (format as strings)\n",
    "        print('%d\\t%.2f\\t%.4f\\t%.4f\\t%s\\t%s\\t %s\\t %s' % (epoch, t, D_loss_curr, G_loss_curr, mmd2, that_np, pdf_sample, pdf_real))\n",
    "\n",
    "    ## save trace\n",
    "    trace.write(' '.join(map(str, [epoch, t, D_loss_curr, G_loss_curr, mmd2, that_np, pdf_sample, pdf_real])) + '\\n')\n",
    "    if epoch % 10 == 0: \n",
    "        trace.flush()\n",
    "        plotting.plot_trace(identifier, xmax=num_epochs, dp=dp)\n",
    "\n",
    "    if shuffle:     # shuffle the training data \n",
    "        perm = np.random.permutation(samples['train'].shape[0])\n",
    "        samples['train'] = samples['train'][perm]\n",
    "#         if labels['train'] is not None:\n",
    "#             labels['train'] = labels['train'][perm]\n",
    "    \n",
    "    if epoch % 50 == 0:\n",
    "        model.dump_parameters(identifier + '_' + str(epoch), sess)\n",
    "\n",
    "trace.flush()\n",
    "plotting.plot_trace(identifier, xmax=num_epochs, dp=dp)\n",
    "model.dump_parameters(identifier + '_' + str(epoch), sess)\n",
    "\n",
    "## after-the-fact evaluation\n",
    "#n_test = vali.shape[0]      # using validation set for now TODO\n",
    "#n_batches_for_test = floor(n_test/batch_size)\n",
    "#n_test_eval = n_batches_for_test*batch_size\n",
    "#test_sample = np.empty(shape=(n_test_eval, seq_length, num_signals))\n",
    "#test_Z = model.sample_Z(n_test_eval, seq_length, latent_dim, use_time)\n",
    "#for i in range(n_batches_for_test):\n",
    "#    test_sample[i*batch_size:(i+1)*batch_size, :, :] = sess.run(G_sample, feed_dict={Z: test_Z[i*batch_size:(i+1)*batch_size]})\n",
    "#test_sample = np.float32(test_sample)\n",
    "#test_real = np.float32(vali[np.random.choice(n_test, n_test_eval, replace=False), :, :])\n",
    "## we can only get samples in the size of the batch...\n",
    "#heuristic_sigma = median_pairwise_distance(test_real, test_sample)\n",
    "#test_mmd2, that = sess.run(mix_rbf_mmd2_and_ratio(test_real, test_sample, sigmas=heuristic_sigma, biased=False))\n",
    "##print(test_mmd2, that)"
   ]
  },
  {
   "cell_type": "code",
   "execution_count": 61,
   "metadata": {
    "collapsed": false
   },
   "outputs": [
    {
     "name": "stdout",
     "output_type": "stream",
     "text": [
      "(2189, 30, 5)\n",
      "(438, 30, 5)\n"
     ]
    }
   ],
   "source": [
    "print(samples['train'].shape)\n",
    "print(samples['vali'].shape)"
   ]
  },
  {
   "cell_type": "code",
   "execution_count": 62,
   "metadata": {
    "collapsed": false
   },
   "outputs": [],
   "source": [
    "real_data = np.vstack((samples['train'],samples['vali']))\n",
    "np.save('./data/'+identifier+'real_data',real_data)"
   ]
  },
  {
   "cell_type": "code",
   "execution_count": 63,
   "metadata": {
    "collapsed": false
   },
   "outputs": [],
   "source": [
    "real_data = np.load('./data/'+identifier+'real_data.npy')"
   ]
  },
  {
   "cell_type": "code",
   "execution_count": 64,
   "metadata": {
    "collapsed": false
   },
   "outputs": [
    {
     "data": {
      "text/plain": [
       "(2627, 30, 5)"
      ]
     },
     "execution_count": 64,
     "metadata": {},
     "output_type": "execute_result"
    }
   ],
   "source": [
    "real_data.shape"
   ]
  },
  {
   "cell_type": "code",
   "execution_count": 65,
   "metadata": {
    "collapsed": false
   },
   "outputs": [
    {
     "data": {
      "text/plain": [
       "array([[-0.97269737, -0.03553466,  1.06816246, -0.0244081 , -1.07341568],\n",
       "       [-0.592707  , -0.80384368,  0.50127727, -0.0244081 , -1.07341568],\n",
       "       [-0.70127568, -0.61176643, -0.06560791, -0.0244081 , -1.07341568],\n",
       "       [-0.592707  , -0.41968917,  0.78471986, -0.0244081 , -1.07341568],\n",
       "       [-0.97269737, -0.80384368,  1.06816246, -0.0244081 , -1.07341568],\n",
       "       [-0.75556002, -0.61176643,  0.21783468, -0.0244081 , -1.07341568],\n",
       "       [-1.08126605, -0.41968917,  0.21783468, -0.0244081 , -1.07341568],\n",
       "       [-1.13555038, -0.61176643,  0.78471986, -0.0244081 , -1.07341568],\n",
       "       [-1.18983472, -0.61176643,  0.50127727, -0.0244081 , -1.07341568],\n",
       "       [ 0.1129894 ,  0.73277437,  0.50127727, -0.0244081 , -1.07341568],\n",
       "       [-1.18983472,  1.50108339,  0.21783468, -0.0244081 , -1.07341568],\n",
       "       [-1.2984034 , -0.61176643,  1.06816246, -0.0244081 , -1.07341568],\n",
       "       [-1.02698171,  0.1565426 ,  1.06816246, -0.0244081 , -1.07341568],\n",
       "       [-1.02698171, -0.80384368,  1.06816246, -0.0244081 , -1.07341568],\n",
       "       [-1.08126605, -0.80384368,  1.06816246, -0.0244081 , -1.07341568],\n",
       "       [-0.10414796,  2.26939241,  0.78471986, -0.0244081 , -1.07341568],\n",
       "       [-0.48413833, -0.99592094,  1.06816246, -0.0244081 , -1.07341568],\n",
       "       [-0.97269737, -0.22761191,  1.06816246, -0.0244081 , -1.07341568],\n",
       "       [-0.70127568, -0.80384368,  1.06816246, -0.0244081 , -1.07341568],\n",
       "       [-0.91841303, -0.80384368,  1.06816246, -0.0244081 , -1.07341568],\n",
       "       [-0.75556002, -0.99592094,  1.06816246, -0.0244081 , -1.07341568],\n",
       "       [-0.10414796, -0.41968917,  0.78471986, -0.0244081 , -1.07341568],\n",
       "       [ 0.00442072, -1.38007545,  0.78471986, -0.0244081 , -1.07341568],\n",
       "       [-0.26700097, -0.99592094,  0.78471986, -0.0244081 , -1.07341568],\n",
       "       [-0.48413833, -0.80384368,  0.50127727, -0.0244081 , -1.07341568],\n",
       "       [-0.21271663,  0.34861985, -0.06560791, -0.0244081 , -1.07341568],\n",
       "       [-0.592707  , -0.41968917, -0.06560791, -0.0244081 , -1.07341568],\n",
       "       [-0.26700097, -0.41968917, -0.06560791, -0.0244081 , -1.07341568],\n",
       "       [-0.10414796, -0.41968917, -0.06560791, -0.0244081 , -1.07341568],\n",
       "       [ 0.71011712,  0.92485162, -0.06560791, -0.0244081 , -1.07341568]])"
      ]
     },
     "execution_count": 65,
     "metadata": {},
     "output_type": "execute_result"
    }
   ],
   "source": [
    "real_data[0]"
   ]
  },
  {
   "cell_type": "code",
   "execution_count": 66,
   "metadata": {
    "collapsed": false
   },
   "outputs": [
    {
     "data": {
      "text/plain": [
       "(2627, 30, 5)"
      ]
     },
     "execution_count": 66,
     "metadata": {},
     "output_type": "execute_result"
    }
   ],
   "source": [
    "deNorm_real_data = de_normalise_data(real_data,mean,std)\n",
    "deNorm_real_data.shape"
   ]
  },
  {
   "cell_type": "code",
   "execution_count": 67,
   "metadata": {
    "collapsed": false
   },
   "outputs": [],
   "source": [
    "#deNorm_real_data[0]"
   ]
  },
  {
   "cell_type": "code",
   "execution_count": 68,
   "metadata": {
    "collapsed": true
   },
   "outputs": [],
   "source": [
    "np.save('./data/'+identifier+'deNorm_real_data',deNorm_real_data)"
   ]
  },
  {
   "cell_type": "code",
   "execution_count": 69,
   "metadata": {
    "collapsed": false
   },
   "outputs": [
    {
     "data": {
      "text/plain": [
       "(2627, 30, 5)"
      ]
     },
     "execution_count": 69,
     "metadata": {},
     "output_type": "execute_result"
    }
   ],
   "source": [
    "deNorm_real_data = np.load('./data/'+identifier+'deNorm_real_data.npy')\n",
    "deNorm_real_data.shape"
   ]
  },
  {
   "cell_type": "code",
   "execution_count": 70,
   "metadata": {
    "collapsed": false
   },
   "outputs": [],
   "source": [
    "#75-25 train test split\n",
    "n_samples_fake = samples['train'].shape[0]\n",
    "n_batches_for_fake = floor(n_samples_fake/settings['batch_size'])\n",
    "n_test_eval = n_batches_for_fake*settings['batch_size']\n",
    "test_sample = np.empty(shape=(n_test_eval, seq_length, num_signals))\n",
    "for i in range(n_batches_for_fake):\n",
    "    fake_Z = model.sample_Z(settings['batch_size'], seq_length, latent_dim, use_time)\n",
    "    test_sample[i*settings['batch_size']:(i+1)*settings['batch_size'], :, :] = sess.run(G_sample, feed_dict={Z: fake_Z})"
   ]
  },
  {
   "cell_type": "code",
   "execution_count": 71,
   "metadata": {
    "collapsed": false
   },
   "outputs": [
    {
     "data": {
      "text/plain": [
       "(2184, 30, 5)"
      ]
     },
     "execution_count": 71,
     "metadata": {},
     "output_type": "execute_result"
    }
   ],
   "source": [
    "fake_data = test_sample\n",
    "fake_data.shape"
   ]
  },
  {
   "cell_type": "code",
   "execution_count": 72,
   "metadata": {
    "collapsed": true
   },
   "outputs": [],
   "source": [
    "np.save('./data/'+identifier+'fake_data',fake_data)"
   ]
  },
  {
   "cell_type": "code",
   "execution_count": 73,
   "metadata": {
    "collapsed": false
   },
   "outputs": [
    {
     "data": {
      "text/plain": [
       "(2184, 30, 5)"
      ]
     },
     "execution_count": 73,
     "metadata": {},
     "output_type": "execute_result"
    }
   ],
   "source": [
    "fake_data = np.load('./data/'+identifier+'fake_data.npy')\n",
    "fake_data.shape"
   ]
  },
  {
   "cell_type": "code",
   "execution_count": 74,
   "metadata": {
    "collapsed": false
   },
   "outputs": [
    {
     "data": {
      "text/plain": [
       "(2184, 30, 5)"
      ]
     },
     "execution_count": 74,
     "metadata": {},
     "output_type": "execute_result"
    }
   ],
   "source": [
    "deNorm_fake_data = de_normalise_data(fake_data,mean,std)\n",
    "deNorm_fake_data.shape"
   ]
  },
  {
   "cell_type": "code",
   "execution_count": 75,
   "metadata": {
    "collapsed": false
   },
   "outputs": [],
   "source": [
    "#deNorm_fake_data[0]"
   ]
  },
  {
   "cell_type": "code",
   "execution_count": 76,
   "metadata": {
    "collapsed": true
   },
   "outputs": [],
   "source": [
    "np.save('./data/'+identifier+'deNorm_fake_data',deNorm_fake_data)"
   ]
  },
  {
   "cell_type": "code",
   "execution_count": 77,
   "metadata": {
    "collapsed": false
   },
   "outputs": [
    {
     "data": {
      "text/plain": [
       "(2184, 30, 5)"
      ]
     },
     "execution_count": 77,
     "metadata": {},
     "output_type": "execute_result"
    }
   ],
   "source": [
    "deNorm_fake_data = np.load('./data/'+identifier+'deNorm_fake_data.npy')\n",
    "deNorm_fake_data.shape"
   ]
  },
  {
   "cell_type": "code",
   "execution_count": null,
   "metadata": {
    "collapsed": false
   },
   "outputs": [],
   "source": [
    "#model.generator.save(identifier+'.h5')"
   ]
  },
  {
   "cell_type": "code",
   "execution_count": null,
   "metadata": {
    "collapsed": true
   },
   "outputs": [],
   "source": [
    "#Generate Data"
   ]
  },
  {
   "cell_type": "code",
   "execution_count": null,
   "metadata": {
    "collapsed": false
   },
   "outputs": [],
   "source": [
    "# eval_Z = model.sample_Z(56, seq_length, latent_dim, use_time)"
   ]
  },
  {
   "cell_type": "code",
   "execution_count": null,
   "metadata": {
    "collapsed": false
   },
   "outputs": [],
   "source": [
    "# eval_Z.shape"
   ]
  },
  {
   "cell_type": "code",
   "execution_count": null,
   "metadata": {
    "collapsed": false
   },
   "outputs": [],
   "source": []
  },
  {
   "cell_type": "code",
   "execution_count": null,
   "metadata": {
    "collapsed": false
   },
   "outputs": [],
   "source": []
  },
  {
   "cell_type": "code",
   "execution_count": null,
   "metadata": {
    "collapsed": false
   },
   "outputs": [],
   "source": []
  },
  {
   "cell_type": "code",
   "execution_count": null,
   "metadata": {
    "collapsed": false
   },
   "outputs": [],
   "source": []
  },
  {
   "cell_type": "code",
   "execution_count": null,
   "metadata": {
    "collapsed": false
   },
   "outputs": [],
   "source": [
    "# eval_sample = sess.run(G_sample, feed_dict={Z: eval_Z})\n",
    "# eval_sample = np.float32(eval_sample)"
   ]
  },
  {
   "cell_type": "code",
   "execution_count": null,
   "metadata": {
    "collapsed": false
   },
   "outputs": [],
   "source": [
    "# eval_sample[0]"
   ]
  },
  {
   "cell_type": "code",
   "execution_count": null,
   "metadata": {
    "collapsed": false
   },
   "outputs": [],
   "source": [
    "# nvidia-smi"
   ]
  },
  {
   "cell_type": "code",
   "execution_count": null,
   "metadata": {
    "collapsed": false
   },
   "outputs": [],
   "source": [
    "# clip_ops = []\n",
    "# for var in discriminator_vars:\n",
    "#     clip_bounds = [-.01, .01]\n",
    "#     clip_ops.append(\n",
    "#         tf.assign(var, tf.clip_by_value(var, clip_bounds[0], clip_bounds[1]))\n",
    "#     )\n",
    "# clip_disc_weights = tf.group(*clip_ops)"
   ]
  },
  {
   "cell_type": "code",
   "execution_count": null,
   "metadata": {
    "collapsed": true
   },
   "outputs": [],
   "source": [
    "# clip_disc_weights"
   ]
  },
  {
   "cell_type": "code",
   "execution_count": null,
   "metadata": {
    "collapsed": true
   },
   "outputs": [],
   "source": []
  },
  {
   "cell_type": "code",
   "execution_count": null,
   "metadata": {
    "collapsed": true
   },
   "outputs": [],
   "source": []
  }
 ],
 "metadata": {
  "kernelspec": {
   "display_name": "Python 3",
   "language": "python",
   "name": "python3"
  },
  "language_info": {
   "codemirror_mode": {
    "name": "ipython",
    "version": 3
   },
   "file_extension": ".py",
   "mimetype": "text/x-python",
   "name": "python",
   "nbconvert_exporter": "python",
   "pygments_lexer": "ipython3",
   "version": "3.5.4"
  }
 },
 "nbformat": 4,
 "nbformat_minor": 0
}
