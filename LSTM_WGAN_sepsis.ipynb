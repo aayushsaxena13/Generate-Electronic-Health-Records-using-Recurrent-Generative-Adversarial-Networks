{
 "cells": [
  {
   "cell_type": "code",
   "execution_count": 1,
   "metadata": {
    "collapsed": true
   },
   "outputs": [],
   "source": [
    "#Uninstalling scikit-image, updating dask, and reinstalling scikit-image fixed it.\n",
    "#conda upgrade ipykernel\n",
    "#conda install tornado=4.5.3\n",
    "#conda install -c anaconda toolz"
   ]
  },
  {
   "cell_type": "code",
   "execution_count": null,
   "metadata": {
    "collapsed": false
   },
   "outputs": [],
   "source": []
  },
  {
   "cell_type": "code",
   "execution_count": 2,
   "metadata": {
    "collapsed": true
   },
   "outputs": [],
   "source": [
    "import pymysql\n",
    "import pandas as pd\n",
    "import numpy as np\n",
    "pd.set_option('display.max_rows', 500)\n",
    "import tensorflow as tf"
   ]
  },
  {
   "cell_type": "code",
   "execution_count": 3,
   "metadata": {
    "collapsed": false
   },
   "outputs": [],
   "source": [
    "conn = pymysql.connect(user='asaxena6', password='', host='127.0.0.1', database = 'cchs_nov16')"
   ]
  },
  {
   "cell_type": "code",
   "execution_count": 4,
   "metadata": {
    "collapsed": false
   },
   "outputs": [
    {
     "data": {
      "text/plain": [
       "'SELECT VisitEventID, VisitIdentifier, PatientIdentifier, EventTimeKey,         MinutesFromArrival, HeartRate, RespiratoryRate, Temperature, SystolicBP,         WBC, Bands, SedRate, CReactiveProtein, Procalcitonin, DiastolicBP, Platelet,         PulseOx, FIO2, MAP, OxygenSource, BUN, Lactate, Creatinine, BiliRubin,         CurrentLocationTypeCode from cchs_nov16.Shock_Infected order by PatientIdentifier, EventTimeKey;'"
      ]
     },
     "execution_count": 4,
     "metadata": {},
     "output_type": "execute_result"
    }
   ],
   "source": [
    "query = \"SELECT VisitEventID, VisitIdentifier, PatientIdentifier, EventTimeKey,\\\n",
    "         MinutesFromArrival, HeartRate, RespiratoryRate, Temperature, SystolicBP,\\\n",
    "         WBC, Bands, SedRate, CReactiveProtein, Procalcitonin, DiastolicBP, Platelet,\\\n",
    "         PulseOx, FIO2, MAP, OxygenSource, BUN, Lactate, Creatinine, BiliRubin,\\\n",
    "         CurrentLocationTypeCode from cchs_nov16.Shock_Infected order by PatientIdentifier, EventTimeKey;\"\n",
    "query"
   ]
  },
  {
   "cell_type": "code",
   "execution_count": 5,
   "metadata": {
    "collapsed": true
   },
   "outputs": [],
   "source": [
    "pd_shock = pd.read_sql(query, conn)"
   ]
  },
  {
   "cell_type": "code",
   "execution_count": 6,
   "metadata": {
    "collapsed": true
   },
   "outputs": [],
   "source": [
    "all_features = ['PatientIdentifier','VisitIdentifier','HeartRate','RespiratoryRate','PulseOx','SystolicBP','Temperature']"
   ]
  },
  {
   "cell_type": "code",
   "execution_count": 7,
   "metadata": {
    "collapsed": false
   },
   "outputs": [
    {
     "data": {
      "text/html": [
       "<div>\n",
       "<style scoped>\n",
       "    .dataframe tbody tr th:only-of-type {\n",
       "        vertical-align: middle;\n",
       "    }\n",
       "\n",
       "    .dataframe tbody tr th {\n",
       "        vertical-align: top;\n",
       "    }\n",
       "\n",
       "    .dataframe thead th {\n",
       "        text-align: right;\n",
       "    }\n",
       "</style>\n",
       "<table border=\"1\" class=\"dataframe\">\n",
       "  <thead>\n",
       "    <tr style=\"text-align: right;\">\n",
       "      <th></th>\n",
       "      <th>PatientIdentifier</th>\n",
       "      <th>VisitIdentifier</th>\n",
       "      <th>HeartRate</th>\n",
       "      <th>RespiratoryRate</th>\n",
       "      <th>PulseOx</th>\n",
       "      <th>SystolicBP</th>\n",
       "      <th>Temperature</th>\n",
       "    </tr>\n",
       "  </thead>\n",
       "  <tbody>\n",
       "    <tr>\n",
       "      <th>0</th>\n",
       "      <td>4</td>\n",
       "      <td>122033</td>\n",
       "      <td>NaN</td>\n",
       "      <td>NaN</td>\n",
       "      <td>NaN</td>\n",
       "      <td>NaN</td>\n",
       "      <td>NaN</td>\n",
       "    </tr>\n",
       "    <tr>\n",
       "      <th>1</th>\n",
       "      <td>4</td>\n",
       "      <td>122033</td>\n",
       "      <td>NaN</td>\n",
       "      <td>NaN</td>\n",
       "      <td>NaN</td>\n",
       "      <td>NaN</td>\n",
       "      <td>NaN</td>\n",
       "    </tr>\n",
       "    <tr>\n",
       "      <th>2</th>\n",
       "      <td>4</td>\n",
       "      <td>122033</td>\n",
       "      <td>85.0</td>\n",
       "      <td>16.0</td>\n",
       "      <td>94.0</td>\n",
       "      <td>147.0</td>\n",
       "      <td>36.4</td>\n",
       "    </tr>\n",
       "    <tr>\n",
       "      <th>3</th>\n",
       "      <td>4</td>\n",
       "      <td>122033</td>\n",
       "      <td>NaN</td>\n",
       "      <td>NaN</td>\n",
       "      <td>NaN</td>\n",
       "      <td>NaN</td>\n",
       "      <td>NaN</td>\n",
       "    </tr>\n",
       "    <tr>\n",
       "      <th>4</th>\n",
       "      <td>4</td>\n",
       "      <td>122033</td>\n",
       "      <td>88.0</td>\n",
       "      <td>14.0</td>\n",
       "      <td>100.0</td>\n",
       "      <td>NaN</td>\n",
       "      <td>NaN</td>\n",
       "    </tr>\n",
       "  </tbody>\n",
       "</table>\n",
       "</div>"
      ],
      "text/plain": [
       "   PatientIdentifier  VisitIdentifier  HeartRate  RespiratoryRate  PulseOx  \\\n",
       "0                  4           122033        NaN              NaN      NaN   \n",
       "1                  4           122033        NaN              NaN      NaN   \n",
       "2                  4           122033       85.0             16.0     94.0   \n",
       "3                  4           122033        NaN              NaN      NaN   \n",
       "4                  4           122033       88.0             14.0    100.0   \n",
       "\n",
       "   SystolicBP  Temperature  \n",
       "0         NaN          NaN  \n",
       "1         NaN          NaN  \n",
       "2       147.0         36.4  \n",
       "3         NaN          NaN  \n",
       "4         NaN          NaN  "
      ]
     },
     "execution_count": 7,
     "metadata": {},
     "output_type": "execute_result"
    }
   ],
   "source": [
    "pd_shock_rel = pd_shock[all_features]\n",
    "pd_shock_rel.head()"
   ]
  },
  {
   "cell_type": "code",
   "execution_count": 8,
   "metadata": {
    "collapsed": false
   },
   "outputs": [
    {
     "data": {
      "text/html": [
       "<div>\n",
       "<style scoped>\n",
       "    .dataframe tbody tr th:only-of-type {\n",
       "        vertical-align: middle;\n",
       "    }\n",
       "\n",
       "    .dataframe tbody tr th {\n",
       "        vertical-align: top;\n",
       "    }\n",
       "\n",
       "    .dataframe thead th {\n",
       "        text-align: right;\n",
       "    }\n",
       "</style>\n",
       "<table border=\"1\" class=\"dataframe\">\n",
       "  <thead>\n",
       "    <tr style=\"text-align: right;\">\n",
       "      <th></th>\n",
       "      <th>PatientIdentifier</th>\n",
       "      <th>VisitIdentifier</th>\n",
       "      <th>HeartRate</th>\n",
       "      <th>RespiratoryRate</th>\n",
       "      <th>PulseOx</th>\n",
       "      <th>SystolicBP</th>\n",
       "      <th>Temperature</th>\n",
       "    </tr>\n",
       "  </thead>\n",
       "  <tbody>\n",
       "    <tr>\n",
       "      <th>5313</th>\n",
       "      <td>887</td>\n",
       "      <td>120593</td>\n",
       "      <td>NaN</td>\n",
       "      <td>NaN</td>\n",
       "      <td>NaN</td>\n",
       "      <td>NaN</td>\n",
       "      <td>NaN</td>\n",
       "    </tr>\n",
       "    <tr>\n",
       "      <th>5314</th>\n",
       "      <td>887</td>\n",
       "      <td>120593</td>\n",
       "      <td>108.0</td>\n",
       "      <td>20.0</td>\n",
       "      <td>96.0</td>\n",
       "      <td>132.0</td>\n",
       "      <td>39.5</td>\n",
       "    </tr>\n",
       "    <tr>\n",
       "      <th>5315</th>\n",
       "      <td>887</td>\n",
       "      <td>120593</td>\n",
       "      <td>NaN</td>\n",
       "      <td>NaN</td>\n",
       "      <td>NaN</td>\n",
       "      <td>NaN</td>\n",
       "      <td>NaN</td>\n",
       "    </tr>\n",
       "    <tr>\n",
       "      <th>5316</th>\n",
       "      <td>887</td>\n",
       "      <td>120593</td>\n",
       "      <td>NaN</td>\n",
       "      <td>NaN</td>\n",
       "      <td>96.0</td>\n",
       "      <td>NaN</td>\n",
       "      <td>NaN</td>\n",
       "    </tr>\n",
       "    <tr>\n",
       "      <th>5317</th>\n",
       "      <td>887</td>\n",
       "      <td>120593</td>\n",
       "      <td>NaN</td>\n",
       "      <td>NaN</td>\n",
       "      <td>NaN</td>\n",
       "      <td>NaN</td>\n",
       "      <td>NaN</td>\n",
       "    </tr>\n",
       "  </tbody>\n",
       "</table>\n",
       "</div>"
      ],
      "text/plain": [
       "      PatientIdentifier  VisitIdentifier  HeartRate  RespiratoryRate  PulseOx  \\\n",
       "5313                887           120593        NaN              NaN      NaN   \n",
       "5314                887           120593      108.0             20.0     96.0   \n",
       "5315                887           120593        NaN              NaN      NaN   \n",
       "5316                887           120593        NaN              NaN     96.0   \n",
       "5317                887           120593        NaN              NaN      NaN   \n",
       "\n",
       "      SystolicBP  Temperature  \n",
       "5313         NaN          NaN  \n",
       "5314       132.0         39.5  \n",
       "5315         NaN          NaN  \n",
       "5316         NaN          NaN  \n",
       "5317         NaN          NaN  "
      ]
     },
     "execution_count": 8,
     "metadata": {},
     "output_type": "execute_result"
    }
   ],
   "source": [
    "pd_shock_rel[pd_shock_rel['PatientIdentifier'] == 887].head()"
   ]
  },
  {
   "cell_type": "code",
   "execution_count": 9,
   "metadata": {
    "collapsed": false
   },
   "outputs": [],
   "source": [
    "pd_shock_fill = pd_shock_rel.groupby(['PatientIdentifier','VisitIdentifier']).fillna(method='ffill').fillna(method='bfill')"
   ]
  },
  {
   "cell_type": "code",
   "execution_count": 10,
   "metadata": {
    "collapsed": false
   },
   "outputs": [
    {
     "data": {
      "text/html": [
       "<div>\n",
       "<style scoped>\n",
       "    .dataframe tbody tr th:only-of-type {\n",
       "        vertical-align: middle;\n",
       "    }\n",
       "\n",
       "    .dataframe tbody tr th {\n",
       "        vertical-align: top;\n",
       "    }\n",
       "\n",
       "    .dataframe thead th {\n",
       "        text-align: right;\n",
       "    }\n",
       "</style>\n",
       "<table border=\"1\" class=\"dataframe\">\n",
       "  <thead>\n",
       "    <tr style=\"text-align: right;\">\n",
       "      <th></th>\n",
       "      <th>PatientIdentifier</th>\n",
       "      <th>VisitIdentifier</th>\n",
       "      <th>HeartRate</th>\n",
       "      <th>RespiratoryRate</th>\n",
       "      <th>PulseOx</th>\n",
       "      <th>SystolicBP</th>\n",
       "      <th>Temperature</th>\n",
       "    </tr>\n",
       "  </thead>\n",
       "  <tbody>\n",
       "    <tr>\n",
       "      <th>0</th>\n",
       "      <td>4</td>\n",
       "      <td>122033</td>\n",
       "      <td>85.0</td>\n",
       "      <td>16.0</td>\n",
       "      <td>94.0</td>\n",
       "      <td>147.0</td>\n",
       "      <td>36.4</td>\n",
       "    </tr>\n",
       "    <tr>\n",
       "      <th>1</th>\n",
       "      <td>4</td>\n",
       "      <td>122033</td>\n",
       "      <td>85.0</td>\n",
       "      <td>16.0</td>\n",
       "      <td>94.0</td>\n",
       "      <td>147.0</td>\n",
       "      <td>36.4</td>\n",
       "    </tr>\n",
       "    <tr>\n",
       "      <th>2</th>\n",
       "      <td>4</td>\n",
       "      <td>122033</td>\n",
       "      <td>85.0</td>\n",
       "      <td>16.0</td>\n",
       "      <td>94.0</td>\n",
       "      <td>147.0</td>\n",
       "      <td>36.4</td>\n",
       "    </tr>\n",
       "    <tr>\n",
       "      <th>3</th>\n",
       "      <td>4</td>\n",
       "      <td>122033</td>\n",
       "      <td>85.0</td>\n",
       "      <td>16.0</td>\n",
       "      <td>94.0</td>\n",
       "      <td>147.0</td>\n",
       "      <td>36.4</td>\n",
       "    </tr>\n",
       "    <tr>\n",
       "      <th>4</th>\n",
       "      <td>4</td>\n",
       "      <td>122033</td>\n",
       "      <td>88.0</td>\n",
       "      <td>14.0</td>\n",
       "      <td>100.0</td>\n",
       "      <td>147.0</td>\n",
       "      <td>36.4</td>\n",
       "    </tr>\n",
       "  </tbody>\n",
       "</table>\n",
       "</div>"
      ],
      "text/plain": [
       "   PatientIdentifier  VisitIdentifier  HeartRate  RespiratoryRate  PulseOx  \\\n",
       "0                  4           122033       85.0             16.0     94.0   \n",
       "1                  4           122033       85.0             16.0     94.0   \n",
       "2                  4           122033       85.0             16.0     94.0   \n",
       "3                  4           122033       85.0             16.0     94.0   \n",
       "4                  4           122033       88.0             14.0    100.0   \n",
       "\n",
       "   SystolicBP  Temperature  \n",
       "0       147.0         36.4  \n",
       "1       147.0         36.4  \n",
       "2       147.0         36.4  \n",
       "3       147.0         36.4  \n",
       "4       147.0         36.4  "
      ]
     },
     "execution_count": 10,
     "metadata": {},
     "output_type": "execute_result"
    }
   ],
   "source": [
    "pd_data = pd.concat([pd_shock_rel[['PatientIdentifier','VisitIdentifier']],pd_shock_fill],axis=1)\n",
    "pd_data.head()"
   ]
  },
  {
   "cell_type": "code",
   "execution_count": 11,
   "metadata": {
    "collapsed": false
   },
   "outputs": [
    {
     "data": {
      "text/html": [
       "<div>\n",
       "<style scoped>\n",
       "    .dataframe tbody tr th:only-of-type {\n",
       "        vertical-align: middle;\n",
       "    }\n",
       "\n",
       "    .dataframe tbody tr th {\n",
       "        vertical-align: top;\n",
       "    }\n",
       "\n",
       "    .dataframe thead th {\n",
       "        text-align: right;\n",
       "    }\n",
       "</style>\n",
       "<table border=\"1\" class=\"dataframe\">\n",
       "  <thead>\n",
       "    <tr style=\"text-align: right;\">\n",
       "      <th></th>\n",
       "      <th>PatientIdentifier</th>\n",
       "      <th>VisitIdentifier</th>\n",
       "      <th>HeartRate</th>\n",
       "      <th>RespiratoryRate</th>\n",
       "      <th>PulseOx</th>\n",
       "      <th>SystolicBP</th>\n",
       "      <th>Temperature</th>\n",
       "    </tr>\n",
       "  </thead>\n",
       "  <tbody>\n",
       "    <tr>\n",
       "      <th>5313</th>\n",
       "      <td>887</td>\n",
       "      <td>120593</td>\n",
       "      <td>108.0</td>\n",
       "      <td>20.0</td>\n",
       "      <td>96.0</td>\n",
       "      <td>132.0</td>\n",
       "      <td>39.5</td>\n",
       "    </tr>\n",
       "    <tr>\n",
       "      <th>5314</th>\n",
       "      <td>887</td>\n",
       "      <td>120593</td>\n",
       "      <td>108.0</td>\n",
       "      <td>20.0</td>\n",
       "      <td>96.0</td>\n",
       "      <td>132.0</td>\n",
       "      <td>39.5</td>\n",
       "    </tr>\n",
       "    <tr>\n",
       "      <th>5315</th>\n",
       "      <td>887</td>\n",
       "      <td>120593</td>\n",
       "      <td>108.0</td>\n",
       "      <td>20.0</td>\n",
       "      <td>96.0</td>\n",
       "      <td>132.0</td>\n",
       "      <td>39.5</td>\n",
       "    </tr>\n",
       "    <tr>\n",
       "      <th>5316</th>\n",
       "      <td>887</td>\n",
       "      <td>120593</td>\n",
       "      <td>108.0</td>\n",
       "      <td>20.0</td>\n",
       "      <td>96.0</td>\n",
       "      <td>132.0</td>\n",
       "      <td>39.5</td>\n",
       "    </tr>\n",
       "    <tr>\n",
       "      <th>5317</th>\n",
       "      <td>887</td>\n",
       "      <td>120593</td>\n",
       "      <td>108.0</td>\n",
       "      <td>20.0</td>\n",
       "      <td>96.0</td>\n",
       "      <td>132.0</td>\n",
       "      <td>39.5</td>\n",
       "    </tr>\n",
       "  </tbody>\n",
       "</table>\n",
       "</div>"
      ],
      "text/plain": [
       "      PatientIdentifier  VisitIdentifier  HeartRate  RespiratoryRate  PulseOx  \\\n",
       "5313                887           120593      108.0             20.0     96.0   \n",
       "5314                887           120593      108.0             20.0     96.0   \n",
       "5315                887           120593      108.0             20.0     96.0   \n",
       "5316                887           120593      108.0             20.0     96.0   \n",
       "5317                887           120593      108.0             20.0     96.0   \n",
       "\n",
       "      SystolicBP  Temperature  \n",
       "5313       132.0         39.5  \n",
       "5314       132.0         39.5  \n",
       "5315       132.0         39.5  \n",
       "5316       132.0         39.5  \n",
       "5317       132.0         39.5  "
      ]
     },
     "execution_count": 11,
     "metadata": {},
     "output_type": "execute_result"
    }
   ],
   "source": [
    "#THis patient has data for multiple visits\n",
    "pd_data[pd_data['PatientIdentifier'] == 887].head()"
   ]
  },
  {
   "cell_type": "code",
   "execution_count": 12,
   "metadata": {
    "collapsed": false
   },
   "outputs": [
    {
     "data": {
      "text/html": [
       "<div>\n",
       "<style scoped>\n",
       "    .dataframe tbody tr th:only-of-type {\n",
       "        vertical-align: middle;\n",
       "    }\n",
       "\n",
       "    .dataframe tbody tr th {\n",
       "        vertical-align: top;\n",
       "    }\n",
       "\n",
       "    .dataframe thead th {\n",
       "        text-align: right;\n",
       "    }\n",
       "</style>\n",
       "<table border=\"1\" class=\"dataframe\">\n",
       "  <thead>\n",
       "    <tr style=\"text-align: right;\">\n",
       "      <th></th>\n",
       "      <th>PatientIdentifier</th>\n",
       "      <th>VisitIdentifier</th>\n",
       "      <th>HeartRate</th>\n",
       "      <th>RespiratoryRate</th>\n",
       "      <th>PulseOx</th>\n",
       "      <th>SystolicBP</th>\n",
       "      <th>Temperature</th>\n",
       "    </tr>\n",
       "  </thead>\n",
       "  <tbody>\n",
       "    <tr>\n",
       "      <th>0</th>\n",
       "      <td>4</td>\n",
       "      <td>122033</td>\n",
       "      <td>85.0</td>\n",
       "      <td>16.0</td>\n",
       "      <td>94.0</td>\n",
       "      <td>147.0</td>\n",
       "      <td>36.4</td>\n",
       "    </tr>\n",
       "    <tr>\n",
       "      <th>4</th>\n",
       "      <td>4</td>\n",
       "      <td>122033</td>\n",
       "      <td>88.0</td>\n",
       "      <td>14.0</td>\n",
       "      <td>100.0</td>\n",
       "      <td>147.0</td>\n",
       "      <td>36.4</td>\n",
       "    </tr>\n",
       "    <tr>\n",
       "      <th>5</th>\n",
       "      <td>4</td>\n",
       "      <td>122033</td>\n",
       "      <td>124.0</td>\n",
       "      <td>16.0</td>\n",
       "      <td>100.0</td>\n",
       "      <td>147.0</td>\n",
       "      <td>36.4</td>\n",
       "    </tr>\n",
       "    <tr>\n",
       "      <th>8</th>\n",
       "      <td>4</td>\n",
       "      <td>122033</td>\n",
       "      <td>106.0</td>\n",
       "      <td>20.0</td>\n",
       "      <td>100.0</td>\n",
       "      <td>147.0</td>\n",
       "      <td>36.4</td>\n",
       "    </tr>\n",
       "    <tr>\n",
       "      <th>15</th>\n",
       "      <td>4</td>\n",
       "      <td>122033</td>\n",
       "      <td>104.0</td>\n",
       "      <td>20.0</td>\n",
       "      <td>100.0</td>\n",
       "      <td>147.0</td>\n",
       "      <td>36.4</td>\n",
       "    </tr>\n",
       "  </tbody>\n",
       "</table>\n",
       "</div>"
      ],
      "text/plain": [
       "    PatientIdentifier  VisitIdentifier  HeartRate  RespiratoryRate  PulseOx  \\\n",
       "0                   4           122033       85.0             16.0     94.0   \n",
       "4                   4           122033       88.0             14.0    100.0   \n",
       "5                   4           122033      124.0             16.0    100.0   \n",
       "8                   4           122033      106.0             20.0    100.0   \n",
       "15                  4           122033      104.0             20.0    100.0   \n",
       "\n",
       "    SystolicBP  Temperature  \n",
       "0        147.0         36.4  \n",
       "4        147.0         36.4  \n",
       "5        147.0         36.4  \n",
       "8        147.0         36.4  \n",
       "15       147.0         36.4  "
      ]
     },
     "execution_count": 12,
     "metadata": {},
     "output_type": "execute_result"
    }
   ],
   "source": [
    "pd_data_unique = pd_data.drop_duplicates(subset=all_features, keep=\"first\")\n",
    "pd_data_unique.head()"
   ]
  },
  {
   "cell_type": "code",
   "execution_count": 13,
   "metadata": {
    "collapsed": false
   },
   "outputs": [
    {
     "data": {
      "text/html": [
       "<div>\n",
       "<style scoped>\n",
       "    .dataframe tbody tr th:only-of-type {\n",
       "        vertical-align: middle;\n",
       "    }\n",
       "\n",
       "    .dataframe tbody tr th {\n",
       "        vertical-align: top;\n",
       "    }\n",
       "\n",
       "    .dataframe thead tr th {\n",
       "        text-align: left;\n",
       "    }\n",
       "\n",
       "    .dataframe thead tr:last-of-type th {\n",
       "        text-align: right;\n",
       "    }\n",
       "</style>\n",
       "<table border=\"1\" class=\"dataframe\">\n",
       "  <thead>\n",
       "    <tr>\n",
       "      <th></th>\n",
       "      <th>VisitIdentifier</th>\n",
       "      <th>HeartRate</th>\n",
       "      <th>RespiratoryRate</th>\n",
       "      <th>PulseOx</th>\n",
       "      <th>SystolicBP</th>\n",
       "      <th>Temperature</th>\n",
       "    </tr>\n",
       "    <tr>\n",
       "      <th></th>\n",
       "      <th>count</th>\n",
       "      <th>count</th>\n",
       "      <th>count</th>\n",
       "      <th>count</th>\n",
       "      <th>count</th>\n",
       "      <th>count</th>\n",
       "    </tr>\n",
       "    <tr>\n",
       "      <th>PatientIdentifier</th>\n",
       "      <th></th>\n",
       "      <th></th>\n",
       "      <th></th>\n",
       "      <th></th>\n",
       "      <th></th>\n",
       "      <th></th>\n",
       "    </tr>\n",
       "  </thead>\n",
       "  <tbody>\n",
       "    <tr>\n",
       "      <th>4</th>\n",
       "      <td>165</td>\n",
       "      <td>165</td>\n",
       "      <td>165</td>\n",
       "      <td>165</td>\n",
       "      <td>165</td>\n",
       "      <td>165</td>\n",
       "    </tr>\n",
       "    <tr>\n",
       "      <th>30</th>\n",
       "      <td>28</td>\n",
       "      <td>28</td>\n",
       "      <td>28</td>\n",
       "      <td>28</td>\n",
       "      <td>28</td>\n",
       "      <td>28</td>\n",
       "    </tr>\n",
       "    <tr>\n",
       "      <th>85</th>\n",
       "      <td>323</td>\n",
       "      <td>323</td>\n",
       "      <td>323</td>\n",
       "      <td>323</td>\n",
       "      <td>323</td>\n",
       "      <td>323</td>\n",
       "    </tr>\n",
       "    <tr>\n",
       "      <th>184</th>\n",
       "      <td>170</td>\n",
       "      <td>170</td>\n",
       "      <td>170</td>\n",
       "      <td>170</td>\n",
       "      <td>170</td>\n",
       "      <td>170</td>\n",
       "    </tr>\n",
       "    <tr>\n",
       "      <th>228</th>\n",
       "      <td>20</td>\n",
       "      <td>20</td>\n",
       "      <td>20</td>\n",
       "      <td>20</td>\n",
       "      <td>20</td>\n",
       "      <td>20</td>\n",
       "    </tr>\n",
       "  </tbody>\n",
       "</table>\n",
       "</div>"
      ],
      "text/plain": [
       "                  VisitIdentifier HeartRate RespiratoryRate PulseOx  \\\n",
       "                            count     count           count   count   \n",
       "PatientIdentifier                                                     \n",
       "4                             165       165             165     165   \n",
       "30                             28        28              28      28   \n",
       "85                            323       323             323     323   \n",
       "184                           170       170             170     170   \n",
       "228                            20        20              20      20   \n",
       "\n",
       "                  SystolicBP Temperature  \n",
       "                       count       count  \n",
       "PatientIdentifier                         \n",
       "4                        165         165  \n",
       "30                        28          28  \n",
       "85                       323         323  \n",
       "184                      170         170  \n",
       "228                       20          20  "
      ]
     },
     "execution_count": 13,
     "metadata": {},
     "output_type": "execute_result"
    }
   ],
   "source": [
    "pd_patient_group = pd_data_unique.groupby('PatientIdentifier').agg(['count'])\n",
    "pd_patient_group.head()"
   ]
  },
  {
   "cell_type": "code",
   "execution_count": 14,
   "metadata": {
    "collapsed": false
   },
   "outputs": [
    {
     "data": {
      "text/html": [
       "<div>\n",
       "<style scoped>\n",
       "    .dataframe tbody tr th:only-of-type {\n",
       "        vertical-align: middle;\n",
       "    }\n",
       "\n",
       "    .dataframe tbody tr th {\n",
       "        vertical-align: top;\n",
       "    }\n",
       "\n",
       "    .dataframe thead th {\n",
       "        text-align: right;\n",
       "    }\n",
       "</style>\n",
       "<table border=\"1\" class=\"dataframe\">\n",
       "  <thead>\n",
       "    <tr style=\"text-align: right;\">\n",
       "      <th></th>\n",
       "      <th>count</th>\n",
       "    </tr>\n",
       "  </thead>\n",
       "  <tbody>\n",
       "    <tr>\n",
       "      <th>count</th>\n",
       "      <td>2701.000000</td>\n",
       "    </tr>\n",
       "    <tr>\n",
       "      <th>mean</th>\n",
       "      <td>119.699371</td>\n",
       "    </tr>\n",
       "    <tr>\n",
       "      <th>std</th>\n",
       "      <td>159.303023</td>\n",
       "    </tr>\n",
       "    <tr>\n",
       "      <th>min</th>\n",
       "      <td>2.000000</td>\n",
       "    </tr>\n",
       "    <tr>\n",
       "      <th>25%</th>\n",
       "      <td>36.000000</td>\n",
       "    </tr>\n",
       "    <tr>\n",
       "      <th>50%</th>\n",
       "      <td>69.000000</td>\n",
       "    </tr>\n",
       "    <tr>\n",
       "      <th>75%</th>\n",
       "      <td>141.000000</td>\n",
       "    </tr>\n",
       "    <tr>\n",
       "      <th>max</th>\n",
       "      <td>2301.000000</td>\n",
       "    </tr>\n",
       "  </tbody>\n",
       "</table>\n",
       "</div>"
      ],
      "text/plain": [
       "             count\n",
       "count  2701.000000\n",
       "mean    119.699371\n",
       "std     159.303023\n",
       "min       2.000000\n",
       "25%      36.000000\n",
       "50%      69.000000\n",
       "75%     141.000000\n",
       "max    2301.000000"
      ]
     },
     "execution_count": 14,
     "metadata": {},
     "output_type": "execute_result"
    }
   ],
   "source": [
    "pd_patient_group['VisitIdentifier'].describe()"
   ]
  },
  {
   "cell_type": "code",
   "execution_count": 15,
   "metadata": {
    "collapsed": false
   },
   "outputs": [
    {
     "data": {
      "text/plain": [
       "2189"
      ]
     },
     "execution_count": 15,
     "metadata": {},
     "output_type": "execute_result"
    }
   ],
   "source": [
    "len(pd_patient_group[pd_patient_group['VisitIdentifier']['count'] >=30])\n",
    "#Choosing 30 as the sequence lenght so that we have sufficient data"
   ]
  },
  {
   "cell_type": "code",
   "execution_count": 16,
   "metadata": {
    "collapsed": false
   },
   "outputs": [
    {
     "data": {
      "text/plain": [
       "array([     4,     85,    184, ..., 119512, 119641, 119787])"
      ]
     },
     "execution_count": 16,
     "metadata": {},
     "output_type": "execute_result"
    }
   ],
   "source": [
    "# Get patients with records greater than 30\n",
    "pid = pd_patient_group[pd_patient_group['VisitIdentifier']['count'] >=30].index\n",
    "pid = np.array(pid)\n",
    "pid"
   ]
  },
  {
   "cell_type": "code",
   "execution_count": 17,
   "metadata": {
    "collapsed": false
   },
   "outputs": [
    {
     "data": {
      "text/plain": [
       "2189"
      ]
     },
     "execution_count": 17,
     "metadata": {},
     "output_type": "execute_result"
    }
   ],
   "source": [
    "len(pid)"
   ]
  },
  {
   "cell_type": "code",
   "execution_count": 18,
   "metadata": {
    "collapsed": false
   },
   "outputs": [
    {
     "data": {
      "text/plain": [
       "pandas.core.series.Series"
      ]
     },
     "execution_count": 18,
     "metadata": {},
     "output_type": "execute_result"
    }
   ],
   "source": [
    "type(pd_patient_group['VisitIdentifier']['count'])"
   ]
  },
  {
   "cell_type": "code",
   "execution_count": 19,
   "metadata": {
    "collapsed": false
   },
   "outputs": [
    {
     "data": {
      "text/plain": [
       "False"
      ]
     },
     "execution_count": 19,
     "metadata": {},
     "output_type": "execute_result"
    }
   ],
   "source": [
    "pd_data.isnull().values.any()"
   ]
  },
  {
   "cell_type": "code",
   "execution_count": 20,
   "metadata": {
    "collapsed": false
   },
   "outputs": [
    {
     "data": {
      "text/plain": [
       "2189"
      ]
     },
     "execution_count": 20,
     "metadata": {},
     "output_type": "execute_result"
    }
   ],
   "source": [
    "#Number of unique patients\n",
    "nUniquePatients = len(pid)\n",
    "nUniquePatients"
   ]
  },
  {
   "cell_type": "code",
   "execution_count": 21,
   "metadata": {
    "collapsed": false
   },
   "outputs": [
    {
     "data": {
      "text/html": [
       "<div>\n",
       "<style scoped>\n",
       "    .dataframe tbody tr th:only-of-type {\n",
       "        vertical-align: middle;\n",
       "    }\n",
       "\n",
       "    .dataframe tbody tr th {\n",
       "        vertical-align: top;\n",
       "    }\n",
       "\n",
       "    .dataframe thead th {\n",
       "        text-align: right;\n",
       "    }\n",
       "</style>\n",
       "<table border=\"1\" class=\"dataframe\">\n",
       "  <thead>\n",
       "    <tr style=\"text-align: right;\">\n",
       "      <th></th>\n",
       "      <th>PatientIdentifier</th>\n",
       "      <th>VisitIdentifier</th>\n",
       "      <th>HeartRate</th>\n",
       "      <th>RespiratoryRate</th>\n",
       "      <th>PulseOx</th>\n",
       "      <th>SystolicBP</th>\n",
       "      <th>Temperature</th>\n",
       "    </tr>\n",
       "  </thead>\n",
       "  <tbody>\n",
       "    <tr>\n",
       "      <th>283</th>\n",
       "      <td>4</td>\n",
       "      <td>122033</td>\n",
       "      <td>104.0</td>\n",
       "      <td>20.0</td>\n",
       "      <td>95.0</td>\n",
       "      <td>78.0</td>\n",
       "      <td>36.7</td>\n",
       "    </tr>\n",
       "    <tr>\n",
       "      <th>289</th>\n",
       "      <td>4</td>\n",
       "      <td>122033</td>\n",
       "      <td>96.0</td>\n",
       "      <td>22.0</td>\n",
       "      <td>96.0</td>\n",
       "      <td>78.0</td>\n",
       "      <td>36.7</td>\n",
       "    </tr>\n",
       "    <tr>\n",
       "      <th>290</th>\n",
       "      <td>4</td>\n",
       "      <td>122033</td>\n",
       "      <td>104.0</td>\n",
       "      <td>27.0</td>\n",
       "      <td>95.0</td>\n",
       "      <td>78.0</td>\n",
       "      <td>36.7</td>\n",
       "    </tr>\n",
       "    <tr>\n",
       "      <th>293</th>\n",
       "      <td>4</td>\n",
       "      <td>122033</td>\n",
       "      <td>110.0</td>\n",
       "      <td>24.0</td>\n",
       "      <td>93.0</td>\n",
       "      <td>78.0</td>\n",
       "      <td>36.7</td>\n",
       "    </tr>\n",
       "    <tr>\n",
       "      <th>294</th>\n",
       "      <td>4</td>\n",
       "      <td>122033</td>\n",
       "      <td>97.0</td>\n",
       "      <td>20.0</td>\n",
       "      <td>95.0</td>\n",
       "      <td>78.0</td>\n",
       "      <td>36.7</td>\n",
       "    </tr>\n",
       "  </tbody>\n",
       "</table>\n",
       "</div>"
      ],
      "text/plain": [
       "     PatientIdentifier  VisitIdentifier  HeartRate  RespiratoryRate  PulseOx  \\\n",
       "283                  4           122033      104.0             20.0     95.0   \n",
       "289                  4           122033       96.0             22.0     96.0   \n",
       "290                  4           122033      104.0             27.0     95.0   \n",
       "293                  4           122033      110.0             24.0     93.0   \n",
       "294                  4           122033       97.0             20.0     95.0   \n",
       "\n",
       "     SystolicBP  Temperature  \n",
       "283        78.0         36.7  \n",
       "289        78.0         36.7  \n",
       "290        78.0         36.7  \n",
       "293        78.0         36.7  \n",
       "294        78.0         36.7  "
      ]
     },
     "execution_count": 21,
     "metadata": {},
     "output_type": "execute_result"
    }
   ],
   "source": [
    "pd_data_latest_records = pd_data_unique[pd_data_unique['PatientIdentifier'].isin(pid)].groupby('PatientIdentifier').tail(30)\n",
    "pd_data_latest_records.head()"
   ]
  },
  {
   "cell_type": "code",
   "execution_count": null,
   "metadata": {
    "collapsed": false
   },
   "outputs": [],
   "source": []
  },
  {
   "cell_type": "code",
   "execution_count": 22,
   "metadata": {
    "collapsed": false
   },
   "outputs": [
    {
     "data": {
      "text/plain": [
       "{'D_rounds': 5,\n",
       " 'G_rounds': 1,\n",
       " 'WGAN_clip': True,\n",
       " 'batch_mean': False,\n",
       " 'batch_size': 28,\n",
       " 'batches_per_lot': 1,\n",
       " 'cond_dim': 0,\n",
       " 'data': 'eICU_task',\n",
       " 'dp': False,\n",
       " 'dp_sigma': 0.6,\n",
       " 'hidden_units_d': 100,\n",
       " 'hidden_units_g': 100,\n",
       " 'kappa': 1,\n",
       " 'l2norm_bound': 4,\n",
       " 'latent_dim': 10,\n",
       " 'learn_scale': False,\n",
       " 'learning_rate': 5e-05,\n",
       " 'max_val': 1,\n",
       " 'normalise': True,\n",
       " 'num_epochs': 100,\n",
       " 'num_generated_features': 5,\n",
       " 'num_samples': 2189,\n",
       " 'num_signals': 5,\n",
       " 'one_hot': None,\n",
       " 'predict_labels': False,\n",
       " 'seq_length': 30,\n",
       " 'shuffle': True,\n",
       " 'use_time': False}"
      ]
     },
     "execution_count": 22,
     "metadata": {},
     "output_type": "execute_result"
    }
   ],
   "source": [
    "settings = {\n",
    "    \"data\": \"eICU_task\",\n",
    "    \"num_samples\": nUniquePatients,\n",
    "    \"seq_length\": 30,\n",
    "    \"num_signals\": 5,\n",
    "    \"normalise\": True,\n",
    "    #For conditional GAN\n",
    "    \"cond_dim\": 0,\n",
    "    #For conditional GAN\n",
    "    \"max_val\": 1,\n",
    "    #For conditional GAN - to encode labels in one hot encoding\n",
    "    \"one_hot\": None,\n",
    "    \"predict_labels\": False,\n",
    "    \"hidden_units_g\": 100,\n",
    "    \"hidden_units_d\": 100,\n",
    "    \"kappa\": 1,\n",
    "    #Noise Dimensions\n",
    "    \"latent_dim\": 10,\n",
    "    \"learning_rate\": 0.00005,\n",
    "    \"batch_size\": 28,\n",
    "    \"num_epochs\": 100,\n",
    "    \"D_rounds\": 5,\n",
    "    \"G_rounds\": 1,\n",
    "    \"shuffle\": True,\n",
    "    \"num_generated_features\": 5,\n",
    "    \"batch_mean\": False,\n",
    "    \"learn_scale\": False,\n",
    "    \"dp\": False,\n",
    "    \"batches_per_lot\": 1,\n",
    "    \"dp_sigma\": 0.6,\n",
    "    \"l2norm_bound\": 4,\n",
    "    \"use_time\": False,\n",
    "    \"WGAN_clip\": True\n",
    "}\n",
    "settings"
   ]
  },
  {
   "cell_type": "code",
   "execution_count": 23,
   "metadata": {
    "collapsed": false
   },
   "outputs": [
    {
     "data": {
      "text/plain": [
       "2189.0"
      ]
     },
     "execution_count": 23,
     "metadata": {},
     "output_type": "execute_result"
    }
   ],
   "source": [
    "import math\n",
    "pd_data_latest_records.shape[0]/30"
   ]
  },
  {
   "cell_type": "code",
   "execution_count": 24,
   "metadata": {
    "collapsed": false
   },
   "outputs": [],
   "source": [
    "#80-20 split\n",
    "train = pd_data_latest_records.iloc[0:30*(math.floor(0.8*(pd_data_latest_records.shape[0]/30)))]\n",
    "validate = pd_data_latest_records.iloc[30*(math.floor(0.8*(pd_data_latest_records.shape[0]/30))):]"
   ]
  },
  {
   "cell_type": "code",
   "execution_count": 25,
   "metadata": {
    "collapsed": false
   },
   "outputs": [
    {
     "name": "stdout",
     "output_type": "stream",
     "text": [
      "(52530, 7)\n",
      "(13140, 7)\n"
     ]
    },
    {
     "data": {
      "text/html": [
       "<div>\n",
       "<style scoped>\n",
       "    .dataframe tbody tr th:only-of-type {\n",
       "        vertical-align: middle;\n",
       "    }\n",
       "\n",
       "    .dataframe tbody tr th {\n",
       "        vertical-align: top;\n",
       "    }\n",
       "\n",
       "    .dataframe thead th {\n",
       "        text-align: right;\n",
       "    }\n",
       "</style>\n",
       "<table border=\"1\" class=\"dataframe\">\n",
       "  <thead>\n",
       "    <tr style=\"text-align: right;\">\n",
       "      <th></th>\n",
       "      <th>PatientIdentifier</th>\n",
       "      <th>VisitIdentifier</th>\n",
       "      <th>HeartRate</th>\n",
       "      <th>RespiratoryRate</th>\n",
       "      <th>PulseOx</th>\n",
       "      <th>SystolicBP</th>\n",
       "      <th>Temperature</th>\n",
       "    </tr>\n",
       "  </thead>\n",
       "  <tbody>\n",
       "    <tr>\n",
       "      <th>283</th>\n",
       "      <td>4</td>\n",
       "      <td>122033</td>\n",
       "      <td>104.0</td>\n",
       "      <td>20.0</td>\n",
       "      <td>95.0</td>\n",
       "      <td>78.0</td>\n",
       "      <td>36.7</td>\n",
       "    </tr>\n",
       "    <tr>\n",
       "      <th>289</th>\n",
       "      <td>4</td>\n",
       "      <td>122033</td>\n",
       "      <td>96.0</td>\n",
       "      <td>22.0</td>\n",
       "      <td>96.0</td>\n",
       "      <td>78.0</td>\n",
       "      <td>36.7</td>\n",
       "    </tr>\n",
       "    <tr>\n",
       "      <th>290</th>\n",
       "      <td>4</td>\n",
       "      <td>122033</td>\n",
       "      <td>104.0</td>\n",
       "      <td>27.0</td>\n",
       "      <td>95.0</td>\n",
       "      <td>78.0</td>\n",
       "      <td>36.7</td>\n",
       "    </tr>\n",
       "    <tr>\n",
       "      <th>293</th>\n",
       "      <td>4</td>\n",
       "      <td>122033</td>\n",
       "      <td>110.0</td>\n",
       "      <td>24.0</td>\n",
       "      <td>93.0</td>\n",
       "      <td>78.0</td>\n",
       "      <td>36.7</td>\n",
       "    </tr>\n",
       "    <tr>\n",
       "      <th>294</th>\n",
       "      <td>4</td>\n",
       "      <td>122033</td>\n",
       "      <td>97.0</td>\n",
       "      <td>20.0</td>\n",
       "      <td>95.0</td>\n",
       "      <td>78.0</td>\n",
       "      <td>36.7</td>\n",
       "    </tr>\n",
       "  </tbody>\n",
       "</table>\n",
       "</div>"
      ],
      "text/plain": [
       "     PatientIdentifier  VisitIdentifier  HeartRate  RespiratoryRate  PulseOx  \\\n",
       "283                  4           122033      104.0             20.0     95.0   \n",
       "289                  4           122033       96.0             22.0     96.0   \n",
       "290                  4           122033      104.0             27.0     95.0   \n",
       "293                  4           122033      110.0             24.0     93.0   \n",
       "294                  4           122033       97.0             20.0     95.0   \n",
       "\n",
       "     SystolicBP  Temperature  \n",
       "283        78.0         36.7  \n",
       "289        78.0         36.7  \n",
       "290        78.0         36.7  \n",
       "293        78.0         36.7  \n",
       "294        78.0         36.7  "
      ]
     },
     "execution_count": 25,
     "metadata": {},
     "output_type": "execute_result"
    }
   ],
   "source": [
    "print(train.shape)\n",
    "print(validate.shape)\n",
    "train.head()"
   ]
  },
  {
   "cell_type": "code",
   "execution_count": 26,
   "metadata": {
    "collapsed": false
   },
   "outputs": [
    {
     "data": {
      "text/html": [
       "<div>\n",
       "<style scoped>\n",
       "    .dataframe tbody tr th:only-of-type {\n",
       "        vertical-align: middle;\n",
       "    }\n",
       "\n",
       "    .dataframe tbody tr th {\n",
       "        vertical-align: top;\n",
       "    }\n",
       "\n",
       "    .dataframe thead th {\n",
       "        text-align: right;\n",
       "    }\n",
       "</style>\n",
       "<table border=\"1\" class=\"dataframe\">\n",
       "  <thead>\n",
       "    <tr style=\"text-align: right;\">\n",
       "      <th></th>\n",
       "      <th>HeartRate</th>\n",
       "      <th>RespiratoryRate</th>\n",
       "      <th>PulseOx</th>\n",
       "      <th>SystolicBP</th>\n",
       "      <th>Temperature</th>\n",
       "    </tr>\n",
       "  </thead>\n",
       "  <tbody>\n",
       "    <tr>\n",
       "      <th>283</th>\n",
       "      <td>104.0</td>\n",
       "      <td>20.0</td>\n",
       "      <td>95.0</td>\n",
       "      <td>78.0</td>\n",
       "      <td>36.7</td>\n",
       "    </tr>\n",
       "    <tr>\n",
       "      <th>289</th>\n",
       "      <td>96.0</td>\n",
       "      <td>22.0</td>\n",
       "      <td>96.0</td>\n",
       "      <td>78.0</td>\n",
       "      <td>36.7</td>\n",
       "    </tr>\n",
       "    <tr>\n",
       "      <th>290</th>\n",
       "      <td>104.0</td>\n",
       "      <td>27.0</td>\n",
       "      <td>95.0</td>\n",
       "      <td>78.0</td>\n",
       "      <td>36.7</td>\n",
       "    </tr>\n",
       "    <tr>\n",
       "      <th>293</th>\n",
       "      <td>110.0</td>\n",
       "      <td>24.0</td>\n",
       "      <td>93.0</td>\n",
       "      <td>78.0</td>\n",
       "      <td>36.7</td>\n",
       "    </tr>\n",
       "    <tr>\n",
       "      <th>294</th>\n",
       "      <td>97.0</td>\n",
       "      <td>20.0</td>\n",
       "      <td>95.0</td>\n",
       "      <td>78.0</td>\n",
       "      <td>36.7</td>\n",
       "    </tr>\n",
       "  </tbody>\n",
       "</table>\n",
       "</div>"
      ],
      "text/plain": [
       "     HeartRate  RespiratoryRate  PulseOx  SystolicBP  Temperature\n",
       "283      104.0             20.0     95.0        78.0         36.7\n",
       "289       96.0             22.0     96.0        78.0         36.7\n",
       "290      104.0             27.0     95.0        78.0         36.7\n",
       "293      110.0             24.0     93.0        78.0         36.7\n",
       "294       97.0             20.0     95.0        78.0         36.7"
      ]
     },
     "execution_count": 26,
     "metadata": {},
     "output_type": "execute_result"
    }
   ],
   "source": [
    "X_train = pd_data_latest_records[['HeartRate','RespiratoryRate','PulseOx','SystolicBP','Temperature']]\n",
    "X_val = validate[['HeartRate','RespiratoryRate','PulseOx','SystolicBP','Temperature']]\n",
    "#X_test = test[['HeartRate','RespiratoryRate','PulseOx','SystolicBP','Temperature']]\n",
    "X_train.head()"
   ]
  },
  {
   "cell_type": "code",
   "execution_count": 27,
   "metadata": {
    "collapsed": false
   },
   "outputs": [
    {
     "data": {
      "text/plain": [
       "(65670, 5)"
      ]
     },
     "execution_count": 27,
     "metadata": {},
     "output_type": "execute_result"
    }
   ],
   "source": [
    "X_train.values.shape"
   ]
  },
  {
   "cell_type": "code",
   "execution_count": 28,
   "metadata": {
    "collapsed": false
   },
   "outputs": [
    {
     "data": {
      "text/plain": [
       "30"
      ]
     },
     "execution_count": 28,
     "metadata": {},
     "output_type": "execute_result"
    }
   ],
   "source": [
    "settings['seq_length']"
   ]
  },
  {
   "cell_type": "code",
   "execution_count": 29,
   "metadata": {
    "collapsed": true
   },
   "outputs": [],
   "source": [
    "def reshape_data():\n",
    "    # labels = {'train': data['Y_train'], 'vali': data['Y_vali'], 'test': data['Y_test']}\n",
    "    samples = {'train':X_train.values, 'vali':X_val.values}#, 'test':X_test.values}\n",
    "    # Reshape\n",
    "    for (k, X) in samples.items():\n",
    "        samples[k] = X.reshape(-1, settings['seq_length'], settings['num_signals'])\n",
    "    return samples"
   ]
  },
  {
   "cell_type": "code",
   "execution_count": 30,
   "metadata": {
    "collapsed": true
   },
   "outputs": [],
   "source": [
    "def normalise_data(train, vali, low=-1, high=1):\n",
    "    \"\"\" Apply some sort of whitening procedure\n",
    "    \"\"\"\n",
    "    # remember, data is num_samples x seq_length x signals\n",
    "    # whiten each signal - mean 0, std 1\n",
    "    mean = np.mean(np.vstack([train, vali]), axis=(0, 1))\n",
    "    std = np.std(np.vstack([train-mean, vali-mean]), axis=(0, 1))\n",
    "\n",
    "    normalised_train = (train - mean)/std\n",
    "    normalised_vali = (vali - mean)/std\n",
    "    #normalised_test = (test - mean)/std\n",
    "    return normalised_train, normalised_vali#, normalised_test"
   ]
  },
  {
   "cell_type": "code",
   "execution_count": 31,
   "metadata": {
    "collapsed": true
   },
   "outputs": [],
   "source": [
    "def de_normalise_data(data,mean,std):\n",
    "    return (data*std)+mean"
   ]
  },
  {
   "cell_type": "code",
   "execution_count": 32,
   "metadata": {
    "collapsed": true
   },
   "outputs": [],
   "source": [
    "def get_samples_and_labels(settings):\n",
    "    \n",
    "    samples = reshape_data()\n",
    "    #train, vali, test = samples['train'], samples['vali'], samples['test']\n",
    "    train, vali = samples['train'], samples['vali']\n",
    "    #train_labels, vali_labels, test_labels = labels['train'], labels['vali'], labels['test']\n",
    "    #assert train_labels.shape[1] == settings['cond_dim']\n",
    "    # normalise to between -1, 1\n",
    "    #train, vali, test = normalise_data(train, vali, test)\n",
    "    train, vali = normalise_data(train, vali)\n",
    "    #train = normalise_data(train)\n",
    "    #labels = dict()\n",
    "    #labels['train'], labels['vali'], labels['test'] = train_labels, vali_labels, test_labels\n",
    "\n",
    "    samples = dict()\n",
    "    #samples['train'], samples['vali'], samples['test'] = train, vali, test\n",
    "    samples['train'], samples['vali'] = train, vali\n",
    "    \n",
    "\n",
    "    # futz around with labels\n",
    "#     # TODO refactor cause this is messy\n",
    "#     if 'one_hot' in settings and settings['one_hot'] and not settings['data_load_from']:\n",
    "#         if len(labels['train'].shape) == 1:\n",
    "#             # ASSUME labels go from 0 to max_val inclusive, find max-val\n",
    "#             max_val = int(np.max([labels['train'].max(), labels['test'].max(), labels['vali'].max()]))\n",
    "#             # now we have max_val + 1 dimensions\n",
    "#             print('Setting cond_dim to', max_val + 1, 'from', settings['cond_dim'])\n",
    "#             settings['cond_dim'] = max_val + 1\n",
    "#             print('Setting max_val to 1 from', settings['max_val'])\n",
    "#             settings['max_val'] = 1\n",
    "\n",
    "#             labels_oh = dict()\n",
    "#             for (k, v) in labels.items():\n",
    "#                 A = np.zeros(shape=(len(v), settings['cond_dim']))\n",
    "#                 A[np.arange(len(v)), (v).astype(int)] = 1\n",
    "#                 labels_oh[k] = A\n",
    "#             labels = labels_oh\n",
    "#         else:\n",
    "#             assert settings['max_val'] == 1\n",
    "#             # this is already one-hot!\n",
    "\n",
    "#     if 'predict_labels' in settings and settings['predict_labels']:\n",
    "#         samples, labels = data_utils.make_predict_labels(samples, labels)\n",
    "#         print('Setting cond_dim to 0 from', settings['cond_dim'])\n",
    "#         settings['cond_dim'] = 0\n",
    "\n",
    "    # update the settings dictionary to update erroneous settings\n",
    "    # (mostly about the sequence length etc. - it gets set by the data!)\n",
    "    settings['seq_length'] = samples['train'].shape[1]\n",
    "    settings['num_samples'] = samples['train'].shape[0] + samples['vali'].shape[0]# + samples['test'].shape[0]\n",
    "    settings['num_signals'] = samples['train'].shape[2]\n",
    "    settings['num_generated_features'] = samples['train'].shape[2]\n",
    "\n",
    "    return samples"
   ]
  },
  {
   "cell_type": "code",
   "execution_count": 33,
   "metadata": {
    "collapsed": true
   },
   "outputs": [],
   "source": [
    "samples = get_samples_and_labels(settings)"
   ]
  },
  {
   "cell_type": "code",
   "execution_count": 34,
   "metadata": {
    "collapsed": false
   },
   "outputs": [
    {
     "data": {
      "text/plain": [
       "72.149700545616042"
      ]
     },
     "execution_count": 34,
     "metadata": {},
     "output_type": "execute_result"
    }
   ],
   "source": [
    "mean = np.mean(np.vstack([X_train.values,X_val.values]), axis=(0, 1))\n",
    "mean"
   ]
  },
  {
   "cell_type": "code",
   "execution_count": 35,
   "metadata": {
    "collapsed": false
   },
   "outputs": [
    {
     "data": {
      "text/plain": [
       "40.200588138275755"
      ]
     },
     "execution_count": 35,
     "metadata": {},
     "output_type": "execute_result"
    }
   ],
   "source": [
    "std = np.std(np.vstack([X_train.values - mean,X_val.values - mean]), axis=(0,1))\n",
    "std"
   ]
  },
  {
   "cell_type": "code",
   "execution_count": 36,
   "metadata": {
    "collapsed": false
   },
   "outputs": [
    {
     "data": {
      "text/plain": [
       "(2189, 30, 5)"
      ]
     },
     "execution_count": 36,
     "metadata": {},
     "output_type": "execute_result"
    }
   ],
   "source": [
    "samples['train'].shape"
   ]
  },
  {
   "cell_type": "code",
   "execution_count": 14,
   "metadata": {
    "collapsed": false
   },
   "outputs": [],
   "source": [
    "#samples['train'][0]"
   ]
  },
  {
   "cell_type": "markdown",
   "metadata": {
    "collapsed": false
   },
   "source": [
    "## Build Model"
   ]
  },
  {
   "cell_type": "code",
   "execution_count": 38,
   "metadata": {
    "collapsed": false
   },
   "outputs": [],
   "source": [
    "# import importlib\n",
    "# importlib.reload(model)"
   ]
  },
  {
   "cell_type": "code",
   "execution_count": 39,
   "metadata": {
    "collapsed": false
   },
   "outputs": [],
   "source": [
    "import mod_core_rnn_cell_impl\n",
    "import mmd\n",
    "import WGANmodel as model\n",
    "from mmd import rbf_mmd2, median_pairwise_distance, mix_rbf_mmd2_and_ratio\n",
    "import plotting\n",
    "\n",
    "from time import time\n",
    "from math import floor"
   ]
  },
  {
   "cell_type": "code",
   "execution_count": 40,
   "metadata": {
    "collapsed": false
   },
   "outputs": [],
   "source": [
    "#Z, X, CG, CD, CS = model.create_placeholders(batch_size, seq_length, latent_dim, num_signals, cond_dim)\n",
    "batch_size = settings['batch_size']\n",
    "seq_length = settings['seq_length']\n",
    "latent_dim = settings['latent_dim']\n",
    "num_signals = settings['num_signals']\n",
    "cond_dim = settings['cond_dim']\n",
    "Z, X = model.create_placeholders(batch_size, seq_length, latent_dim, num_signals, cond_dim)"
   ]
  },
  {
   "cell_type": "code",
   "execution_count": 41,
   "metadata": {
    "collapsed": false
   },
   "outputs": [],
   "source": [
    "discriminator_vars = ['hidden_units_d', 'seq_length', 'cond_dim', 'batch_size', 'batch_mean']\n",
    "discriminator_settings = dict((k, settings[k]) for k in discriminator_vars)\n",
    "generator_vars = ['hidden_units_g', 'seq_length', 'batch_size', \n",
    "                  'num_generated_features', 'cond_dim', 'learn_scale']\n",
    "generator_settings = dict((k, settings[k]) for k in generator_vars)"
   ]
  },
  {
   "cell_type": "code",
   "execution_count": 42,
   "metadata": {
    "collapsed": true
   },
   "outputs": [],
   "source": [
    "CGAN = (cond_dim > 0)\n",
    "if CGAN: assert not settings['predict_labels']"
   ]
  },
  {
   "cell_type": "code",
   "execution_count": 43,
   "metadata": {
    "collapsed": true
   },
   "outputs": [],
   "source": [
    "##Had to install toolz package again to solve error\n",
    "##ValueError: Function has keyword-only arguments or annotations, use getfullargspec() API which can support them"
   ]
  },
  {
   "cell_type": "code",
   "execution_count": null,
   "metadata": {
    "collapsed": false
   },
   "outputs": [],
   "source": []
  },
  {
   "cell_type": "code",
   "execution_count": 44,
   "metadata": {
    "collapsed": false
   },
   "outputs": [],
   "source": [
    "# D_loss, G_loss = model.GAN_loss(Z, X, generator_settings, discriminator_settings, \n",
    "#         kappa, CGAN, CG, CD, CS, wrong_labels=wrong_labels)\n",
    "# D_loss, G_loss = model.GAN_loss(Z, X, generator_settings, discriminator_settings, \n",
    "#         kappa=None, cond = CGAN, CG=None, CD=None, CS=None, wrong_labels=None)\n",
    "G_loss, D_loss, clip_disc_weights = model.WGAN_loss(Z, X, generator_settings, discriminator_settings, \n",
    "        kappa=None, cond = CGAN, CG=None, CD=None, CS=None, wrong_labels=None)\n"
   ]
  },
  {
   "cell_type": "code",
   "execution_count": null,
   "metadata": {
    "collapsed": false
   },
   "outputs": [],
   "source": []
  },
  {
   "cell_type": "code",
   "execution_count": 45,
   "metadata": {
    "collapsed": false
   },
   "outputs": [],
   "source": [
    "# D_solver, G_solver, priv_accountant = model.GAN_solvers(D_loss, G_loss, learning_rate, batch_size, \n",
    "#         total_examples=samples['train'].shape[0], l2norm_bound=l2norm_bound,\n",
    "#         batches_per_lot=batches_per_lot, sigma=dp_sigma, dp=dp)\n",
    "D_solver, G_solver, priv_accountant = model.GAN_solvers(D_loss, G_loss, settings['learning_rate'], batch_size, \n",
    "        total_examples=samples['train'].shape[0], l2norm_bound=settings['l2norm_bound'],\n",
    "        batches_per_lot=settings['batches_per_lot'], sigma=settings['dp_sigma'], dp=settings[\"dp\"])\n"
   ]
  },
  {
   "cell_type": "code",
   "execution_count": 46,
   "metadata": {
    "collapsed": false
   },
   "outputs": [],
   "source": [
    "#G_sample = model.generator(Z, **generator_settings, reuse=True, c=CG)\n",
    "G_sample = model.generator(Z, **generator_settings, reuse=True, c=None)"
   ]
  },
  {
   "cell_type": "code",
   "execution_count": 47,
   "metadata": {
    "collapsed": false
   },
   "outputs": [],
   "source": [
    "# --- evaluation --- #\n",
    "# frequency to do visualisations\n",
    "vis_freq = max(14000//settings['num_samples'], 1)\n",
    "eval_freq = max(7000//settings['num_samples'], 1)\n",
    "\n",
    "# get heuristic bandwidth for mmd kernel from evaluation samples\n",
    "heuristic_sigma_training = median_pairwise_distance(samples['vali'])\n",
    "best_mmd2_so_far = 1000\n",
    "\n",
    "# optimise sigma using that (that's t-hat)\n",
    "batch_multiplier = 5000//batch_size\n",
    "eval_size = batch_multiplier*batch_size\n",
    "eval_eval_size = int(0.2*eval_size)\n",
    "eval_real_PH = tf.placeholder(tf.float32, [eval_eval_size, seq_length, settings['num_generated_features']])\n",
    "eval_sample_PH = tf.placeholder(tf.float32, [eval_eval_size, seq_length, settings['num_generated_features']])\n",
    "n_sigmas = 2\n",
    "sigma = tf.get_variable(name='sigma', shape=n_sigmas, initializer=tf.constant_initializer(value=np.power(heuristic_sigma_training, np.linspace(-1, 3, num=n_sigmas))))\n",
    "mmd2, that = mix_rbf_mmd2_and_ratio(eval_real_PH, eval_sample_PH, sigma)\n",
    "with tf.variable_scope(\"SIGMA_optimizer\"):\n",
    "    sigma_solver = tf.train.RMSPropOptimizer(learning_rate=0.05).minimize(-that, var_list=[sigma])\n",
    "    #sigma_solver = tf.train.AdamOptimizer().minimize(-that, var_list=[sigma])\n",
    "    #sigma_solver = tf.train.AdagradOptimizer(learning_rate=0.1).minimize(-that, var_list=[sigma])\n",
    "sigma_opt_iter = 2000\n",
    "sigma_opt_thresh = 0.001\n",
    "sigma_opt_vars = [var for var in tf.global_variables() if 'SIGMA_optimizer' in var.name]"
   ]
  },
  {
   "cell_type": "code",
   "execution_count": 48,
   "metadata": {
    "collapsed": false
   },
   "outputs": [
    {
     "data": {
      "text/plain": [
       "<tf.Tensor 'truediv_12:0' shape=() dtype=float32>"
      ]
     },
     "execution_count": 48,
     "metadata": {},
     "output_type": "execute_result"
    }
   ],
   "source": [
    "# tf.reset_default_graph()\n",
    "# sess.close()\n",
    "that"
   ]
  },
  {
   "cell_type": "code",
   "execution_count": 49,
   "metadata": {
    "collapsed": false
   },
   "outputs": [
    {
     "data": {
      "text/plain": [
       "2"
      ]
     },
     "execution_count": 49,
     "metadata": {},
     "output_type": "execute_result"
    }
   ],
   "source": [
    "vis_freq\n",
    "batch_multiplier\n",
    "eval_freq"
   ]
  },
  {
   "cell_type": "code",
   "execution_count": 50,
   "metadata": {
    "collapsed": true
   },
   "outputs": [],
   "source": [
    "import os\n",
    "os.environ[\"CUDA_VISIBLE_DEVICES\"]=\"\""
   ]
  },
  {
   "cell_type": "code",
   "execution_count": 51,
   "metadata": {
    "collapsed": false
   },
   "outputs": [],
   "source": [
    "sess = tf.Session()\n",
    "sess.run(tf.global_variables_initializer())\n",
    "\n",
    "vis_Z = model.sample_Z(batch_size, seq_length, latent_dim, settings['use_time'])\n",
    "if CGAN:\n",
    "    vis_C = model.sample_C(batch_size, cond_dim, max_val, one_hot)\n",
    "    if 'mnist' in data:\n",
    "        if one_hot:\n",
    "            if cond_dim == 6:\n",
    "                vis_C[:6] = np.eye(6)\n",
    "            elif cond_dim == 3:\n",
    "                vis_C[:3] = np.eye(3)\n",
    "                vis_C[3:6] = np.eye(3)\n",
    "            else:\n",
    "                raise ValueError(cond_dim)\n",
    "        else:\n",
    "            if cond_dim == 6:\n",
    "                vis_C[:6] = np.arange(cond_dim)\n",
    "            elif cond_dim == 3:\n",
    "                vis_C = np.tile(np.arange(3), 2)\n",
    "            else:\n",
    "                raise ValueError(cond_dim)\n",
    "    elif 'eICU_task' in data:\n",
    "        vis_C = labels['train'][np.random.choice(labels['train'].shape[0], batch_size, replace=False), :]\n",
    "    vis_sample = sess.run(G_sample, feed_dict={Z: vis_Z, CG: vis_C})\n",
    "else:\n",
    "    vis_sample = sess.run(G_sample, feed_dict={Z: vis_Z})\n",
    "    vis_C = None"
   ]
  },
  {
   "cell_type": "code",
   "execution_count": 52,
   "metadata": {
    "collapsed": false
   },
   "outputs": [
    {
     "data": {
      "text/plain": [
       "(28, 30, 5)"
      ]
     },
     "execution_count": 52,
     "metadata": {},
     "output_type": "execute_result"
    }
   ],
   "source": [
    "vis_Z.shape\n",
    "vis_sample.shape"
   ]
  },
  {
   "cell_type": "code",
   "execution_count": 53,
   "metadata": {
    "collapsed": false
   },
   "outputs": [
    {
     "name": "stdout",
     "output_type": "stream",
     "text": [
      "epoch\ttime\tD_loss\tG_loss\tmmd2\tthat\tpdf_sample\tpdf_real\n",
      "0\t61.01\t-1.0991\t-0.5721\t1.00304\t10030\t NA\t NA\n"
     ]
    },
    {
     "name": "stderr",
     "output_type": "stream",
     "text": [
      "/home/asaxena6/plotting.py:288: FutureWarning: read_table is deprecated, use read_csv instead.\n",
      "  da = read_table(trace_path, sep=' ')\n"
     ]
    },
    {
     "name": "stdout",
     "output_type": "stream",
     "text": [
      "Recorded 9 parameters to ./experiments/parameters/Sepsis_WGAN_clip_0.npy\n",
      "1\t78.37\t0.6212\t-2.4673\tNA\tNA\t NA\t NA\n",
      "2\t124.08\t-1.1823\t-0.7411\t1.00241\t5500\t NA\t NA\n",
      "3\t135.26\t-1.5059\t-0.5455\tNA\tNA\t NA\t NA\n",
      "4\t398.55\t-1.9762\t0.6352\t0.97357\t1610\t NA\t NA\n",
      "5\t413.94\t-3.7039\t2.1987\tNA\tNA\t NA\t NA\n",
      "6\t548.27\t-5.3579\t3.7213\t0.96091\t1327\t NA\t NA\n",
      "7\t558.65\t-6.5267\t5.1688\tNA\tNA\t NA\t NA\n",
      "8\t623.23\t-8.2915\t6.5372\t0.92333\t850\t NA\t NA\n",
      "9\t632.20\t-5.0150\t3.0848\tNA\tNA\t NA\t NA\n",
      "10\t828.01\t1.6977\t-2.1789\t0.90982\t1057\t NA\t NA\n",
      "11\t843.33\t-3.5317\t0.2909\tNA\tNA\t NA\t NA\n",
      "Recorded 9 parameters to ./experiments/parameters/Sepsis_WGAN_clip_12.npy\n",
      "12\t911.30\t-3.4125\t2.7556\t0.94020\t1020\t NA\t NA\n",
      "13\t920.63\t-6.7208\t4.9589\tNA\tNA\t NA\t NA\n",
      "14\t1099.56\t-8.5712\t6.9466\t0.98015\t1309\t NA\t NA\n",
      "15\t1116.69\t-10.4734\t8.7469\tNA\tNA\t NA\t NA\n",
      "16\t1269.84\t-13.0410\t10.3823\t0.99131\t1544\t NA\t NA\n",
      "17\t1279.84\t-15.5112\t11.8978\tNA\tNA\t NA\t NA\n",
      "18\t1555.32\t-17.9056\t13.2922\t0.99415\t1675\t NA\t NA\n",
      "19\t1565.92\t-15.4044\t14.5947\tNA\tNA\t NA\t NA\n",
      "20\t1668.39\t-20.3439\t15.8024\t0.98693\t1411\t NA\t NA\n",
      "21\t1682.74\t-7.0935\t1.5149\tNA\tNA\t NA\t NA\n",
      "22\t1822.17\t-11.9855\t9.2939\t0.96551\t1310\t NA\t NA\n",
      "23\t1832.70\t9.1985\t-15.2286\tNA\tNA\t NA\t NA\n",
      "Recorded 9 parameters to ./experiments/parameters/Sepsis_WGAN_clip_24.npy\n",
      "24\t1909.32\t10.7277\t-15.2367\t0.93225\t1059\t NA\t NA\n",
      "25\t1926.84\t10.3505\t-13.9310\tNA\tNA\t NA\t NA\n",
      "Recorded 9 parameters to ./experiments/parameters/Sepsis_WGAN_clip_26.npy\n",
      "26\t2025.72\t5.1233\t-12.3713\t0.90390\t880\t NA\t NA\n",
      "27\t2036.34\t5.9594\t-10.9749\tNA\tNA\t NA\t NA\n",
      "28\t2081.63\t10.7889\t-14.8978\t0.92227\t795\t NA\t NA\n",
      "29\t2092.20\t7.2862\t-13.6824\tNA\tNA\t NA\t NA\n",
      "30\t2145.87\t5.4490\t-12.4315\t0.92782\t961\t NA\t NA\n",
      "31\t2160.89\t5.3911\t-11.0253\tNA\tNA\t NA\t NA\n",
      "32\t2215.74\t4.4020\t-9.6076\t0.92611\t1002\t NA\t NA\n",
      "33\t2225.85\t2.1387\t-8.0794\tNA\tNA\t NA\t NA\n",
      "34\t2344.16\t1.9890\t-6.5245\t0.93912\t1037\t NA\t NA\n",
      "35\t2359.10\t-1.3721\t-4.9130\tNA\tNA\t NA\t NA\n",
      "36\t2414.64\t-3.5237\t-3.1810\t0.93295\t857\t NA\t NA\n",
      "37\t2424.68\t-5.5278\t-1.5289\tNA\tNA\t NA\t NA\n",
      "38\t2477.48\t2.3200\t-9.7515\t0.93532\t663\t NA\t NA\n",
      "39\t2488.28\t0.9546\t-7.0395\tNA\tNA\t NA\t NA\n",
      "40\t2547.90\t-1.0304\t-4.4838\t0.97182\t1013\t NA\t NA\n",
      "41\t2561.74\t-5.8808\t-2.1596\tNA\tNA\t NA\t NA\n",
      "42\t2802.10\t-8.2223\t-0.0032\t0.98160\t1178\t NA\t NA\n",
      "43\t2811.75\t-9.5433\t2.1579\tNA\tNA\t NA\t NA\n",
      "44\t3084.22\t-10.5044\t4.2179\t0.98256\t1166\t NA\t NA\n",
      "45\t3098.99\t-14.1290\t6.2484\tNA\tNA\t NA\t NA\n",
      "46\t3303.54\t-17.3416\t8.2532\t0.97672\t1133\t NA\t NA\n",
      "47\t3313.75\t-19.4716\t10.1824\tNA\tNA\t NA\t NA\n",
      "48\t3368.94\t-21.2064\t11.9969\t0.96546\t1105\t NA\t NA\n",
      "49\t3379.28\t-23.8564\t13.7135\tNA\tNA\t NA\t NA\n",
      "50\t3661.48\t-26.9323\t15.2678\t0.95489\t1122\t NA\t NA\n",
      "Recorded 9 parameters to ./experiments/parameters/Sepsis_WGAN_clip_50.npy\n",
      "51\t3676.77\t-31.0355\t16.7272\tNA\tNA\t NA\t NA\n",
      "52\t3948.02\t-34.2045\t17.9798\t0.94165\t958\t NA\t NA\n",
      "53\t3959.15\t-34.3406\t19.1159\tNA\tNA\t NA\t NA\n",
      "Recorded 9 parameters to ./experiments/parameters/Sepsis_WGAN_clip_54.npy\n",
      "54\t4008.78\t-39.0070\t20.0497\t0.89736\t688\t NA\t NA\n",
      "55\t4024.31\t-34.2409\t16.1125\tNA\tNA\t NA\t NA\n",
      "56\t4281.69\t-36.4102\t18.7193\t0.95582\t1074\t NA\t NA\n",
      "57\t4292.89\t-38.5201\t20.5213\tNA\tNA\t NA\t NA\n",
      "58\t4561.55\t-41.0468\t21.8824\t0.96669\t1311\t NA\t NA\n",
      "59\t4570.89\t-40.5353\t23.1026\tNA\tNA\t NA\t NA\n",
      "60\t4842.53\t-44.0711\t24.0678\t0.97038\t1268\t NA\t NA\n",
      "61\t4856.90\t-47.3467\t24.9714\tNA\tNA\t NA\t NA\n",
      "62\t5124.99\t-46.0886\t25.7935\t0.97358\t1195\t NA\t NA\n",
      "63\t5135.04\t-50.1972\t26.5804\tNA\tNA\t NA\t NA\n",
      "64\t5411.23\t-51.3585\t27.2775\t0.96934\t1075\t NA\t NA\n",
      "65\t5426.03\t-50.8486\t27.9444\tNA\tNA\t NA\t NA\n",
      "66\t5478.39\t-53.1435\t28.6302\t0.96158\t986\t NA\t NA\n",
      "67\t5489.07\t-49.8244\t29.2091\tNA\tNA\t NA\t NA\n",
      "68\t5727.82\t-52.4080\t29.8624\t0.94954\t935\t NA\t NA\n",
      "69\t5738.18\t-56.3909\t30.3761\tNA\tNA\t NA\t NA\n",
      "70\t5860.30\t-57.7456\t30.9157\t0.94286\t906\t NA\t NA\n",
      "71\t5876.36\t-56.7968\t31.5116\tNA\tNA\t NA\t NA\n",
      "72\t5954.25\t-60.3280\t32.0241\t0.92515\t821\t NA\t NA\n",
      "73\t5964.47\t-59.9299\t32.5189\tNA\tNA\t NA\t NA\n",
      "Recorded 9 parameters to ./experiments/parameters/Sepsis_WGAN_clip_74.npy\n",
      "74\t6033.82\t-61.3377\t32.6476\t0.88311\t655\t NA\t NA\n",
      "75\t6048.16\t-56.1015\t29.4251\tNA\tNA\t NA\t NA\n",
      "76\t6115.82\t-57.6174\t30.7929\t0.89892\t878\t NA\t NA\n",
      "77\t6126.15\t-61.1232\t31.3268\tNA\tNA\t NA\t NA\n",
      "Recorded 9 parameters to ./experiments/parameters/Sepsis_WGAN_clip_78.npy\n",
      "78\t6190.44\t-42.5781\t14.4752\t0.75923\t331\t NA\t NA\n",
      "79\t6201.34\t6.6144\t-29.6071\tNA\tNA\t NA\t NA\n",
      "80\t6306.45\t0.8932\t-29.4177\t0.84084\t592\t NA\t NA\n",
      "81\t6320.71\t3.9953\t-29.2333\tNA\tNA\t NA\t NA\n",
      "82\t6379.35\t2.8389\t-28.8928\t0.80705\t411\t NA\t NA\n",
      "83\t6389.76\t-1.2275\t-28.6604\tNA\tNA\t NA\t NA\n",
      "Recorded 9 parameters to ./experiments/parameters/Sepsis_WGAN_clip_84.npy\n",
      "84\t6457.04\t0.3030\t-28.5482\t0.55642\t392\t NA\t NA\n",
      "85\t6472.11\t-2.2048\t-28.2741\tNA\tNA\t NA\t NA\n",
      "86\t6531.60\t-2.4524\t-28.3667\t0.64033\t391\t NA\t NA\n",
      "87\t6541.05\t-1.8535\t-28.0064\tNA\tNA\t NA\t NA\n",
      "88\t6581.40\t-0.8510\t-27.8474\t0.69534\t409\t NA\t NA\n",
      "89\t6591.44\t-2.9305\t-27.3422\tNA\tNA\t NA\t NA\n",
      "90\t6646.94\t-1.4793\t-27.0262\t0.73418\t465\t NA\t NA\n",
      "91\t6657.69\t-3.5160\t-26.6941\tNA\tNA\t NA\t NA\n",
      "92\t6702.05\t-2.6078\t-26.4552\t0.75080\t484\t NA\t NA\n",
      "93\t6710.54\t-4.6148\t-26.1357\tNA\tNA\t NA\t NA\n",
      "94\t6786.82\t-3.8843\t-25.8523\t0.76805\t526\t NA\t NA\n",
      "95\t6799.21\t-3.3709\t-25.3466\tNA\tNA\t NA\t NA\n",
      "96\t6850.15\t-3.0628\t-24.9246\t0.78416\t562\t NA\t NA\n",
      "97\t6858.93\t-4.4490\t-24.3783\tNA\tNA\t NA\t NA\n",
      "98\t6899.66\t-4.5072\t-23.8884\t0.80612\t584\t NA\t NA\n",
      "99\t6909.17\t-6.5728\t-23.2714\tNA\tNA\t NA\t NA\n",
      "Recorded 9 parameters to ./experiments/parameters/Sepsis_WGAN_clip_99.npy\n"
     ]
    },
    {
     "data": {
      "text/plain": [
       "True"
      ]
     },
     "execution_count": 53,
     "metadata": {},
     "output_type": "execute_result"
    }
   ],
   "source": [
    "num_epochs=settings['num_epochs']\n",
    "use_time = settings['use_time']\n",
    "dp = settings['dp']\n",
    "shuffle = settings['shuffle']\n",
    "vis_real_indices = np.random.choice(len(samples['vali']), size=6)\n",
    "vis_real = np.float32(samples['vali'][vis_real_indices, :, :])\n",
    "#if not labels['vali'] is None:\n",
    "#    vis_real_labels = labels['vali'][vis_real_indices]\n",
    "#else:\n",
    "    #vis_real_labels = None\n",
    "vis_real_labels = None\n",
    "identifier = 'Sepsis_WGAN_clip'\n",
    "plotting.save_plot_sample(vis_real, 0, identifier + '_real', n_samples=6, \n",
    "                           num_epochs=settings['num_epochs'])\n",
    "\n",
    "# for dp\n",
    "# target_eps = [0.125, 0.25, 0.5, 1, 2, 4, 8]\n",
    "# dp_trace = open('./experiments/traces/' + identifier + '.dptrace.txt', 'w')\n",
    "# dp_trace.write('epoch ' + ' eps' .join(map(str, target_eps)) + '\\n')\n",
    "\n",
    "trace = open('./experiments/traces/' + identifier + '.trace.txt', 'w')\n",
    "trace.write('epoch time D_loss G_loss mmd2 that pdf real_pdf\\n')\n",
    "\n",
    "# --- train --- #\n",
    "train_vars = ['batch_size', 'D_rounds', 'G_rounds', 'use_time', 'seq_length', \n",
    "              'latent_dim', 'num_generated_features', 'cond_dim', 'max_val', \n",
    "              'WGAN_clip', 'one_hot']\n",
    "train_settings = dict((k, settings[k]) for k in train_vars)\n",
    "# train_vars = train_vars.append('clip_disc_weights')\n",
    "# train_settings['clip_disc_weights'] = clip_disc_weights\n",
    "\n",
    "t0 = time()\n",
    "best_epoch = 0\n",
    "print('epoch\\ttime\\tD_loss\\tG_loss\\tmmd2\\tthat\\tpdf_sample\\tpdf_real')\n",
    "for epoch in range(settings['num_epochs']):\n",
    "    \n",
    "    \n",
    "#     D_loss_curr, G_loss_curr = model.train_epoch(epoch, samples['train'], labels['train'],\n",
    "#                                         sess, Z, X, CG, CD, CS,\n",
    "#                                         D_loss, G_loss,\n",
    "#                                         D_solver, G_solver, \n",
    "#                                         **train_settings)\n",
    "\n",
    "#     D_loss_curr, G_loss_curr = model.train_epoch(epoch, samples['train'], None,\n",
    "#                                         sess, Z, X, None, None, None,\n",
    "#                                         D_loss, G_loss,\n",
    "#                                         D_solver, G_solver, \n",
    "#                                         **train_settings)\n",
    "    \n",
    "    D_loss_curr, G_loss_curr = model.train_epoch(clip_disc_weights, epoch, samples['train'], None,\n",
    "                                        sess, Z, X, None, None, None,\n",
    "                                        D_loss, G_loss,\n",
    "                                        D_solver, G_solver,\n",
    "                                        **train_settings)\n",
    "    # -- eval -- #\n",
    "    \n",
    "    # visualise plots of generated samples, with/without labels\n",
    "    if epoch % vis_freq == 0:\n",
    "        if CGAN:\n",
    "            vis_sample = sess.run(G_sample, feed_dict={Z: vis_Z, CG: vis_C})\n",
    "        else:\n",
    "            vis_sample = sess.run(G_sample, feed_dict={Z: vis_Z})\n",
    "        \n",
    "        one_hot = settings['one_hot']\n",
    "        predict_labels = settings['predict_labels']\n",
    "        resample_rate_in_min = None\n",
    "        multivariate_mnist = None\n",
    "        plotting.visualise_at_epoch(vis_sample, \"\", \n",
    "                predict_labels, one_hot, epoch, identifier, num_epochs,\n",
    "                resample_rate_in_min, multivariate_mnist, seq_length, labels=vis_C)\n",
    "        \n",
    "    # compute mmd2 and, if available, prob density\n",
    "    if epoch % eval_freq == 0:\n",
    "        \n",
    "        ## how many samples to evaluate with?\n",
    "        eval_Z = model.sample_Z(eval_size, seq_length, latent_dim, use_time)\n",
    "#         if 'eICU_task' in data:\n",
    "#             eval_C = labels['vali'][np.random.choice(labels['vali'].shape[0], eval_size), :]\n",
    "#         else:\n",
    "        max_val = None\n",
    "        eval_C = model.sample_C(eval_size, cond_dim, max_val, one_hot)\n",
    "        eval_sample = np.empty(shape=(eval_size, seq_length, num_signals))\n",
    "        for i in range(batch_multiplier):\n",
    "            if CGAN:\n",
    "                eval_sample[i*batch_size:(i+1)*batch_size, :, :] = sess.run(G_sample, feed_dict={Z: eval_Z[i*batch_size:(i+1)*batch_size], CG: eval_C[i*batch_size:(i+1)*batch_size]})\n",
    "            else:\n",
    "                eval_sample[i*batch_size:(i+1)*batch_size, :, :] = sess.run(G_sample, feed_dict={Z: eval_Z[i*batch_size:(i+1)*batch_size]})\n",
    "        eval_sample = np.float32(eval_sample)\n",
    "        eval_real = np.float32(samples['vali'][np.random.choice(len(samples['vali']), size=batch_multiplier*batch_size), :, :])\n",
    "       \n",
    "        eval_eval_real = eval_real[:eval_eval_size]\n",
    "        eval_test_real = eval_real[eval_eval_size:]\n",
    "        eval_eval_sample = eval_sample[:eval_eval_size]\n",
    "        eval_test_sample = eval_sample[eval_eval_size:]\n",
    "        \n",
    "        ## MMD\n",
    "        # reset ADAM variables\n",
    "        sess.run(tf.initialize_variables(sigma_opt_vars))\n",
    "        sigma_iter = 0\n",
    "        that_change = sigma_opt_thresh*2\n",
    "        old_that = 0\n",
    "        while that_change > sigma_opt_thresh and sigma_iter < sigma_opt_iter:\n",
    "            new_sigma, that_np, _ = sess.run([sigma, that, sigma_solver], feed_dict={eval_real_PH: eval_eval_real, eval_sample_PH: eval_eval_sample})\n",
    "            that_change = np.abs(that_np - old_that)\n",
    "            old_that = that_np\n",
    "            sigma_iter += 1\n",
    "        opt_sigma = sess.run(sigma)\n",
    "        mmd2, that_np = sess.run(mix_rbf_mmd2_and_ratio(eval_test_real, eval_test_sample,biased=False, sigmas=sigma))\n",
    "        \n",
    "        ## save parameters\n",
    "        if mmd2 < best_mmd2_so_far and epoch > 10:\n",
    "            best_epoch = epoch\n",
    "            best_mmd2_so_far = mmd2\n",
    "            model.dump_parameters(identifier + '_' + str(epoch), sess)\n",
    "        pdf = None\n",
    "        ## prob density (if available)\n",
    "        if not pdf is None:\n",
    "            pdf_sample = np.mean(pdf(eval_sample[:, :, 0]))\n",
    "            pdf_real = np.mean(pdf(eval_real[:, :, 0]))\n",
    "        else:\n",
    "            pdf_sample = 'NA'\n",
    "            pdf_real = 'NA'\n",
    "    else:\n",
    "        # report nothing this epoch\n",
    "        mmd2 = 'NA'\n",
    "        #that = 'NA'\n",
    "        that_np = 'NA'\n",
    "        pdf_sample = 'NA'\n",
    "        pdf_real = 'NA'\n",
    "    \n",
    "#     ## get 'spent privacy'\n",
    "#     if settings['dp']:\n",
    "#         spent_eps_deltas = priv_accountant.get_privacy_spent(sess, target_eps=target_eps)\n",
    "#         # get the moments\n",
    "#         deltas = []\n",
    "#         for (spent_eps, spent_delta) in spent_eps_deltas:\n",
    "#             deltas.append(spent_delta)\n",
    "#         dp_trace.write(str(epoch) + ' ' + ' '.join(map(str, deltas)) + '\\n')\n",
    "#         if epoch % 10 == 0: dp_trace.flush()\n",
    "    \n",
    "    ## print\n",
    "    t = time() - t0\n",
    "    try:\n",
    "        print('%d\\t%.2f\\t%.4f\\t%.4f\\t%.5f\\t%.0f\\t %s\\t %s' % (epoch, t, D_loss_curr, G_loss_curr, mmd2, that_np, pdf_sample, pdf_real))\n",
    "    except TypeError:       # mmd2 is NA (format as strings)\n",
    "        print('%d\\t%.2f\\t%.4f\\t%.4f\\t%s\\t%s\\t %s\\t %s' % (epoch, t, D_loss_curr, G_loss_curr, mmd2, that_np, pdf_sample, pdf_real))\n",
    "\n",
    "    ## save trace\n",
    "    trace.write(' '.join(map(str, [epoch, t, D_loss_curr, G_loss_curr, mmd2, that_np, pdf_sample, pdf_real])) + '\\n')\n",
    "    if epoch % 10 == 0: \n",
    "        trace.flush()\n",
    "        plotting.plot_trace(identifier, xmax=num_epochs, dp=dp)\n",
    "\n",
    "    if shuffle:     # shuffle the training data \n",
    "        perm = np.random.permutation(samples['train'].shape[0])\n",
    "        samples['train'] = samples['train'][perm]\n",
    "#         if labels['train'] is not None:\n",
    "#             labels['train'] = labels['train'][perm]\n",
    "    \n",
    "    if epoch % 50 == 0:\n",
    "        model.dump_parameters(identifier + '_' + str(epoch), sess)\n",
    "\n",
    "trace.flush()\n",
    "plotting.plot_trace(identifier, xmax=num_epochs, dp=dp)\n",
    "model.dump_parameters(identifier + '_' + str(epoch), sess)\n",
    "\n",
    "## after-the-fact evaluation\n",
    "#n_test = vali.shape[0]      # using validation set for now TODO\n",
    "#n_batches_for_test = floor(n_test/batch_size)\n",
    "#n_test_eval = n_batches_for_test*batch_size\n",
    "#test_sample = np.empty(shape=(n_test_eval, seq_length, num_signals))\n",
    "#test_Z = model.sample_Z(n_test_eval, seq_length, latent_dim, use_time)\n",
    "#for i in range(n_batches_for_test):\n",
    "#    test_sample[i*batch_size:(i+1)*batch_size, :, :] = sess.run(G_sample, feed_dict={Z: test_Z[i*batch_size:(i+1)*batch_size]})\n",
    "#test_sample = np.float32(test_sample)\n",
    "#test_real = np.float32(vali[np.random.choice(n_test, n_test_eval, replace=False), :, :])\n",
    "## we can only get samples in the size of the batch...\n",
    "#heuristic_sigma = median_pairwise_distance(test_real, test_sample)\n",
    "#test_mmd2, that = sess.run(mix_rbf_mmd2_and_ratio(test_real, test_sample, sigmas=heuristic_sigma, biased=False))\n",
    "##print(test_mmd2, that)"
   ]
  },
  {
   "cell_type": "code",
   "execution_count": null,
   "metadata": {
    "collapsed": false
   },
   "outputs": [],
   "source": []
  },
  {
   "cell_type": "code",
   "execution_count": null,
   "metadata": {
    "collapsed": true
   },
   "outputs": [],
   "source": []
  },
  {
   "cell_type": "code",
   "execution_count": 54,
   "metadata": {
    "collapsed": false
   },
   "outputs": [
    {
     "name": "stdout",
     "output_type": "stream",
     "text": [
      "(2189, 30, 5)\n",
      "(438, 30, 5)\n"
     ]
    }
   ],
   "source": [
    "print(samples['train'].shape)\n",
    "print(samples['vali'].shape)"
   ]
  },
  {
   "cell_type": "code",
   "execution_count": 55,
   "metadata": {
    "collapsed": false
   },
   "outputs": [],
   "source": [
    "real_data = np.vstack((samples['train'],samples['vali']))\n",
    "np.save('./data/'+identifier+'real_data',real_data)"
   ]
  },
  {
   "cell_type": "code",
   "execution_count": 56,
   "metadata": {
    "collapsed": false
   },
   "outputs": [],
   "source": [
    "real_data = np.load('./data/'+identifier+'real_data.npy')"
   ]
  },
  {
   "cell_type": "code",
   "execution_count": 57,
   "metadata": {
    "collapsed": false
   },
   "outputs": [
    {
     "data": {
      "text/plain": [
       "(2627, 30, 5)"
      ]
     },
     "execution_count": 57,
     "metadata": {},
     "output_type": "execute_result"
    }
   ],
   "source": [
    "real_data.shape"
   ]
  },
  {
   "cell_type": "code",
   "execution_count": 15,
   "metadata": {
    "collapsed": false
   },
   "outputs": [],
   "source": [
    "#real_data[0]"
   ]
  },
  {
   "cell_type": "code",
   "execution_count": 59,
   "metadata": {
    "collapsed": false
   },
   "outputs": [
    {
     "data": {
      "text/plain": [
       "(2627, 30, 5)"
      ]
     },
     "execution_count": 59,
     "metadata": {},
     "output_type": "execute_result"
    }
   ],
   "source": [
    "deNorm_real_data = de_normalise_data(real_data,mean,std)\n",
    "deNorm_real_data.shape"
   ]
  },
  {
   "cell_type": "code",
   "execution_count": 60,
   "metadata": {
    "collapsed": true
   },
   "outputs": [],
   "source": [
    "np.save('./data/'+identifier+'deNorm_real_data',deNorm_real_data)"
   ]
  },
  {
   "cell_type": "code",
   "execution_count": 61,
   "metadata": {
    "collapsed": false
   },
   "outputs": [
    {
     "data": {
      "text/plain": [
       "(2627, 30, 5)"
      ]
     },
     "execution_count": 61,
     "metadata": {},
     "output_type": "execute_result"
    }
   ],
   "source": [
    "deNorm_real_data = np.load('./data/'+identifier+'deNorm_real_data.npy')\n",
    "deNorm_real_data.shape"
   ]
  },
  {
   "cell_type": "code",
   "execution_count": 62,
   "metadata": {
    "collapsed": true
   },
   "outputs": [],
   "source": [
    "#75-25 train test split\n",
    "n_samples_fake = samples['train'].shape[0]\n",
    "n_batches_for_fake = floor(n_samples_fake/settings['batch_size'])\n",
    "n_test_eval = n_batches_for_fake*settings['batch_size']\n",
    "test_sample = np.empty(shape=(n_test_eval, seq_length, num_signals))\n",
    "for i in range(n_batches_for_fake):\n",
    "    fake_Z = model.sample_Z(settings['batch_size'], seq_length, latent_dim, use_time)\n",
    "    test_sample[i*settings['batch_size']:(i+1)*settings['batch_size'], :, :] = sess.run(G_sample, feed_dict={Z: fake_Z})"
   ]
  },
  {
   "cell_type": "code",
   "execution_count": 63,
   "metadata": {
    "collapsed": false
   },
   "outputs": [
    {
     "data": {
      "text/plain": [
       "(2184, 30, 5)"
      ]
     },
     "execution_count": 63,
     "metadata": {},
     "output_type": "execute_result"
    }
   ],
   "source": [
    "fake_data = test_sample\n",
    "fake_data.shape"
   ]
  },
  {
   "cell_type": "code",
   "execution_count": 64,
   "metadata": {
    "collapsed": true
   },
   "outputs": [],
   "source": [
    "np.save('./data/'+identifier+'fake_data',fake_data)"
   ]
  },
  {
   "cell_type": "code",
   "execution_count": 65,
   "metadata": {
    "collapsed": false
   },
   "outputs": [
    {
     "data": {
      "text/plain": [
       "(2184, 30, 5)"
      ]
     },
     "execution_count": 65,
     "metadata": {},
     "output_type": "execute_result"
    }
   ],
   "source": [
    "fake_data = np.load('./data/'+identifier+'fake_data.npy')\n",
    "fake_data.shape"
   ]
  },
  {
   "cell_type": "code",
   "execution_count": 66,
   "metadata": {
    "collapsed": false
   },
   "outputs": [
    {
     "data": {
      "text/plain": [
       "(2184, 30, 5)"
      ]
     },
     "execution_count": 66,
     "metadata": {},
     "output_type": "execute_result"
    }
   ],
   "source": [
    "deNorm_fake_data = de_normalise_data(fake_data,mean,std)\n",
    "deNorm_fake_data.shape"
   ]
  },
  {
   "cell_type": "code",
   "execution_count": 67,
   "metadata": {
    "collapsed": true
   },
   "outputs": [],
   "source": [
    "np.save('./data/'+identifier+'deNorm_fake_data',deNorm_fake_data)"
   ]
  },
  {
   "cell_type": "code",
   "execution_count": 68,
   "metadata": {
    "collapsed": false
   },
   "outputs": [
    {
     "data": {
      "text/plain": [
       "(2184, 30, 5)"
      ]
     },
     "execution_count": 68,
     "metadata": {},
     "output_type": "execute_result"
    }
   ],
   "source": [
    "deNorm_fake_data = np.load('./data/'+identifier+'deNorm_fake_data.npy')\n",
    "deNorm_fake_data.shape"
   ]
  },
  {
   "cell_type": "code",
   "execution_count": null,
   "metadata": {
    "collapsed": true
   },
   "outputs": [],
   "source": []
  }
 ],
 "metadata": {
  "kernelspec": {
   "display_name": "Python 3",
   "language": "python",
   "name": "python3"
  },
  "language_info": {
   "codemirror_mode": {
    "name": "ipython",
    "version": 3
   },
   "file_extension": ".py",
   "mimetype": "text/x-python",
   "name": "python",
   "nbconvert_exporter": "python",
   "pygments_lexer": "ipython3",
   "version": "3.5.4"
  }
 },
 "nbformat": 4,
 "nbformat_minor": 0
}
