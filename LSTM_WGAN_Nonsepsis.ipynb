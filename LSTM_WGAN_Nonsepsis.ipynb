{
 "cells": [
  {
   "cell_type": "code",
   "execution_count": 1,
   "metadata": {
    "collapsed": true
   },
   "outputs": [],
   "source": [
    "#Uninstalling scikit-image, updating dask, and reinstalling scikit-image fixed it.\n",
    "#conda upgrade ipykernel\n",
    "#conda install tornado=4.5.3\n",
    "#conda install -c anaconda toolz"
   ]
  },
  {
   "cell_type": "code",
   "execution_count": null,
   "metadata": {
    "collapsed": false
   },
   "outputs": [],
   "source": []
  },
  {
   "cell_type": "code",
   "execution_count": 2,
   "metadata": {
    "collapsed": true
   },
   "outputs": [],
   "source": [
    "import pymysql\n",
    "import pandas as pd\n",
    "import numpy as np\n",
    "pd.set_option('display.max_rows', 500)\n",
    "import tensorflow as tf"
   ]
  },
  {
   "cell_type": "code",
   "execution_count": 3,
   "metadata": {
    "collapsed": false
   },
   "outputs": [],
   "source": [
    "conn = pymysql.connect(user='asaxena6', password='', host='127.0.0.1', database = 'cchs_nov16')"
   ]
  },
  {
   "cell_type": "code",
   "execution_count": 4,
   "metadata": {
    "collapsed": false
   },
   "outputs": [
    {
     "data": {
      "text/plain": [
       "'SELECT VisitEventID, VisitIdentifier, PatientIdentifier, EventTimeKey,         MinutesFromArrival, HeartRate, RespiratoryRate, Temperature, SystolicBP,         WBC, Bands, SedRate, CReactiveProtein, Procalcitonin, DiastolicBP, Platelet,         PulseOx, FIO2, MAP, OxygenSource, BUN, Lactate, Creatinine, BiliRubin,         CurrentLocationTypeCode from cchs_nov16.Nonshock_Infected order by PatientIdentifier, EventTimeKey;'"
      ]
     },
     "execution_count": 4,
     "metadata": {},
     "output_type": "execute_result"
    }
   ],
   "source": [
    "query = \"SELECT VisitEventID, VisitIdentifier, PatientIdentifier, EventTimeKey,\\\n",
    "         MinutesFromArrival, HeartRate, RespiratoryRate, Temperature, SystolicBP,\\\n",
    "         WBC, Bands, SedRate, CReactiveProtein, Procalcitonin, DiastolicBP, Platelet,\\\n",
    "         PulseOx, FIO2, MAP, OxygenSource, BUN, Lactate, Creatinine, BiliRubin,\\\n",
    "         CurrentLocationTypeCode from cchs_nov16.Nonshock_Infected order by PatientIdentifier, EventTimeKey;\"\n",
    "query"
   ]
  },
  {
   "cell_type": "code",
   "execution_count": 5,
   "metadata": {
    "collapsed": true
   },
   "outputs": [],
   "source": [
    "pd_shock = pd.read_sql(query, conn)"
   ]
  },
  {
   "cell_type": "code",
   "execution_count": 6,
   "metadata": {
    "collapsed": true
   },
   "outputs": [],
   "source": [
    "all_features = ['PatientIdentifier','VisitIdentifier','HeartRate','RespiratoryRate','PulseOx','SystolicBP','Temperature']"
   ]
  },
  {
   "cell_type": "code",
   "execution_count": 7,
   "metadata": {
    "collapsed": false
   },
   "outputs": [
    {
     "data": {
      "text/html": [
       "<div>\n",
       "<style scoped>\n",
       "    .dataframe tbody tr th:only-of-type {\n",
       "        vertical-align: middle;\n",
       "    }\n",
       "\n",
       "    .dataframe tbody tr th {\n",
       "        vertical-align: top;\n",
       "    }\n",
       "\n",
       "    .dataframe thead th {\n",
       "        text-align: right;\n",
       "    }\n",
       "</style>\n",
       "<table border=\"1\" class=\"dataframe\">\n",
       "  <thead>\n",
       "    <tr style=\"text-align: right;\">\n",
       "      <th></th>\n",
       "      <th>PatientIdentifier</th>\n",
       "      <th>VisitIdentifier</th>\n",
       "      <th>HeartRate</th>\n",
       "      <th>RespiratoryRate</th>\n",
       "      <th>PulseOx</th>\n",
       "      <th>SystolicBP</th>\n",
       "      <th>Temperature</th>\n",
       "    </tr>\n",
       "  </thead>\n",
       "  <tbody>\n",
       "    <tr>\n",
       "      <th>0</th>\n",
       "      <td>7</td>\n",
       "      <td>126021</td>\n",
       "      <td>NaN</td>\n",
       "      <td>NaN</td>\n",
       "      <td>NaN</td>\n",
       "      <td>NaN</td>\n",
       "      <td>NaN</td>\n",
       "    </tr>\n",
       "    <tr>\n",
       "      <th>1</th>\n",
       "      <td>7</td>\n",
       "      <td>126021</td>\n",
       "      <td>NaN</td>\n",
       "      <td>NaN</td>\n",
       "      <td>NaN</td>\n",
       "      <td>NaN</td>\n",
       "      <td>NaN</td>\n",
       "    </tr>\n",
       "    <tr>\n",
       "      <th>2</th>\n",
       "      <td>7</td>\n",
       "      <td>126021</td>\n",
       "      <td>101.0</td>\n",
       "      <td>20.0</td>\n",
       "      <td>97.0</td>\n",
       "      <td>141.0</td>\n",
       "      <td>38.0</td>\n",
       "    </tr>\n",
       "    <tr>\n",
       "      <th>3</th>\n",
       "      <td>7</td>\n",
       "      <td>126021</td>\n",
       "      <td>NaN</td>\n",
       "      <td>NaN</td>\n",
       "      <td>NaN</td>\n",
       "      <td>NaN</td>\n",
       "      <td>NaN</td>\n",
       "    </tr>\n",
       "    <tr>\n",
       "      <th>4</th>\n",
       "      <td>7</td>\n",
       "      <td>126021</td>\n",
       "      <td>NaN</td>\n",
       "      <td>NaN</td>\n",
       "      <td>NaN</td>\n",
       "      <td>NaN</td>\n",
       "      <td>NaN</td>\n",
       "    </tr>\n",
       "  </tbody>\n",
       "</table>\n",
       "</div>"
      ],
      "text/plain": [
       "   PatientIdentifier  VisitIdentifier  HeartRate  RespiratoryRate  PulseOx  \\\n",
       "0                  7           126021        NaN              NaN      NaN   \n",
       "1                  7           126021        NaN              NaN      NaN   \n",
       "2                  7           126021      101.0             20.0     97.0   \n",
       "3                  7           126021        NaN              NaN      NaN   \n",
       "4                  7           126021        NaN              NaN      NaN   \n",
       "\n",
       "   SystolicBP  Temperature  \n",
       "0         NaN          NaN  \n",
       "1         NaN          NaN  \n",
       "2       141.0         38.0  \n",
       "3         NaN          NaN  \n",
       "4         NaN          NaN  "
      ]
     },
     "execution_count": 7,
     "metadata": {},
     "output_type": "execute_result"
    }
   ],
   "source": [
    "pd_shock_rel = pd_shock[all_features]\n",
    "pd_shock_rel.head(5)"
   ]
  },
  {
   "cell_type": "code",
   "execution_count": 8,
   "metadata": {
    "collapsed": false
   },
   "outputs": [
    {
     "data": {
      "text/html": [
       "<div>\n",
       "<style scoped>\n",
       "    .dataframe tbody tr th:only-of-type {\n",
       "        vertical-align: middle;\n",
       "    }\n",
       "\n",
       "    .dataframe tbody tr th {\n",
       "        vertical-align: top;\n",
       "    }\n",
       "\n",
       "    .dataframe thead th {\n",
       "        text-align: right;\n",
       "    }\n",
       "</style>\n",
       "<table border=\"1\" class=\"dataframe\">\n",
       "  <thead>\n",
       "    <tr style=\"text-align: right;\">\n",
       "      <th></th>\n",
       "      <th>PatientIdentifier</th>\n",
       "      <th>VisitIdentifier</th>\n",
       "      <th>HeartRate</th>\n",
       "      <th>RespiratoryRate</th>\n",
       "      <th>PulseOx</th>\n",
       "      <th>SystolicBP</th>\n",
       "      <th>Temperature</th>\n",
       "    </tr>\n",
       "  </thead>\n",
       "  <tbody>\n",
       "    <tr>\n",
       "      <th>7380</th>\n",
       "      <td>3643</td>\n",
       "      <td>57643</td>\n",
       "      <td>NaN</td>\n",
       "      <td>NaN</td>\n",
       "      <td>NaN</td>\n",
       "      <td>NaN</td>\n",
       "      <td>NaN</td>\n",
       "    </tr>\n",
       "    <tr>\n",
       "      <th>7381</th>\n",
       "      <td>3643</td>\n",
       "      <td>57643</td>\n",
       "      <td>NaN</td>\n",
       "      <td>NaN</td>\n",
       "      <td>NaN</td>\n",
       "      <td>NaN</td>\n",
       "      <td>NaN</td>\n",
       "    </tr>\n",
       "    <tr>\n",
       "      <th>7382</th>\n",
       "      <td>3643</td>\n",
       "      <td>57643</td>\n",
       "      <td>108.0</td>\n",
       "      <td>34.0</td>\n",
       "      <td>88.0</td>\n",
       "      <td>NaN</td>\n",
       "      <td>NaN</td>\n",
       "    </tr>\n",
       "    <tr>\n",
       "      <th>7383</th>\n",
       "      <td>3643</td>\n",
       "      <td>57643</td>\n",
       "      <td>NaN</td>\n",
       "      <td>NaN</td>\n",
       "      <td>NaN</td>\n",
       "      <td>NaN</td>\n",
       "      <td>NaN</td>\n",
       "    </tr>\n",
       "    <tr>\n",
       "      <th>7384</th>\n",
       "      <td>3643</td>\n",
       "      <td>57643</td>\n",
       "      <td>NaN</td>\n",
       "      <td>NaN</td>\n",
       "      <td>NaN</td>\n",
       "      <td>NaN</td>\n",
       "      <td>NaN</td>\n",
       "    </tr>\n",
       "  </tbody>\n",
       "</table>\n",
       "</div>"
      ],
      "text/plain": [
       "      PatientIdentifier  VisitIdentifier  HeartRate  RespiratoryRate  PulseOx  \\\n",
       "7380               3643            57643        NaN              NaN      NaN   \n",
       "7381               3643            57643        NaN              NaN      NaN   \n",
       "7382               3643            57643      108.0             34.0     88.0   \n",
       "7383               3643            57643        NaN              NaN      NaN   \n",
       "7384               3643            57643        NaN              NaN      NaN   \n",
       "\n",
       "      SystolicBP  Temperature  \n",
       "7380         NaN          NaN  \n",
       "7381         NaN          NaN  \n",
       "7382         NaN          NaN  \n",
       "7383         NaN          NaN  \n",
       "7384         NaN          NaN  "
      ]
     },
     "execution_count": 8,
     "metadata": {},
     "output_type": "execute_result"
    }
   ],
   "source": [
    "pd_shock_rel[pd_shock_rel['PatientIdentifier'] == 3643].head()"
   ]
  },
  {
   "cell_type": "code",
   "execution_count": 10,
   "metadata": {
    "collapsed": false
   },
   "outputs": [],
   "source": [
    "pd_shock_fill = pd_shock_rel.groupby(['PatientIdentifier','VisitIdentifier']).fillna(method='ffill').fillna(method='bfill')"
   ]
  },
  {
   "cell_type": "code",
   "execution_count": 11,
   "metadata": {
    "collapsed": false
   },
   "outputs": [
    {
     "data": {
      "text/html": [
       "<div>\n",
       "<style scoped>\n",
       "    .dataframe tbody tr th:only-of-type {\n",
       "        vertical-align: middle;\n",
       "    }\n",
       "\n",
       "    .dataframe tbody tr th {\n",
       "        vertical-align: top;\n",
       "    }\n",
       "\n",
       "    .dataframe thead th {\n",
       "        text-align: right;\n",
       "    }\n",
       "</style>\n",
       "<table border=\"1\" class=\"dataframe\">\n",
       "  <thead>\n",
       "    <tr style=\"text-align: right;\">\n",
       "      <th></th>\n",
       "      <th>PatientIdentifier</th>\n",
       "      <th>VisitIdentifier</th>\n",
       "      <th>HeartRate</th>\n",
       "      <th>RespiratoryRate</th>\n",
       "      <th>PulseOx</th>\n",
       "      <th>SystolicBP</th>\n",
       "      <th>Temperature</th>\n",
       "    </tr>\n",
       "  </thead>\n",
       "  <tbody>\n",
       "    <tr>\n",
       "      <th>0</th>\n",
       "      <td>7</td>\n",
       "      <td>126021</td>\n",
       "      <td>101.0</td>\n",
       "      <td>20.0</td>\n",
       "      <td>97.0</td>\n",
       "      <td>141.0</td>\n",
       "      <td>38.0</td>\n",
       "    </tr>\n",
       "    <tr>\n",
       "      <th>1</th>\n",
       "      <td>7</td>\n",
       "      <td>126021</td>\n",
       "      <td>101.0</td>\n",
       "      <td>20.0</td>\n",
       "      <td>97.0</td>\n",
       "      <td>141.0</td>\n",
       "      <td>38.0</td>\n",
       "    </tr>\n",
       "    <tr>\n",
       "      <th>2</th>\n",
       "      <td>7</td>\n",
       "      <td>126021</td>\n",
       "      <td>101.0</td>\n",
       "      <td>20.0</td>\n",
       "      <td>97.0</td>\n",
       "      <td>141.0</td>\n",
       "      <td>38.0</td>\n",
       "    </tr>\n",
       "    <tr>\n",
       "      <th>3</th>\n",
       "      <td>7</td>\n",
       "      <td>126021</td>\n",
       "      <td>101.0</td>\n",
       "      <td>20.0</td>\n",
       "      <td>97.0</td>\n",
       "      <td>141.0</td>\n",
       "      <td>38.0</td>\n",
       "    </tr>\n",
       "    <tr>\n",
       "      <th>4</th>\n",
       "      <td>7</td>\n",
       "      <td>126021</td>\n",
       "      <td>101.0</td>\n",
       "      <td>20.0</td>\n",
       "      <td>97.0</td>\n",
       "      <td>141.0</td>\n",
       "      <td>38.0</td>\n",
       "    </tr>\n",
       "  </tbody>\n",
       "</table>\n",
       "</div>"
      ],
      "text/plain": [
       "   PatientIdentifier  VisitIdentifier  HeartRate  RespiratoryRate  PulseOx  \\\n",
       "0                  7           126021      101.0             20.0     97.0   \n",
       "1                  7           126021      101.0             20.0     97.0   \n",
       "2                  7           126021      101.0             20.0     97.0   \n",
       "3                  7           126021      101.0             20.0     97.0   \n",
       "4                  7           126021      101.0             20.0     97.0   \n",
       "\n",
       "   SystolicBP  Temperature  \n",
       "0       141.0         38.0  \n",
       "1       141.0         38.0  \n",
       "2       141.0         38.0  \n",
       "3       141.0         38.0  \n",
       "4       141.0         38.0  "
      ]
     },
     "execution_count": 11,
     "metadata": {},
     "output_type": "execute_result"
    }
   ],
   "source": [
    "pd_data = pd.concat([pd_shock_rel[['PatientIdentifier','VisitIdentifier']],pd_shock_fill],axis=1)\n",
    "pd_data.head()"
   ]
  },
  {
   "cell_type": "code",
   "execution_count": 12,
   "metadata": {
    "collapsed": false
   },
   "outputs": [
    {
     "data": {
      "text/html": [
       "<div>\n",
       "<style scoped>\n",
       "    .dataframe tbody tr th:only-of-type {\n",
       "        vertical-align: middle;\n",
       "    }\n",
       "\n",
       "    .dataframe tbody tr th {\n",
       "        vertical-align: top;\n",
       "    }\n",
       "\n",
       "    .dataframe thead th {\n",
       "        text-align: right;\n",
       "    }\n",
       "</style>\n",
       "<table border=\"1\" class=\"dataframe\">\n",
       "  <thead>\n",
       "    <tr style=\"text-align: right;\">\n",
       "      <th></th>\n",
       "      <th>PatientIdentifier</th>\n",
       "      <th>VisitIdentifier</th>\n",
       "      <th>HeartRate</th>\n",
       "      <th>RespiratoryRate</th>\n",
       "      <th>PulseOx</th>\n",
       "      <th>SystolicBP</th>\n",
       "      <th>Temperature</th>\n",
       "    </tr>\n",
       "  </thead>\n",
       "  <tbody>\n",
       "    <tr>\n",
       "      <th>7380</th>\n",
       "      <td>3643</td>\n",
       "      <td>57643</td>\n",
       "      <td>108.0</td>\n",
       "      <td>34.0</td>\n",
       "      <td>88.0</td>\n",
       "      <td>137.0</td>\n",
       "      <td>36.9</td>\n",
       "    </tr>\n",
       "    <tr>\n",
       "      <th>7381</th>\n",
       "      <td>3643</td>\n",
       "      <td>57643</td>\n",
       "      <td>108.0</td>\n",
       "      <td>34.0</td>\n",
       "      <td>88.0</td>\n",
       "      <td>137.0</td>\n",
       "      <td>36.9</td>\n",
       "    </tr>\n",
       "    <tr>\n",
       "      <th>7382</th>\n",
       "      <td>3643</td>\n",
       "      <td>57643</td>\n",
       "      <td>108.0</td>\n",
       "      <td>34.0</td>\n",
       "      <td>88.0</td>\n",
       "      <td>137.0</td>\n",
       "      <td>36.9</td>\n",
       "    </tr>\n",
       "    <tr>\n",
       "      <th>7383</th>\n",
       "      <td>3643</td>\n",
       "      <td>57643</td>\n",
       "      <td>108.0</td>\n",
       "      <td>34.0</td>\n",
       "      <td>88.0</td>\n",
       "      <td>137.0</td>\n",
       "      <td>36.9</td>\n",
       "    </tr>\n",
       "    <tr>\n",
       "      <th>7384</th>\n",
       "      <td>3643</td>\n",
       "      <td>57643</td>\n",
       "      <td>108.0</td>\n",
       "      <td>34.0</td>\n",
       "      <td>88.0</td>\n",
       "      <td>137.0</td>\n",
       "      <td>36.9</td>\n",
       "    </tr>\n",
       "  </tbody>\n",
       "</table>\n",
       "</div>"
      ],
      "text/plain": [
       "      PatientIdentifier  VisitIdentifier  HeartRate  RespiratoryRate  PulseOx  \\\n",
       "7380               3643            57643      108.0             34.0     88.0   \n",
       "7381               3643            57643      108.0             34.0     88.0   \n",
       "7382               3643            57643      108.0             34.0     88.0   \n",
       "7383               3643            57643      108.0             34.0     88.0   \n",
       "7384               3643            57643      108.0             34.0     88.0   \n",
       "\n",
       "      SystolicBP  Temperature  \n",
       "7380       137.0         36.9  \n",
       "7381       137.0         36.9  \n",
       "7382       137.0         36.9  \n",
       "7383       137.0         36.9  \n",
       "7384       137.0         36.9  "
      ]
     },
     "execution_count": 12,
     "metadata": {},
     "output_type": "execute_result"
    }
   ],
   "source": [
    "#THis patient has data for multiple visits\n",
    "pd_data[pd_data['PatientIdentifier'] == 3643].head()"
   ]
  },
  {
   "cell_type": "code",
   "execution_count": 13,
   "metadata": {
    "collapsed": false
   },
   "outputs": [
    {
     "data": {
      "text/html": [
       "<div>\n",
       "<style scoped>\n",
       "    .dataframe tbody tr th:only-of-type {\n",
       "        vertical-align: middle;\n",
       "    }\n",
       "\n",
       "    .dataframe tbody tr th {\n",
       "        vertical-align: top;\n",
       "    }\n",
       "\n",
       "    .dataframe thead th {\n",
       "        text-align: right;\n",
       "    }\n",
       "</style>\n",
       "<table border=\"1\" class=\"dataframe\">\n",
       "  <thead>\n",
       "    <tr style=\"text-align: right;\">\n",
       "      <th></th>\n",
       "      <th>PatientIdentifier</th>\n",
       "      <th>VisitIdentifier</th>\n",
       "      <th>HeartRate</th>\n",
       "      <th>RespiratoryRate</th>\n",
       "      <th>PulseOx</th>\n",
       "      <th>SystolicBP</th>\n",
       "      <th>Temperature</th>\n",
       "    </tr>\n",
       "  </thead>\n",
       "  <tbody>\n",
       "    <tr>\n",
       "      <th>0</th>\n",
       "      <td>7</td>\n",
       "      <td>126021</td>\n",
       "      <td>101.0</td>\n",
       "      <td>20.0</td>\n",
       "      <td>97.0</td>\n",
       "      <td>141.0</td>\n",
       "      <td>38.0</td>\n",
       "    </tr>\n",
       "    <tr>\n",
       "      <th>5</th>\n",
       "      <td>7</td>\n",
       "      <td>126021</td>\n",
       "      <td>109.0</td>\n",
       "      <td>28.0</td>\n",
       "      <td>94.0</td>\n",
       "      <td>174.0</td>\n",
       "      <td>38.0</td>\n",
       "    </tr>\n",
       "    <tr>\n",
       "      <th>7</th>\n",
       "      <td>7</td>\n",
       "      <td>126021</td>\n",
       "      <td>107.0</td>\n",
       "      <td>25.0</td>\n",
       "      <td>99.0</td>\n",
       "      <td>167.0</td>\n",
       "      <td>39.3</td>\n",
       "    </tr>\n",
       "    <tr>\n",
       "      <th>10</th>\n",
       "      <td>7</td>\n",
       "      <td>126021</td>\n",
       "      <td>103.0</td>\n",
       "      <td>18.0</td>\n",
       "      <td>98.0</td>\n",
       "      <td>185.0</td>\n",
       "      <td>39.3</td>\n",
       "    </tr>\n",
       "    <tr>\n",
       "      <th>12</th>\n",
       "      <td>7</td>\n",
       "      <td>126021</td>\n",
       "      <td>90.0</td>\n",
       "      <td>15.0</td>\n",
       "      <td>99.0</td>\n",
       "      <td>157.0</td>\n",
       "      <td>39.3</td>\n",
       "    </tr>\n",
       "  </tbody>\n",
       "</table>\n",
       "</div>"
      ],
      "text/plain": [
       "    PatientIdentifier  VisitIdentifier  HeartRate  RespiratoryRate  PulseOx  \\\n",
       "0                   7           126021      101.0             20.0     97.0   \n",
       "5                   7           126021      109.0             28.0     94.0   \n",
       "7                   7           126021      107.0             25.0     99.0   \n",
       "10                  7           126021      103.0             18.0     98.0   \n",
       "12                  7           126021       90.0             15.0     99.0   \n",
       "\n",
       "    SystolicBP  Temperature  \n",
       "0        141.0         38.0  \n",
       "5        174.0         38.0  \n",
       "7        167.0         39.3  \n",
       "10       185.0         39.3  \n",
       "12       157.0         39.3  "
      ]
     },
     "execution_count": 13,
     "metadata": {},
     "output_type": "execute_result"
    }
   ],
   "source": [
    "pd_data_unique = pd_data.drop_duplicates(subset=all_features, keep=\"first\")\n",
    "pd_data_unique.head()"
   ]
  },
  {
   "cell_type": "code",
   "execution_count": 14,
   "metadata": {
    "collapsed": false
   },
   "outputs": [
    {
     "data": {
      "text/html": [
       "<div>\n",
       "<style scoped>\n",
       "    .dataframe tbody tr th:only-of-type {\n",
       "        vertical-align: middle;\n",
       "    }\n",
       "\n",
       "    .dataframe tbody tr th {\n",
       "        vertical-align: top;\n",
       "    }\n",
       "\n",
       "    .dataframe thead tr th {\n",
       "        text-align: left;\n",
       "    }\n",
       "\n",
       "    .dataframe thead tr:last-of-type th {\n",
       "        text-align: right;\n",
       "    }\n",
       "</style>\n",
       "<table border=\"1\" class=\"dataframe\">\n",
       "  <thead>\n",
       "    <tr>\n",
       "      <th></th>\n",
       "      <th>VisitIdentifier</th>\n",
       "      <th>HeartRate</th>\n",
       "      <th>RespiratoryRate</th>\n",
       "      <th>PulseOx</th>\n",
       "      <th>SystolicBP</th>\n",
       "      <th>Temperature</th>\n",
       "    </tr>\n",
       "    <tr>\n",
       "      <th></th>\n",
       "      <th>count</th>\n",
       "      <th>count</th>\n",
       "      <th>count</th>\n",
       "      <th>count</th>\n",
       "      <th>count</th>\n",
       "      <th>count</th>\n",
       "    </tr>\n",
       "    <tr>\n",
       "      <th>PatientIdentifier</th>\n",
       "      <th></th>\n",
       "      <th></th>\n",
       "      <th></th>\n",
       "      <th></th>\n",
       "      <th></th>\n",
       "      <th></th>\n",
       "    </tr>\n",
       "  </thead>\n",
       "  <tbody>\n",
       "    <tr>\n",
       "      <th>7</th>\n",
       "      <td>9</td>\n",
       "      <td>9</td>\n",
       "      <td>9</td>\n",
       "      <td>9</td>\n",
       "      <td>9</td>\n",
       "      <td>9</td>\n",
       "    </tr>\n",
       "    <tr>\n",
       "      <th>20</th>\n",
       "      <td>47</td>\n",
       "      <td>47</td>\n",
       "      <td>47</td>\n",
       "      <td>47</td>\n",
       "      <td>47</td>\n",
       "      <td>47</td>\n",
       "    </tr>\n",
       "    <tr>\n",
       "      <th>29</th>\n",
       "      <td>27</td>\n",
       "      <td>27</td>\n",
       "      <td>27</td>\n",
       "      <td>27</td>\n",
       "      <td>27</td>\n",
       "      <td>27</td>\n",
       "    </tr>\n",
       "    <tr>\n",
       "      <th>31</th>\n",
       "      <td>23</td>\n",
       "      <td>23</td>\n",
       "      <td>23</td>\n",
       "      <td>23</td>\n",
       "      <td>23</td>\n",
       "      <td>23</td>\n",
       "    </tr>\n",
       "    <tr>\n",
       "      <th>44</th>\n",
       "      <td>56</td>\n",
       "      <td>56</td>\n",
       "      <td>56</td>\n",
       "      <td>56</td>\n",
       "      <td>56</td>\n",
       "      <td>56</td>\n",
       "    </tr>\n",
       "  </tbody>\n",
       "</table>\n",
       "</div>"
      ],
      "text/plain": [
       "                  VisitIdentifier HeartRate RespiratoryRate PulseOx  \\\n",
       "                            count     count           count   count   \n",
       "PatientIdentifier                                                     \n",
       "7                               9         9               9       9   \n",
       "20                             47        47              47      47   \n",
       "29                             27        27              27      27   \n",
       "31                             23        23              23      23   \n",
       "44                             56        56              56      56   \n",
       "\n",
       "                  SystolicBP Temperature  \n",
       "                       count       count  \n",
       "PatientIdentifier                         \n",
       "7                          9           9  \n",
       "20                        47          47  \n",
       "29                        27          27  \n",
       "31                        23          23  \n",
       "44                        56          56  "
      ]
     },
     "execution_count": 14,
     "metadata": {},
     "output_type": "execute_result"
    }
   ],
   "source": [
    "pd_patient_group = pd_data_unique.groupby('PatientIdentifier').agg(['count'])\n",
    "pd_patient_group.head()"
   ]
  },
  {
   "cell_type": "code",
   "execution_count": 15,
   "metadata": {
    "collapsed": false
   },
   "outputs": [
    {
     "data": {
      "text/html": [
       "<div>\n",
       "<style scoped>\n",
       "    .dataframe tbody tr th:only-of-type {\n",
       "        vertical-align: middle;\n",
       "    }\n",
       "\n",
       "    .dataframe tbody tr th {\n",
       "        vertical-align: top;\n",
       "    }\n",
       "\n",
       "    .dataframe thead th {\n",
       "        text-align: right;\n",
       "    }\n",
       "</style>\n",
       "<table border=\"1\" class=\"dataframe\">\n",
       "  <thead>\n",
       "    <tr style=\"text-align: right;\">\n",
       "      <th></th>\n",
       "      <th>count</th>\n",
       "    </tr>\n",
       "  </thead>\n",
       "  <tbody>\n",
       "    <tr>\n",
       "      <th>count</th>\n",
       "      <td>2872.000000</td>\n",
       "    </tr>\n",
       "    <tr>\n",
       "      <th>mean</th>\n",
       "      <td>35.986072</td>\n",
       "    </tr>\n",
       "    <tr>\n",
       "      <th>std</th>\n",
       "      <td>43.353196</td>\n",
       "    </tr>\n",
       "    <tr>\n",
       "      <th>min</th>\n",
       "      <td>2.000000</td>\n",
       "    </tr>\n",
       "    <tr>\n",
       "      <th>25%</th>\n",
       "      <td>14.000000</td>\n",
       "    </tr>\n",
       "    <tr>\n",
       "      <th>50%</th>\n",
       "      <td>24.000000</td>\n",
       "    </tr>\n",
       "    <tr>\n",
       "      <th>75%</th>\n",
       "      <td>41.250000</td>\n",
       "    </tr>\n",
       "    <tr>\n",
       "      <th>max</th>\n",
       "      <td>616.000000</td>\n",
       "    </tr>\n",
       "  </tbody>\n",
       "</table>\n",
       "</div>"
      ],
      "text/plain": [
       "             count\n",
       "count  2872.000000\n",
       "mean     35.986072\n",
       "std      43.353196\n",
       "min       2.000000\n",
       "25%      14.000000\n",
       "50%      24.000000\n",
       "75%      41.250000\n",
       "max     616.000000"
      ]
     },
     "execution_count": 15,
     "metadata": {},
     "output_type": "execute_result"
    }
   ],
   "source": [
    "pd_patient_group['VisitIdentifier'].describe()"
   ]
  },
  {
   "cell_type": "code",
   "execution_count": 15,
   "metadata": {
    "collapsed": false
   },
   "outputs": [
    {
     "data": {
      "text/plain": [
       "1095"
      ]
     },
     "execution_count": 15,
     "metadata": {},
     "output_type": "execute_result"
    }
   ],
   "source": [
    "len(pd_patient_group[pd_patient_group['VisitIdentifier']['count'] >=30])\n",
    "#Choosing 30 as the sequence lenght so that we have sufficient data"
   ]
  },
  {
   "cell_type": "code",
   "execution_count": 16,
   "metadata": {
    "collapsed": false
   },
   "outputs": [
    {
     "data": {
      "text/plain": [
       "array([    20,     44,    110, ..., 119536, 119726, 119775])"
      ]
     },
     "execution_count": 16,
     "metadata": {},
     "output_type": "execute_result"
    }
   ],
   "source": [
    "# Get patients with records greater than 30\n",
    "pid = pd_patient_group[pd_patient_group['VisitIdentifier']['count'] >=30].index\n",
    "pid = np.array(pid)\n",
    "pid"
   ]
  },
  {
   "cell_type": "code",
   "execution_count": 17,
   "metadata": {
    "collapsed": false
   },
   "outputs": [
    {
     "data": {
      "text/plain": [
       "1095"
      ]
     },
     "execution_count": 17,
     "metadata": {},
     "output_type": "execute_result"
    }
   ],
   "source": [
    "len(pid)"
   ]
  },
  {
   "cell_type": "code",
   "execution_count": 18,
   "metadata": {
    "collapsed": false
   },
   "outputs": [
    {
     "data": {
      "text/plain": [
       "pandas.core.series.Series"
      ]
     },
     "execution_count": 18,
     "metadata": {},
     "output_type": "execute_result"
    }
   ],
   "source": [
    "type(pd_patient_group['VisitIdentifier']['count'])"
   ]
  },
  {
   "cell_type": "code",
   "execution_count": 19,
   "metadata": {
    "collapsed": false
   },
   "outputs": [
    {
     "data": {
      "text/plain": [
       "False"
      ]
     },
     "execution_count": 19,
     "metadata": {},
     "output_type": "execute_result"
    }
   ],
   "source": [
    "pd_data.isnull().values.any()"
   ]
  },
  {
   "cell_type": "code",
   "execution_count": 20,
   "metadata": {
    "collapsed": false
   },
   "outputs": [
    {
     "data": {
      "text/plain": [
       "1095"
      ]
     },
     "execution_count": 20,
     "metadata": {},
     "output_type": "execute_result"
    }
   ],
   "source": [
    "#Number of unique patients\n",
    "nUniquePatients = len(pid)\n",
    "nUniquePatients"
   ]
  },
  {
   "cell_type": "code",
   "execution_count": 21,
   "metadata": {
    "collapsed": false
   },
   "outputs": [
    {
     "data": {
      "text/html": [
       "<div>\n",
       "<style scoped>\n",
       "    .dataframe tbody tr th:only-of-type {\n",
       "        vertical-align: middle;\n",
       "    }\n",
       "\n",
       "    .dataframe tbody tr th {\n",
       "        vertical-align: top;\n",
       "    }\n",
       "\n",
       "    .dataframe thead th {\n",
       "        text-align: right;\n",
       "    }\n",
       "</style>\n",
       "<table border=\"1\" class=\"dataframe\">\n",
       "  <thead>\n",
       "    <tr style=\"text-align: right;\">\n",
       "      <th></th>\n",
       "      <th>PatientIdentifier</th>\n",
       "      <th>VisitIdentifier</th>\n",
       "      <th>HeartRate</th>\n",
       "      <th>RespiratoryRate</th>\n",
       "      <th>PulseOx</th>\n",
       "      <th>SystolicBP</th>\n",
       "      <th>Temperature</th>\n",
       "    </tr>\n",
       "  </thead>\n",
       "  <tbody>\n",
       "    <tr>\n",
       "      <th>53</th>\n",
       "      <td>20</td>\n",
       "      <td>38911</td>\n",
       "      <td>86.0</td>\n",
       "      <td>16.0</td>\n",
       "      <td>94.0</td>\n",
       "      <td>147.0</td>\n",
       "      <td>36.9</td>\n",
       "    </tr>\n",
       "    <tr>\n",
       "      <th>54</th>\n",
       "      <td>20</td>\n",
       "      <td>38911</td>\n",
       "      <td>86.0</td>\n",
       "      <td>16.0</td>\n",
       "      <td>94.0</td>\n",
       "      <td>132.0</td>\n",
       "      <td>36.9</td>\n",
       "    </tr>\n",
       "    <tr>\n",
       "      <th>55</th>\n",
       "      <td>20</td>\n",
       "      <td>38911</td>\n",
       "      <td>90.0</td>\n",
       "      <td>16.0</td>\n",
       "      <td>94.0</td>\n",
       "      <td>123.0</td>\n",
       "      <td>36.9</td>\n",
       "    </tr>\n",
       "    <tr>\n",
       "      <th>56</th>\n",
       "      <td>20</td>\n",
       "      <td>38911</td>\n",
       "      <td>90.0</td>\n",
       "      <td>16.0</td>\n",
       "      <td>94.0</td>\n",
       "      <td>145.0</td>\n",
       "      <td>36.9</td>\n",
       "    </tr>\n",
       "    <tr>\n",
       "      <th>57</th>\n",
       "      <td>20</td>\n",
       "      <td>38911</td>\n",
       "      <td>87.0</td>\n",
       "      <td>16.0</td>\n",
       "      <td>94.0</td>\n",
       "      <td>117.0</td>\n",
       "      <td>36.9</td>\n",
       "    </tr>\n",
       "  </tbody>\n",
       "</table>\n",
       "</div>"
      ],
      "text/plain": [
       "    PatientIdentifier  VisitIdentifier  HeartRate  RespiratoryRate  PulseOx  \\\n",
       "53                 20            38911       86.0             16.0     94.0   \n",
       "54                 20            38911       86.0             16.0     94.0   \n",
       "55                 20            38911       90.0             16.0     94.0   \n",
       "56                 20            38911       90.0             16.0     94.0   \n",
       "57                 20            38911       87.0             16.0     94.0   \n",
       "\n",
       "    SystolicBP  Temperature  \n",
       "53       147.0         36.9  \n",
       "54       132.0         36.9  \n",
       "55       123.0         36.9  \n",
       "56       145.0         36.9  \n",
       "57       117.0         36.9  "
      ]
     },
     "execution_count": 21,
     "metadata": {},
     "output_type": "execute_result"
    }
   ],
   "source": [
    "pd_data_latest_records = pd_data_unique[pd_data_unique['PatientIdentifier'].isin(pid)].groupby('PatientIdentifier').tail(30)\n",
    "pd_data_latest_records.head()"
   ]
  },
  {
   "cell_type": "code",
   "execution_count": null,
   "metadata": {
    "collapsed": false
   },
   "outputs": [],
   "source": []
  },
  {
   "cell_type": "code",
   "execution_count": 22,
   "metadata": {
    "collapsed": false
   },
   "outputs": [
    {
     "data": {
      "text/plain": [
       "{'D_rounds': 5,\n",
       " 'G_rounds': 1,\n",
       " 'WGAN_clip': True,\n",
       " 'batch_mean': False,\n",
       " 'batch_size': 28,\n",
       " 'batches_per_lot': 1,\n",
       " 'cond_dim': 0,\n",
       " 'data': 'eICU_task',\n",
       " 'dp': False,\n",
       " 'dp_sigma': 0.6,\n",
       " 'hidden_units_d': 100,\n",
       " 'hidden_units_g': 100,\n",
       " 'kappa': 1,\n",
       " 'l2norm_bound': 4,\n",
       " 'latent_dim': 10,\n",
       " 'learn_scale': False,\n",
       " 'learning_rate': 5e-05,\n",
       " 'max_val': 1,\n",
       " 'normalise': True,\n",
       " 'num_epochs': 100,\n",
       " 'num_generated_features': 5,\n",
       " 'num_samples': 1095,\n",
       " 'num_signals': 5,\n",
       " 'one_hot': None,\n",
       " 'predict_labels': False,\n",
       " 'seq_length': 30,\n",
       " 'shuffle': True,\n",
       " 'use_time': False}"
      ]
     },
     "execution_count": 22,
     "metadata": {},
     "output_type": "execute_result"
    }
   ],
   "source": [
    "settings = {\n",
    "    \"data\": \"eICU_task\",\n",
    "    \"num_samples\": nUniquePatients,\n",
    "    \"seq_length\": 30,\n",
    "    \"num_signals\": 5,\n",
    "    \"normalise\": True,\n",
    "    #For conditional GAN\n",
    "    \"cond_dim\": 0,\n",
    "    #For conditional GAN\n",
    "    \"max_val\": 1,\n",
    "    #For conditional GAN - to encode labels in one hot encoding\n",
    "    \"one_hot\": None,\n",
    "    \"predict_labels\": False,\n",
    "    \"hidden_units_g\": 100,\n",
    "    \"hidden_units_d\": 100,\n",
    "    \"kappa\": 1,\n",
    "    #Noise Dimensions\n",
    "    \"latent_dim\": 10,\n",
    "    \"learning_rate\": 0.00005,\n",
    "    \"batch_size\": 28,\n",
    "    \"num_epochs\": 100,\n",
    "    \"D_rounds\": 5,\n",
    "    \"G_rounds\": 1,\n",
    "    \"shuffle\": True,\n",
    "    \"num_generated_features\": 5,\n",
    "    \"batch_mean\": False,\n",
    "    \"learn_scale\": False,\n",
    "    \"dp\": False,\n",
    "    \"batches_per_lot\": 1,\n",
    "    \"dp_sigma\": 0.6,\n",
    "    \"l2norm_bound\": 4,\n",
    "    \"use_time\": False,\n",
    "    \"WGAN_clip\": True\n",
    "}\n",
    "settings"
   ]
  },
  {
   "cell_type": "code",
   "execution_count": 23,
   "metadata": {
    "collapsed": false
   },
   "outputs": [
    {
     "data": {
      "text/plain": [
       "1095.0"
      ]
     },
     "execution_count": 23,
     "metadata": {},
     "output_type": "execute_result"
    }
   ],
   "source": [
    "import math\n",
    "pd_data_latest_records.shape[0]/30"
   ]
  },
  {
   "cell_type": "code",
   "execution_count": 24,
   "metadata": {
    "collapsed": false
   },
   "outputs": [],
   "source": [
    "#80-20 split\n",
    "train = pd_data_latest_records.iloc[0:30*(math.floor(0.8*(pd_data_latest_records.shape[0]/30)))]\n",
    "validate = pd_data_latest_records.iloc[30*(math.floor(0.8*(pd_data_latest_records.shape[0]/30))):]"
   ]
  },
  {
   "cell_type": "code",
   "execution_count": 25,
   "metadata": {
    "collapsed": false
   },
   "outputs": [
    {
     "name": "stdout",
     "output_type": "stream",
     "text": [
      "(26280, 7)\n",
      "(6570, 7)\n"
     ]
    },
    {
     "data": {
      "text/html": [
       "<div>\n",
       "<style scoped>\n",
       "    .dataframe tbody tr th:only-of-type {\n",
       "        vertical-align: middle;\n",
       "    }\n",
       "\n",
       "    .dataframe tbody tr th {\n",
       "        vertical-align: top;\n",
       "    }\n",
       "\n",
       "    .dataframe thead th {\n",
       "        text-align: right;\n",
       "    }\n",
       "</style>\n",
       "<table border=\"1\" class=\"dataframe\">\n",
       "  <thead>\n",
       "    <tr style=\"text-align: right;\">\n",
       "      <th></th>\n",
       "      <th>PatientIdentifier</th>\n",
       "      <th>VisitIdentifier</th>\n",
       "      <th>HeartRate</th>\n",
       "      <th>RespiratoryRate</th>\n",
       "      <th>PulseOx</th>\n",
       "      <th>SystolicBP</th>\n",
       "      <th>Temperature</th>\n",
       "    </tr>\n",
       "  </thead>\n",
       "  <tbody>\n",
       "    <tr>\n",
       "      <th>53</th>\n",
       "      <td>20</td>\n",
       "      <td>38911</td>\n",
       "      <td>86.0</td>\n",
       "      <td>16.0</td>\n",
       "      <td>94.0</td>\n",
       "      <td>147.0</td>\n",
       "      <td>36.9</td>\n",
       "    </tr>\n",
       "    <tr>\n",
       "      <th>54</th>\n",
       "      <td>20</td>\n",
       "      <td>38911</td>\n",
       "      <td>86.0</td>\n",
       "      <td>16.0</td>\n",
       "      <td>94.0</td>\n",
       "      <td>132.0</td>\n",
       "      <td>36.9</td>\n",
       "    </tr>\n",
       "    <tr>\n",
       "      <th>55</th>\n",
       "      <td>20</td>\n",
       "      <td>38911</td>\n",
       "      <td>90.0</td>\n",
       "      <td>16.0</td>\n",
       "      <td>94.0</td>\n",
       "      <td>123.0</td>\n",
       "      <td>36.9</td>\n",
       "    </tr>\n",
       "    <tr>\n",
       "      <th>56</th>\n",
       "      <td>20</td>\n",
       "      <td>38911</td>\n",
       "      <td>90.0</td>\n",
       "      <td>16.0</td>\n",
       "      <td>94.0</td>\n",
       "      <td>145.0</td>\n",
       "      <td>36.9</td>\n",
       "    </tr>\n",
       "    <tr>\n",
       "      <th>57</th>\n",
       "      <td>20</td>\n",
       "      <td>38911</td>\n",
       "      <td>87.0</td>\n",
       "      <td>16.0</td>\n",
       "      <td>94.0</td>\n",
       "      <td>117.0</td>\n",
       "      <td>36.9</td>\n",
       "    </tr>\n",
       "  </tbody>\n",
       "</table>\n",
       "</div>"
      ],
      "text/plain": [
       "    PatientIdentifier  VisitIdentifier  HeartRate  RespiratoryRate  PulseOx  \\\n",
       "53                 20            38911       86.0             16.0     94.0   \n",
       "54                 20            38911       86.0             16.0     94.0   \n",
       "55                 20            38911       90.0             16.0     94.0   \n",
       "56                 20            38911       90.0             16.0     94.0   \n",
       "57                 20            38911       87.0             16.0     94.0   \n",
       "\n",
       "    SystolicBP  Temperature  \n",
       "53       147.0         36.9  \n",
       "54       132.0         36.9  \n",
       "55       123.0         36.9  \n",
       "56       145.0         36.9  \n",
       "57       117.0         36.9  "
      ]
     },
     "execution_count": 25,
     "metadata": {},
     "output_type": "execute_result"
    }
   ],
   "source": [
    "print(train.shape)\n",
    "print(validate.shape)\n",
    "train.head()"
   ]
  },
  {
   "cell_type": "code",
   "execution_count": 26,
   "metadata": {
    "collapsed": false
   },
   "outputs": [
    {
     "data": {
      "text/html": [
       "<div>\n",
       "<style scoped>\n",
       "    .dataframe tbody tr th:only-of-type {\n",
       "        vertical-align: middle;\n",
       "    }\n",
       "\n",
       "    .dataframe tbody tr th {\n",
       "        vertical-align: top;\n",
       "    }\n",
       "\n",
       "    .dataframe thead th {\n",
       "        text-align: right;\n",
       "    }\n",
       "</style>\n",
       "<table border=\"1\" class=\"dataframe\">\n",
       "  <thead>\n",
       "    <tr style=\"text-align: right;\">\n",
       "      <th></th>\n",
       "      <th>HeartRate</th>\n",
       "      <th>RespiratoryRate</th>\n",
       "      <th>PulseOx</th>\n",
       "      <th>SystolicBP</th>\n",
       "      <th>Temperature</th>\n",
       "    </tr>\n",
       "  </thead>\n",
       "  <tbody>\n",
       "    <tr>\n",
       "      <th>53</th>\n",
       "      <td>86.0</td>\n",
       "      <td>16.0</td>\n",
       "      <td>94.0</td>\n",
       "      <td>147.0</td>\n",
       "      <td>36.9</td>\n",
       "    </tr>\n",
       "    <tr>\n",
       "      <th>54</th>\n",
       "      <td>86.0</td>\n",
       "      <td>16.0</td>\n",
       "      <td>94.0</td>\n",
       "      <td>132.0</td>\n",
       "      <td>36.9</td>\n",
       "    </tr>\n",
       "    <tr>\n",
       "      <th>55</th>\n",
       "      <td>90.0</td>\n",
       "      <td>16.0</td>\n",
       "      <td>94.0</td>\n",
       "      <td>123.0</td>\n",
       "      <td>36.9</td>\n",
       "    </tr>\n",
       "    <tr>\n",
       "      <th>56</th>\n",
       "      <td>90.0</td>\n",
       "      <td>16.0</td>\n",
       "      <td>94.0</td>\n",
       "      <td>145.0</td>\n",
       "      <td>36.9</td>\n",
       "    </tr>\n",
       "    <tr>\n",
       "      <th>57</th>\n",
       "      <td>87.0</td>\n",
       "      <td>16.0</td>\n",
       "      <td>94.0</td>\n",
       "      <td>117.0</td>\n",
       "      <td>36.9</td>\n",
       "    </tr>\n",
       "  </tbody>\n",
       "</table>\n",
       "</div>"
      ],
      "text/plain": [
       "    HeartRate  RespiratoryRate  PulseOx  SystolicBP  Temperature\n",
       "53       86.0             16.0     94.0       147.0         36.9\n",
       "54       86.0             16.0     94.0       132.0         36.9\n",
       "55       90.0             16.0     94.0       123.0         36.9\n",
       "56       90.0             16.0     94.0       145.0         36.9\n",
       "57       87.0             16.0     94.0       117.0         36.9"
      ]
     },
     "execution_count": 26,
     "metadata": {},
     "output_type": "execute_result"
    }
   ],
   "source": [
    "X_train = pd_data_latest_records[['HeartRate','RespiratoryRate','PulseOx','SystolicBP','Temperature']]\n",
    "X_val = validate[['HeartRate','RespiratoryRate','PulseOx','SystolicBP','Temperature']]\n",
    "#X_test = test[['HeartRate','RespiratoryRate','PulseOx','SystolicBP','Temperature']]\n",
    "X_train.head()"
   ]
  },
  {
   "cell_type": "code",
   "execution_count": 27,
   "metadata": {
    "collapsed": false
   },
   "outputs": [
    {
     "data": {
      "text/plain": [
       "(32850, 5)"
      ]
     },
     "execution_count": 27,
     "metadata": {},
     "output_type": "execute_result"
    }
   ],
   "source": [
    "X_train.values.shape"
   ]
  },
  {
   "cell_type": "code",
   "execution_count": 28,
   "metadata": {
    "collapsed": false
   },
   "outputs": [
    {
     "data": {
      "text/plain": [
       "30"
      ]
     },
     "execution_count": 28,
     "metadata": {},
     "output_type": "execute_result"
    }
   ],
   "source": [
    "settings['seq_length']"
   ]
  },
  {
   "cell_type": "code",
   "execution_count": 29,
   "metadata": {
    "collapsed": true
   },
   "outputs": [],
   "source": [
    "def reshape_data():\n",
    "    # labels = {'train': data['Y_train'], 'vali': data['Y_vali'], 'test': data['Y_test']}\n",
    "    samples = {'train':X_train.values, 'vali':X_val.values}#, 'test':X_test.values}\n",
    "    # Reshape\n",
    "    for (k, X) in samples.items():\n",
    "        samples[k] = X.reshape(-1, settings['seq_length'], settings['num_signals'])\n",
    "    return samples"
   ]
  },
  {
   "cell_type": "code",
   "execution_count": 30,
   "metadata": {
    "collapsed": true
   },
   "outputs": [],
   "source": [
    "def normalise_data(train, vali, low=-1, high=1):\n",
    "    \"\"\" Apply some sort of whitening procedure\n",
    "    \"\"\"\n",
    "    # remember, data is num_samples x seq_length x signals\n",
    "    # whiten each signal - mean 0, std 1\n",
    "    mean = np.mean(np.vstack([train, vali]), axis=(0, 1))\n",
    "    std = np.std(np.vstack([train-mean, vali-mean]), axis=(0, 1))\n",
    "\n",
    "    normalised_train = (train - mean)/std\n",
    "    normalised_vali = (vali - mean)/std\n",
    "    #normalised_test = (test - mean)/std\n",
    "    return normalised_train, normalised_vali#, normalised_test"
   ]
  },
  {
   "cell_type": "code",
   "execution_count": 31,
   "metadata": {
    "collapsed": true
   },
   "outputs": [],
   "source": [
    "def de_normalise_data(data,mean,std):\n",
    "    return (data*std)+mean"
   ]
  },
  {
   "cell_type": "code",
   "execution_count": 32,
   "metadata": {
    "collapsed": true
   },
   "outputs": [],
   "source": [
    "def get_samples_and_labels(settings):\n",
    "    \n",
    "    samples = reshape_data()\n",
    "    #train, vali, test = samples['train'], samples['vali'], samples['test']\n",
    "    train, vali = samples['train'], samples['vali']\n",
    "    #train_labels, vali_labels, test_labels = labels['train'], labels['vali'], labels['test']\n",
    "    #assert train_labels.shape[1] == settings['cond_dim']\n",
    "    # normalise to between -1, 1\n",
    "    #train, vali, test = normalise_data(train, vali, test)\n",
    "    train, vali = normalise_data(train, vali)\n",
    "    #train = normalise_data(train)\n",
    "    #labels = dict()\n",
    "    #labels['train'], labels['vali'], labels['test'] = train_labels, vali_labels, test_labels\n",
    "\n",
    "    samples = dict()\n",
    "    #samples['train'], samples['vali'], samples['test'] = train, vali, test\n",
    "    samples['train'], samples['vali'] = train, vali\n",
    "    \n",
    "\n",
    "    # futz around with labels\n",
    "#     # TODO refactor cause this is messy\n",
    "#     if 'one_hot' in settings and settings['one_hot'] and not settings['data_load_from']:\n",
    "#         if len(labels['train'].shape) == 1:\n",
    "#             # ASSUME labels go from 0 to max_val inclusive, find max-val\n",
    "#             max_val = int(np.max([labels['train'].max(), labels['test'].max(), labels['vali'].max()]))\n",
    "#             # now we have max_val + 1 dimensions\n",
    "#             print('Setting cond_dim to', max_val + 1, 'from', settings['cond_dim'])\n",
    "#             settings['cond_dim'] = max_val + 1\n",
    "#             print('Setting max_val to 1 from', settings['max_val'])\n",
    "#             settings['max_val'] = 1\n",
    "\n",
    "#             labels_oh = dict()\n",
    "#             for (k, v) in labels.items():\n",
    "#                 A = np.zeros(shape=(len(v), settings['cond_dim']))\n",
    "#                 A[np.arange(len(v)), (v).astype(int)] = 1\n",
    "#                 labels_oh[k] = A\n",
    "#             labels = labels_oh\n",
    "#         else:\n",
    "#             assert settings['max_val'] == 1\n",
    "#             # this is already one-hot!\n",
    "\n",
    "#     if 'predict_labels' in settings and settings['predict_labels']:\n",
    "#         samples, labels = data_utils.make_predict_labels(samples, labels)\n",
    "#         print('Setting cond_dim to 0 from', settings['cond_dim'])\n",
    "#         settings['cond_dim'] = 0\n",
    "\n",
    "    # update the settings dictionary to update erroneous settings\n",
    "    # (mostly about the sequence length etc. - it gets set by the data!)\n",
    "    settings['seq_length'] = samples['train'].shape[1]\n",
    "    settings['num_samples'] = samples['train'].shape[0] + samples['vali'].shape[0]# + samples['test'].shape[0]\n",
    "    settings['num_signals'] = samples['train'].shape[2]\n",
    "    settings['num_generated_features'] = samples['train'].shape[2]\n",
    "\n",
    "    return samples"
   ]
  },
  {
   "cell_type": "code",
   "execution_count": 33,
   "metadata": {
    "collapsed": true
   },
   "outputs": [],
   "source": [
    "samples = get_samples_and_labels(settings)"
   ]
  },
  {
   "cell_type": "code",
   "execution_count": 34,
   "metadata": {
    "collapsed": false
   },
   "outputs": [
    {
     "data": {
      "text/plain": [
       "72.250477422628094"
      ]
     },
     "execution_count": 34,
     "metadata": {},
     "output_type": "execute_result"
    }
   ],
   "source": [
    "mean = np.mean(np.vstack([X_train.values,X_val.values]), axis=(0, 1))\n",
    "mean"
   ]
  },
  {
   "cell_type": "code",
   "execution_count": 35,
   "metadata": {
    "collapsed": false
   },
   "outputs": [
    {
     "data": {
      "text/plain": [
       "41.739929021365711"
      ]
     },
     "execution_count": 35,
     "metadata": {},
     "output_type": "execute_result"
    }
   ],
   "source": [
    "std = np.std(np.vstack([X_train.values - mean,X_val.values - mean]), axis=(0,1))\n",
    "std"
   ]
  },
  {
   "cell_type": "code",
   "execution_count": 36,
   "metadata": {
    "collapsed": false
   },
   "outputs": [
    {
     "data": {
      "text/plain": [
       "(1095, 30, 5)"
      ]
     },
     "execution_count": 36,
     "metadata": {},
     "output_type": "execute_result"
    }
   ],
   "source": [
    "samples['train'].shape"
   ]
  },
  {
   "cell_type": "code",
   "execution_count": 16,
   "metadata": {
    "collapsed": false
   },
   "outputs": [],
   "source": [
    "#samples['train'][0]"
   ]
  },
  {
   "cell_type": "markdown",
   "metadata": {
    "collapsed": false
   },
   "source": [
    "## Build Model"
   ]
  },
  {
   "cell_type": "code",
   "execution_count": 38,
   "metadata": {
    "collapsed": false
   },
   "outputs": [],
   "source": [
    "# import importlib\n",
    "# importlib.reload(model)"
   ]
  },
  {
   "cell_type": "code",
   "execution_count": 39,
   "metadata": {
    "collapsed": false
   },
   "outputs": [],
   "source": [
    "import mod_core_rnn_cell_impl\n",
    "import mmd\n",
    "import WGANmodel as model\n",
    "from mmd import rbf_mmd2, median_pairwise_distance, mix_rbf_mmd2_and_ratio\n",
    "import plotting\n",
    "\n",
    "from time import time\n",
    "from math import floor"
   ]
  },
  {
   "cell_type": "code",
   "execution_count": 40,
   "metadata": {
    "collapsed": false
   },
   "outputs": [],
   "source": [
    "#Z, X, CG, CD, CS = model.create_placeholders(batch_size, seq_length, latent_dim, num_signals, cond_dim)\n",
    "batch_size = settings['batch_size']\n",
    "seq_length = settings['seq_length']\n",
    "latent_dim = settings['latent_dim']\n",
    "num_signals = settings['num_signals']\n",
    "cond_dim = settings['cond_dim']\n",
    "Z, X = model.create_placeholders(batch_size, seq_length, latent_dim, num_signals, cond_dim)"
   ]
  },
  {
   "cell_type": "code",
   "execution_count": 41,
   "metadata": {
    "collapsed": false
   },
   "outputs": [],
   "source": [
    "discriminator_vars = ['hidden_units_d', 'seq_length', 'cond_dim', 'batch_size', 'batch_mean']\n",
    "discriminator_settings = dict((k, settings[k]) for k in discriminator_vars)\n",
    "generator_vars = ['hidden_units_g', 'seq_length', 'batch_size', \n",
    "                  'num_generated_features', 'cond_dim', 'learn_scale']\n",
    "generator_settings = dict((k, settings[k]) for k in generator_vars)"
   ]
  },
  {
   "cell_type": "code",
   "execution_count": 42,
   "metadata": {
    "collapsed": true
   },
   "outputs": [],
   "source": [
    "CGAN = (cond_dim > 0)\n",
    "if CGAN: assert not settings['predict_labels']"
   ]
  },
  {
   "cell_type": "code",
   "execution_count": 43,
   "metadata": {
    "collapsed": true
   },
   "outputs": [],
   "source": [
    "##Had to install toolz package again to solve error\n",
    "##ValueError: Function has keyword-only arguments or annotations, use getfullargspec() API which can support them"
   ]
  },
  {
   "cell_type": "code",
   "execution_count": null,
   "metadata": {
    "collapsed": false
   },
   "outputs": [],
   "source": []
  },
  {
   "cell_type": "code",
   "execution_count": 44,
   "metadata": {
    "collapsed": false
   },
   "outputs": [],
   "source": [
    "# D_loss, G_loss = model.GAN_loss(Z, X, generator_settings, discriminator_settings, \n",
    "#         kappa, CGAN, CG, CD, CS, wrong_labels=wrong_labels)\n",
    "# D_loss, G_loss = model.GAN_loss(Z, X, generator_settings, discriminator_settings, \n",
    "#         kappa=None, cond = CGAN, CG=None, CD=None, CS=None, wrong_labels=None)\n",
    "G_loss, D_loss, clip_disc_weights = model.WGAN_loss(Z, X, generator_settings, discriminator_settings, \n",
    "        kappa=None, cond = CGAN, CG=None, CD=None, CS=None, wrong_labels=None)\n"
   ]
  },
  {
   "cell_type": "code",
   "execution_count": null,
   "metadata": {
    "collapsed": false
   },
   "outputs": [],
   "source": []
  },
  {
   "cell_type": "code",
   "execution_count": 45,
   "metadata": {
    "collapsed": false
   },
   "outputs": [],
   "source": [
    "# D_solver, G_solver, priv_accountant = model.GAN_solvers(D_loss, G_loss, learning_rate, batch_size, \n",
    "#         total_examples=samples['train'].shape[0], l2norm_bound=l2norm_bound,\n",
    "#         batches_per_lot=batches_per_lot, sigma=dp_sigma, dp=dp)\n",
    "D_solver, G_solver, priv_accountant = model.GAN_solvers(D_loss, G_loss, settings['learning_rate'], batch_size, \n",
    "        total_examples=samples['train'].shape[0], l2norm_bound=settings['l2norm_bound'],\n",
    "        batches_per_lot=settings['batches_per_lot'], sigma=settings['dp_sigma'], dp=settings[\"dp\"])\n"
   ]
  },
  {
   "cell_type": "code",
   "execution_count": 46,
   "metadata": {
    "collapsed": false
   },
   "outputs": [],
   "source": [
    "#G_sample = model.generator(Z, **generator_settings, reuse=True, c=CG)\n",
    "G_sample = model.generator(Z, **generator_settings, reuse=True, c=None)"
   ]
  },
  {
   "cell_type": "code",
   "execution_count": 47,
   "metadata": {
    "collapsed": false
   },
   "outputs": [],
   "source": [
    "# --- evaluation --- #\n",
    "# frequency to do visualisations\n",
    "vis_freq = max(14000//settings['num_samples'], 1)\n",
    "eval_freq = max(7000//settings['num_samples'], 1)\n",
    "\n",
    "# get heuristic bandwidth for mmd kernel from evaluation samples\n",
    "heuristic_sigma_training = median_pairwise_distance(samples['vali'])\n",
    "best_mmd2_so_far = 1000\n",
    "\n",
    "# optimise sigma using that (that's t-hat)\n",
    "batch_multiplier = 5000//batch_size\n",
    "eval_size = batch_multiplier*batch_size\n",
    "eval_eval_size = int(0.2*eval_size)\n",
    "eval_real_PH = tf.placeholder(tf.float32, [eval_eval_size, seq_length, settings['num_generated_features']])\n",
    "eval_sample_PH = tf.placeholder(tf.float32, [eval_eval_size, seq_length, settings['num_generated_features']])\n",
    "n_sigmas = 2\n",
    "sigma = tf.get_variable(name='sigma', shape=n_sigmas, initializer=tf.constant_initializer(value=np.power(heuristic_sigma_training, np.linspace(-1, 3, num=n_sigmas))))\n",
    "mmd2, that = mix_rbf_mmd2_and_ratio(eval_real_PH, eval_sample_PH, sigma)\n",
    "with tf.variable_scope(\"SIGMA_optimizer\"):\n",
    "    sigma_solver = tf.train.RMSPropOptimizer(learning_rate=0.05).minimize(-that, var_list=[sigma])\n",
    "    #sigma_solver = tf.train.AdamOptimizer().minimize(-that, var_list=[sigma])\n",
    "    #sigma_solver = tf.train.AdagradOptimizer(learning_rate=0.1).minimize(-that, var_list=[sigma])\n",
    "sigma_opt_iter = 2000\n",
    "sigma_opt_thresh = 0.001\n",
    "sigma_opt_vars = [var for var in tf.global_variables() if 'SIGMA_optimizer' in var.name]"
   ]
  },
  {
   "cell_type": "code",
   "execution_count": 48,
   "metadata": {
    "collapsed": false
   },
   "outputs": [
    {
     "data": {
      "text/plain": [
       "<tf.Tensor 'truediv_12:0' shape=() dtype=float32>"
      ]
     },
     "execution_count": 48,
     "metadata": {},
     "output_type": "execute_result"
    }
   ],
   "source": [
    "# tf.reset_default_graph()\n",
    "# sess.close()\n",
    "that"
   ]
  },
  {
   "cell_type": "code",
   "execution_count": 49,
   "metadata": {
    "collapsed": false
   },
   "outputs": [
    {
     "data": {
      "text/plain": [
       "5"
      ]
     },
     "execution_count": 49,
     "metadata": {},
     "output_type": "execute_result"
    }
   ],
   "source": [
    "vis_freq\n",
    "batch_multiplier\n",
    "eval_freq"
   ]
  },
  {
   "cell_type": "code",
   "execution_count": 50,
   "metadata": {
    "collapsed": true
   },
   "outputs": [],
   "source": [
    "import os\n",
    "os.environ[\"CUDA_VISIBLE_DEVICES\"]=\"\""
   ]
  },
  {
   "cell_type": "code",
   "execution_count": 51,
   "metadata": {
    "collapsed": false
   },
   "outputs": [],
   "source": [
    "sess = tf.Session()\n",
    "sess.run(tf.global_variables_initializer())\n",
    "\n",
    "vis_Z = model.sample_Z(batch_size, seq_length, latent_dim, settings['use_time'])\n",
    "if CGAN:\n",
    "    vis_C = model.sample_C(batch_size, cond_dim, max_val, one_hot)\n",
    "    if 'mnist' in data:\n",
    "        if one_hot:\n",
    "            if cond_dim == 6:\n",
    "                vis_C[:6] = np.eye(6)\n",
    "            elif cond_dim == 3:\n",
    "                vis_C[:3] = np.eye(3)\n",
    "                vis_C[3:6] = np.eye(3)\n",
    "            else:\n",
    "                raise ValueError(cond_dim)\n",
    "        else:\n",
    "            if cond_dim == 6:\n",
    "                vis_C[:6] = np.arange(cond_dim)\n",
    "            elif cond_dim == 3:\n",
    "                vis_C = np.tile(np.arange(3), 2)\n",
    "            else:\n",
    "                raise ValueError(cond_dim)\n",
    "    elif 'eICU_task' in data:\n",
    "        vis_C = labels['train'][np.random.choice(labels['train'].shape[0], batch_size, replace=False), :]\n",
    "    vis_sample = sess.run(G_sample, feed_dict={Z: vis_Z, CG: vis_C})\n",
    "else:\n",
    "    vis_sample = sess.run(G_sample, feed_dict={Z: vis_Z})\n",
    "    vis_C = None"
   ]
  },
  {
   "cell_type": "code",
   "execution_count": 52,
   "metadata": {
    "collapsed": false
   },
   "outputs": [
    {
     "data": {
      "text/plain": [
       "(28, 30, 5)"
      ]
     },
     "execution_count": 52,
     "metadata": {},
     "output_type": "execute_result"
    }
   ],
   "source": [
    "vis_Z.shape\n",
    "vis_sample.shape"
   ]
  },
  {
   "cell_type": "code",
   "execution_count": 53,
   "metadata": {
    "collapsed": false
   },
   "outputs": [
    {
     "name": "stdout",
     "output_type": "stream",
     "text": [
      "epoch\ttime\tD_loss\tG_loss\tmmd2\tthat\tpdf_sample\tpdf_real\n",
      "0\t41.65\t-0.0591\t0.1171\t0.00558\t56\t NA\t NA\n"
     ]
    },
    {
     "name": "stderr",
     "output_type": "stream",
     "text": [
      "/home/asaxena6/plotting.py:288: FutureWarning: read_table is deprecated, use read_csv instead.\n",
      "  da = read_table(trace_path, sep=' ')\n"
     ]
    },
    {
     "name": "stdout",
     "output_type": "stream",
     "text": [
      "Recorded 9 parameters to ./experiments/parameters/NonSepsis_WGAN_clip_0.npy\n",
      "1\t50.47\t-0.6627\t0.6632\tNA\tNA\t NA\t NA\n",
      "2\t55.50\t-0.2385\t0.2610\tNA\tNA\t NA\t NA\n",
      "3\t59.78\t-0.7910\t0.5905\tNA\tNA\t NA\t NA\n",
      "4\t64.00\t-1.6771\t1.3758\tNA\tNA\t NA\t NA\n",
      "5\t98.29\t-1.9916\t1.9290\t0.00559\t56\t NA\t NA\n",
      "6\t102.59\t-1.0097\t0.7064\tNA\tNA\t NA\t NA\n",
      "7\t107.10\t-0.8703\t1.4405\tNA\tNA\t NA\t NA\n",
      "8\t111.78\t-2.0795\t2.2210\tNA\tNA\t NA\t NA\n",
      "9\t115.72\t-3.0698\t3.0138\tNA\tNA\t NA\t NA\n",
      "10\t189.42\t-4.0291\t3.7880\t0.00673\t67\t NA\t NA\n",
      "11\t196.08\t-4.6913\t4.5192\tNA\tNA\t NA\t NA\n",
      "12\t200.40\t-5.3259\t5.2155\tNA\tNA\t NA\t NA\n",
      "13\t204.77\t-6.2556\t5.8958\tNA\tNA\t NA\t NA\n",
      "14\t208.74\t-7.1001\t6.5127\tNA\tNA\t NA\t NA\n",
      "Recorded 9 parameters to ./experiments/parameters/NonSepsis_WGAN_clip_15.npy\n",
      "15\t240.53\t-7.3558\t7.0760\t0.00554\t55\t NA\t NA\n",
      "16\t245.17\t-7.7452\t7.4078\tNA\tNA\t NA\t NA\n",
      "17\t248.49\t-4.1596\t4.5556\tNA\tNA\t NA\t NA\n",
      "18\t253.06\t-5.9127\t5.3533\tNA\tNA\t NA\t NA\n",
      "19\t257.33\t-0.7946\t0.5997\tNA\tNA\t NA\t NA\n",
      "20\t295.34\t-1.3114\t1.4361\t0.00559\t56\t NA\t NA\n",
      "21\t302.24\t3.4104\t-2.7423\tNA\tNA\t NA\t NA\n",
      "22\t306.38\t1.1282\t-1.5889\tNA\tNA\t NA\t NA\n",
      "23\t310.87\t-0.0474\t-0.3918\tNA\tNA\t NA\t NA\n",
      "24\t315.20\t-1.0675\t0.7775\tNA\tNA\t NA\t NA\n",
      "25\t539.46\t4.9206\t-4.8911\t0.97685\t1758\t NA\t NA\n",
      "26\t543.74\t4.7382\t-5.1392\tNA\tNA\t NA\t NA\n",
      "27\t548.05\t6.6103\t-6.6103\tNA\tNA\t NA\t NA\n",
      "28\t552.25\t5.8468\t-5.8022\tNA\tNA\t NA\t NA\n",
      "29\t556.66\t4.3652\t-4.9573\tNA\tNA\t NA\t NA\n",
      "30\t592.32\t4.1003\t-4.1033\t1.00525\t10053\t NA\t NA\n",
      "31\t599.38\t2.9415\t-3.2319\tNA\tNA\t NA\t NA\n",
      "32\t604.26\t2.0006\t-2.3467\tNA\tNA\t NA\t NA\n",
      "33\t607.97\t1.6122\t-1.4475\tNA\tNA\t NA\t NA\n",
      "34\t611.97\t0.4891\t-0.5345\tNA\tNA\t NA\t NA\n",
      "35\t641.65\t-1.0942\t0.3823\t1.00536\t10054\t NA\t NA\n",
      "36\t646.08\t-1.7082\t1.3069\tNA\tNA\t NA\t NA\n",
      "37\t650.41\t-2.3644\t2.2312\tNA\tNA\t NA\t NA\n",
      "38\t655.16\t-3.7500\t3.1523\tNA\tNA\t NA\t NA\n",
      "39\t659.73\t-4.2191\t4.0574\tNA\tNA\t NA\t NA\n",
      "40\t694.23\t-4.9349\t4.9497\t1.00492\t10049\t NA\t NA\n",
      "41\t701.75\t-6.3922\t5.8267\tNA\tNA\t NA\t NA\n",
      "42\t705.69\t-7.7590\t6.6781\tNA\tNA\t NA\t NA\n",
      "43\t709.82\t-7.1602\t7.5044\tNA\tNA\t NA\t NA\n",
      "44\t713.93\t-9.1606\t8.3059\tNA\tNA\t NA\t NA\n",
      "45\t749.51\t-9.6328\t9.0530\t0.99304\t1938\t NA\t NA\n",
      "46\t753.37\t-10.2025\t9.8120\tNA\tNA\t NA\t NA\n",
      "47\t757.97\t-11.6133\t10.5435\tNA\tNA\t NA\t NA\n",
      "48\t762.37\t-12.6080\t11.1893\tNA\tNA\t NA\t NA\n",
      "49\t766.36\t-11.0640\t11.8900\tNA\tNA\t NA\t NA\n",
      "50\t947.71\t-14.1652\t12.5799\t0.96343\t1793\t NA\t NA\n",
      "Recorded 9 parameters to ./experiments/parameters/NonSepsis_WGAN_clip_50.npy\n",
      "51\t954.30\t-13.6113\t13.1744\tNA\tNA\t NA\t NA\n",
      "52\t958.89\t-13.5050\t13.7573\tNA\tNA\t NA\t NA\n",
      "53\t963.44\t-15.0445\t14.3139\tNA\tNA\t NA\t NA\n",
      "54\t968.16\t-17.1166\t14.9151\tNA\tNA\t NA\t NA\n",
      "55\t1190.66\t-15.7106\t15.5062\t0.95564\t2214\t NA\t NA\n",
      "56\t1195.33\t-17.6805\t16.0270\tNA\tNA\t NA\t NA\n",
      "57\t1199.83\t-18.1003\t16.5952\tNA\tNA\t NA\t NA\n",
      "58\t1203.87\t-19.5882\t17.1566\tNA\tNA\t NA\t NA\n",
      "59\t1207.95\t-19.3814\t17.6918\tNA\tNA\t NA\t NA\n",
      "60\t1245.97\t-21.1293\t18.1776\t0.97004\t1437\t NA\t NA\n",
      "61\t1252.93\t-19.4035\t18.7790\tNA\tNA\t NA\t NA\n",
      "62\t1257.62\t-22.0737\t19.1791\tNA\tNA\t NA\t NA\n",
      "63\t1262.36\t-25.1288\t19.6729\tNA\tNA\t NA\t NA\n",
      "64\t1267.03\t-22.2508\t19.8589\tNA\tNA\t NA\t NA\n",
      "65\t1489.03\t-16.5881\t13.3339\t0.99764\t2197\t NA\t NA\n",
      "66\t1493.75\t-4.0435\t0.2044\tNA\tNA\t NA\t NA\n",
      "67\t1498.61\t-7.1329\t2.3348\tNA\tNA\t NA\t NA\n",
      "68\t1502.87\t-8.8420\t7.3852\tNA\tNA\t NA\t NA\n",
      "69\t1507.03\t-14.0752\t10.8876\tNA\tNA\t NA\t NA\n",
      "70\t1575.09\t-16.3340\t13.0787\t0.92566\t939\t NA\t NA\n",
      "71\t1582.45\t-17.5664\t14.8857\tNA\tNA\t NA\t NA\n",
      "72\t1586.17\t-20.0554\t15.5630\tNA\tNA\t NA\t NA\n",
      "73\t1590.57\t1.1411\t-2.1401\tNA\tNA\t NA\t NA\n",
      "74\t1595.05\t7.1061\t-13.3257\tNA\tNA\t NA\t NA\n",
      "75\t1660.17\t9.4879\t-13.3939\t0.87992\t1179\t NA\t NA\n",
      "76\t1664.43\t8.9943\t-13.2180\tNA\tNA\t NA\t NA\n",
      "77\t1669.12\t12.2649\t-15.4065\tNA\tNA\t NA\t NA\n",
      "78\t1672.80\t8.7578\t-15.5242\tNA\tNA\t NA\t NA\n",
      "79\t1677.07\t9.8027\t-15.3828\tNA\tNA\t NA\t NA\n",
      "80\t1853.07\t10.1220\t-15.1444\t0.89333\t1211\t NA\t NA\n",
      "81\t1860.48\t8.7921\t-14.9332\tNA\tNA\t NA\t NA\n",
      "82\t1865.45\t9.1295\t-14.6673\tNA\tNA\t NA\t NA\n",
      "83\t1870.43\t7.4707\t-14.4003\tNA\tNA\t NA\t NA\n",
      "84\t1875.19\t6.5763\t-14.1191\tNA\tNA\t NA\t NA\n",
      "85\t2100.87\t6.3988\t-13.8624\t0.91643\t1436\t NA\t NA\n",
      "86\t2105.13\t7.3416\t-13.5542\tNA\tNA\t NA\t NA\n",
      "87\t2109.41\t5.7788\t-13.2395\tNA\tNA\t NA\t NA\n",
      "88\t2113.74\t4.0909\t-13.1560\tNA\tNA\t NA\t NA\n",
      "89\t2118.38\t3.5727\t-13.2637\tNA\tNA\t NA\t NA\n",
      "90\t2223.19\t3.5786\t-13.8930\t0.87311\t846\t NA\t NA\n",
      "91\t2231.76\t4.4860\t-13.7872\tNA\tNA\t NA\t NA\n",
      "92\t2236.82\t4.9805\t-13.6162\tNA\tNA\t NA\t NA\n",
      "93\t2241.47\t4.8071\t-13.4457\tNA\tNA\t NA\t NA\n",
      "94\t2245.44\t3.5649\t-13.2394\tNA\tNA\t NA\t NA\n",
      "95\t2457.61\t4.4969\t-12.9625\t0.86284\t939\t NA\t NA\n",
      "96\t2461.72\t2.2265\t-12.7562\tNA\tNA\t NA\t NA\n",
      "97\t2466.55\t3.2374\t-12.5184\tNA\tNA\t NA\t NA\n",
      "98\t2470.46\t2.6493\t-12.3073\tNA\tNA\t NA\t NA\n",
      "99\t2474.94\t1.9164\t-12.0612\tNA\tNA\t NA\t NA\n",
      "Recorded 9 parameters to ./experiments/parameters/NonSepsis_WGAN_clip_99.npy\n"
     ]
    },
    {
     "data": {
      "text/plain": [
       "True"
      ]
     },
     "execution_count": 53,
     "metadata": {},
     "output_type": "execute_result"
    }
   ],
   "source": [
    "num_epochs=settings['num_epochs']\n",
    "use_time = settings['use_time']\n",
    "dp = settings['dp']\n",
    "shuffle = settings['shuffle']\n",
    "vis_real_indices = np.random.choice(len(samples['vali']), size=6)\n",
    "vis_real = np.float32(samples['vali'][vis_real_indices, :, :])\n",
    "#if not labels['vali'] is None:\n",
    "#    vis_real_labels = labels['vali'][vis_real_indices]\n",
    "#else:\n",
    "    #vis_real_labels = None\n",
    "vis_real_labels = None\n",
    "identifier = 'NonSepsis_WGAN_clip'\n",
    "plotting.save_plot_sample(vis_real, 0, identifier + '_real', n_samples=6, \n",
    "                           num_epochs=settings['num_epochs'])\n",
    "\n",
    "# for dp\n",
    "# target_eps = [0.125, 0.25, 0.5, 1, 2, 4, 8]\n",
    "# dp_trace = open('./experiments/traces/' + identifier + '.dptrace.txt', 'w')\n",
    "# dp_trace.write('epoch ' + ' eps' .join(map(str, target_eps)) + '\\n')\n",
    "\n",
    "trace = open('./experiments/traces/' + identifier + '.trace.txt', 'w')\n",
    "trace.write('epoch time D_loss G_loss mmd2 that pdf real_pdf\\n')\n",
    "\n",
    "# --- train --- #\n",
    "train_vars = ['batch_size', 'D_rounds', 'G_rounds', 'use_time', 'seq_length', \n",
    "              'latent_dim', 'num_generated_features', 'cond_dim', 'max_val', \n",
    "              'WGAN_clip', 'one_hot']\n",
    "train_settings = dict((k, settings[k]) for k in train_vars)\n",
    "# train_vars = train_vars.append('clip_disc_weights')\n",
    "# train_settings['clip_disc_weights'] = clip_disc_weights\n",
    "\n",
    "t0 = time()\n",
    "best_epoch = 0\n",
    "print('epoch\\ttime\\tD_loss\\tG_loss\\tmmd2\\tthat\\tpdf_sample\\tpdf_real')\n",
    "for epoch in range(settings['num_epochs']):\n",
    "    \n",
    "    \n",
    "#     D_loss_curr, G_loss_curr = model.train_epoch(epoch, samples['train'], labels['train'],\n",
    "#                                         sess, Z, X, CG, CD, CS,\n",
    "#                                         D_loss, G_loss,\n",
    "#                                         D_solver, G_solver, \n",
    "#                                         **train_settings)\n",
    "\n",
    "#     D_loss_curr, G_loss_curr = model.train_epoch(epoch, samples['train'], None,\n",
    "#                                         sess, Z, X, None, None, None,\n",
    "#                                         D_loss, G_loss,\n",
    "#                                         D_solver, G_solver, \n",
    "#                                         **train_settings)\n",
    "    \n",
    "    D_loss_curr, G_loss_curr = model.train_epoch(clip_disc_weights, epoch, samples['train'], None,\n",
    "                                        sess, Z, X, None, None, None,\n",
    "                                        D_loss, G_loss,\n",
    "                                        D_solver, G_solver,\n",
    "                                        **train_settings)\n",
    "    # -- eval -- #\n",
    "    \n",
    "    # visualise plots of generated samples, with/without labels\n",
    "    if epoch % vis_freq == 0:\n",
    "        if CGAN:\n",
    "            vis_sample = sess.run(G_sample, feed_dict={Z: vis_Z, CG: vis_C})\n",
    "        else:\n",
    "            vis_sample = sess.run(G_sample, feed_dict={Z: vis_Z})\n",
    "        \n",
    "        one_hot = settings['one_hot']\n",
    "        predict_labels = settings['predict_labels']\n",
    "        resample_rate_in_min = None\n",
    "        multivariate_mnist = None\n",
    "        plotting.visualise_at_epoch(vis_sample, \"\", \n",
    "                predict_labels, one_hot, epoch, identifier, num_epochs,\n",
    "                resample_rate_in_min, multivariate_mnist, seq_length, labels=vis_C)\n",
    "        \n",
    "    # compute mmd2 and, if available, prob density\n",
    "    if epoch % eval_freq == 0:\n",
    "        \n",
    "        ## how many samples to evaluate with?\n",
    "        eval_Z = model.sample_Z(eval_size, seq_length, latent_dim, use_time)\n",
    "#         if 'eICU_task' in data:\n",
    "#             eval_C = labels['vali'][np.random.choice(labels['vali'].shape[0], eval_size), :]\n",
    "#         else:\n",
    "        max_val = None\n",
    "        eval_C = model.sample_C(eval_size, cond_dim, max_val, one_hot)\n",
    "        eval_sample = np.empty(shape=(eval_size, seq_length, num_signals))\n",
    "        for i in range(batch_multiplier):\n",
    "            if CGAN:\n",
    "                eval_sample[i*batch_size:(i+1)*batch_size, :, :] = sess.run(G_sample, feed_dict={Z: eval_Z[i*batch_size:(i+1)*batch_size], CG: eval_C[i*batch_size:(i+1)*batch_size]})\n",
    "            else:\n",
    "                eval_sample[i*batch_size:(i+1)*batch_size, :, :] = sess.run(G_sample, feed_dict={Z: eval_Z[i*batch_size:(i+1)*batch_size]})\n",
    "        eval_sample = np.float32(eval_sample)\n",
    "        eval_real = np.float32(samples['vali'][np.random.choice(len(samples['vali']), size=batch_multiplier*batch_size), :, :])\n",
    "       \n",
    "        eval_eval_real = eval_real[:eval_eval_size]\n",
    "        eval_test_real = eval_real[eval_eval_size:]\n",
    "        eval_eval_sample = eval_sample[:eval_eval_size]\n",
    "        eval_test_sample = eval_sample[eval_eval_size:]\n",
    "        \n",
    "        ## MMD\n",
    "        # reset ADAM variables\n",
    "        sess.run(tf.initialize_variables(sigma_opt_vars))\n",
    "        sigma_iter = 0\n",
    "        that_change = sigma_opt_thresh*2\n",
    "        old_that = 0\n",
    "        while that_change > sigma_opt_thresh and sigma_iter < sigma_opt_iter:\n",
    "            new_sigma, that_np, _ = sess.run([sigma, that, sigma_solver], feed_dict={eval_real_PH: eval_eval_real, eval_sample_PH: eval_eval_sample})\n",
    "            that_change = np.abs(that_np - old_that)\n",
    "            old_that = that_np\n",
    "            sigma_iter += 1\n",
    "        opt_sigma = sess.run(sigma)\n",
    "        mmd2, that_np = sess.run(mix_rbf_mmd2_and_ratio(eval_test_real, eval_test_sample,biased=False, sigmas=sigma))\n",
    "        \n",
    "        ## save parameters\n",
    "        if mmd2 < best_mmd2_so_far and epoch > 10:\n",
    "            best_epoch = epoch\n",
    "            best_mmd2_so_far = mmd2\n",
    "            model.dump_parameters(identifier + '_' + str(epoch), sess)\n",
    "        pdf = None\n",
    "        ## prob density (if available)\n",
    "        if not pdf is None:\n",
    "            pdf_sample = np.mean(pdf(eval_sample[:, :, 0]))\n",
    "            pdf_real = np.mean(pdf(eval_real[:, :, 0]))\n",
    "        else:\n",
    "            pdf_sample = 'NA'\n",
    "            pdf_real = 'NA'\n",
    "    else:\n",
    "        # report nothing this epoch\n",
    "        mmd2 = 'NA'\n",
    "        #that = 'NA'\n",
    "        that_np = 'NA'\n",
    "        pdf_sample = 'NA'\n",
    "        pdf_real = 'NA'\n",
    "    \n",
    "#     ## get 'spent privacy'\n",
    "#     if settings['dp']:\n",
    "#         spent_eps_deltas = priv_accountant.get_privacy_spent(sess, target_eps=target_eps)\n",
    "#         # get the moments\n",
    "#         deltas = []\n",
    "#         for (spent_eps, spent_delta) in spent_eps_deltas:\n",
    "#             deltas.append(spent_delta)\n",
    "#         dp_trace.write(str(epoch) + ' ' + ' '.join(map(str, deltas)) + '\\n')\n",
    "#         if epoch % 10 == 0: dp_trace.flush()\n",
    "    \n",
    "    ## print\n",
    "    t = time() - t0\n",
    "    try:\n",
    "        print('%d\\t%.2f\\t%.4f\\t%.4f\\t%.5f\\t%.0f\\t %s\\t %s' % (epoch, t, D_loss_curr, G_loss_curr, mmd2, that_np, pdf_sample, pdf_real))\n",
    "    except TypeError:       # mmd2 is NA (format as strings)\n",
    "        print('%d\\t%.2f\\t%.4f\\t%.4f\\t%s\\t%s\\t %s\\t %s' % (epoch, t, D_loss_curr, G_loss_curr, mmd2, that_np, pdf_sample, pdf_real))\n",
    "\n",
    "    ## save trace\n",
    "    trace.write(' '.join(map(str, [epoch, t, D_loss_curr, G_loss_curr, mmd2, that_np, pdf_sample, pdf_real])) + '\\n')\n",
    "    if epoch % 10 == 0: \n",
    "        trace.flush()\n",
    "        plotting.plot_trace(identifier, xmax=num_epochs, dp=dp)\n",
    "\n",
    "    if shuffle:     # shuffle the training data \n",
    "        perm = np.random.permutation(samples['train'].shape[0])\n",
    "        samples['train'] = samples['train'][perm]\n",
    "#         if labels['train'] is not None:\n",
    "#             labels['train'] = labels['train'][perm]\n",
    "    \n",
    "    if epoch % 50 == 0:\n",
    "        model.dump_parameters(identifier + '_' + str(epoch), sess)\n",
    "\n",
    "trace.flush()\n",
    "plotting.plot_trace(identifier, xmax=num_epochs, dp=dp)\n",
    "model.dump_parameters(identifier + '_' + str(epoch), sess)\n",
    "\n",
    "## after-the-fact evaluation\n",
    "#n_test = vali.shape[0]      # using validation set for now TODO\n",
    "#n_batches_for_test = floor(n_test/batch_size)\n",
    "#n_test_eval = n_batches_for_test*batch_size\n",
    "#test_sample = np.empty(shape=(n_test_eval, seq_length, num_signals))\n",
    "#test_Z = model.sample_Z(n_test_eval, seq_length, latent_dim, use_time)\n",
    "#for i in range(n_batches_for_test):\n",
    "#    test_sample[i*batch_size:(i+1)*batch_size, :, :] = sess.run(G_sample, feed_dict={Z: test_Z[i*batch_size:(i+1)*batch_size]})\n",
    "#test_sample = np.float32(test_sample)\n",
    "#test_real = np.float32(vali[np.random.choice(n_test, n_test_eval, replace=False), :, :])\n",
    "## we can only get samples in the size of the batch...\n",
    "#heuristic_sigma = median_pairwise_distance(test_real, test_sample)\n",
    "#test_mmd2, that = sess.run(mix_rbf_mmd2_and_ratio(test_real, test_sample, sigmas=heuristic_sigma, biased=False))\n",
    "##print(test_mmd2, that)"
   ]
  },
  {
   "cell_type": "code",
   "execution_count": null,
   "metadata": {
    "collapsed": false
   },
   "outputs": [],
   "source": []
  },
  {
   "cell_type": "code",
   "execution_count": null,
   "metadata": {
    "collapsed": true
   },
   "outputs": [],
   "source": []
  },
  {
   "cell_type": "code",
   "execution_count": 54,
   "metadata": {
    "collapsed": false
   },
   "outputs": [
    {
     "name": "stdout",
     "output_type": "stream",
     "text": [
      "(1095, 30, 5)\n",
      "(219, 30, 5)\n"
     ]
    }
   ],
   "source": [
    "print(samples['train'].shape)\n",
    "print(samples['vali'].shape)"
   ]
  },
  {
   "cell_type": "code",
   "execution_count": null,
   "metadata": {
    "collapsed": false
   },
   "outputs": [],
   "source": [
    "real_data = np.vstack((samples['train'],samples['vali']))\n",
    "np.save('./data/'+identifier+'real_data',real_data)"
   ]
  },
  {
   "cell_type": "code",
   "execution_count": null,
   "metadata": {
    "collapsed": false
   },
   "outputs": [],
   "source": [
    "real_data = np.load('./data/'+identifier+'real_data.npy')"
   ]
  },
  {
   "cell_type": "code",
   "execution_count": null,
   "metadata": {
    "collapsed": false
   },
   "outputs": [],
   "source": [
    "real_data.shape"
   ]
  },
  {
   "cell_type": "code",
   "execution_count": null,
   "metadata": {
    "collapsed": true
   },
   "outputs": [],
   "source": [
    "real_data[0]"
   ]
  },
  {
   "cell_type": "code",
   "execution_count": null,
   "metadata": {
    "collapsed": true
   },
   "outputs": [],
   "source": [
    "deNorm_real_data = de_normalise_data(real_data,mean,std)\n",
    "deNorm_real_data.shape"
   ]
  },
  {
   "cell_type": "code",
   "execution_count": null,
   "metadata": {
    "collapsed": true
   },
   "outputs": [],
   "source": [
    "np.save('./data/'+identifier+'deNorm_real_data',deNorm_real_data)"
   ]
  },
  {
   "cell_type": "code",
   "execution_count": null,
   "metadata": {
    "collapsed": true
   },
   "outputs": [],
   "source": [
    "deNorm_real_data = np.load('./data/'+identifier+'deNorm_real_data.npy')\n",
    "deNorm_real_data.shape"
   ]
  },
  {
   "cell_type": "code",
   "execution_count": null,
   "metadata": {
    "collapsed": true
   },
   "outputs": [],
   "source": [
    "#75-25 train test split\n",
    "n_samples_fake = samples['train'].shape[0]\n",
    "n_batches_for_fake = floor(n_samples_fake/settings['batch_size'])\n",
    "n_test_eval = n_batches_for_fake*settings['batch_size']\n",
    "test_sample = np.empty(shape=(n_test_eval, seq_length, num_signals))\n",
    "for i in range(n_batches_for_fake):\n",
    "    fake_Z = model.sample_Z(settings['batch_size'], seq_length, latent_dim, use_time)\n",
    "    test_sample[i*settings['batch_size']:(i+1)*settings['batch_size'], :, :] = sess.run(G_sample, feed_dict={Z: fake_Z})"
   ]
  },
  {
   "cell_type": "code",
   "execution_count": null,
   "metadata": {
    "collapsed": true
   },
   "outputs": [],
   "source": [
    "fake_data = test_sample\n",
    "fake_data.shape"
   ]
  },
  {
   "cell_type": "code",
   "execution_count": null,
   "metadata": {
    "collapsed": true
   },
   "outputs": [],
   "source": [
    "np.save('./data/'+identifier+'fake_data',fake_data)"
   ]
  },
  {
   "cell_type": "code",
   "execution_count": null,
   "metadata": {
    "collapsed": true
   },
   "outputs": [],
   "source": [
    "fake_data = np.load('./data/'+identifier+'fake_data.npy')\n",
    "fake_data.shape"
   ]
  },
  {
   "cell_type": "code",
   "execution_count": null,
   "metadata": {
    "collapsed": true
   },
   "outputs": [],
   "source": [
    "deNorm_fake_data = de_normalise_data(fake_data,mean,std)\n",
    "deNorm_fake_data.shape"
   ]
  },
  {
   "cell_type": "code",
   "execution_count": null,
   "metadata": {
    "collapsed": true
   },
   "outputs": [],
   "source": [
    "np.save('./data/'+identifier+'deNorm_fake_data',deNorm_fake_data)"
   ]
  },
  {
   "cell_type": "code",
   "execution_count": null,
   "metadata": {
    "collapsed": true
   },
   "outputs": [],
   "source": [
    "deNorm_fake_data = np.load('./data/'+identifier+'deNorm_fake_data.npy')\n",
    "deNorm_fake_data.shape"
   ]
  }
 ],
 "metadata": {
  "kernelspec": {
   "display_name": "Python 3",
   "language": "python",
   "name": "python3"
  },
  "language_info": {
   "codemirror_mode": {
    "name": "ipython",
    "version": 3
   },
   "file_extension": ".py",
   "mimetype": "text/x-python",
   "name": "python",
   "nbconvert_exporter": "python",
   "pygments_lexer": "ipython3",
   "version": "3.5.4"
  }
 },
 "nbformat": 4,
 "nbformat_minor": 0
}
