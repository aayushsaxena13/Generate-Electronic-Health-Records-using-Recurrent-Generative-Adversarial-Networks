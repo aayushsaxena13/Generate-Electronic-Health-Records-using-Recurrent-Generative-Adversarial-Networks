{
 "cells": [
  {
   "cell_type": "code",
   "execution_count": 1,
   "metadata": {
    "collapsed": true
   },
   "outputs": [],
   "source": [
    "#Uninstalling scikit-image, updating dask, and reinstalling scikit-image fixed it.\n",
    "#conda upgrade ipykernel\n",
    "#conda install tornado=4.5.3\n",
    "#conda install -c anaconda toolz"
   ]
  },
  {
   "cell_type": "code",
   "execution_count": null,
   "metadata": {
    "collapsed": false
   },
   "outputs": [],
   "source": []
  },
  {
   "cell_type": "code",
   "execution_count": 2,
   "metadata": {
    "collapsed": true
   },
   "outputs": [],
   "source": [
    "import pymysql\n",
    "import pandas as pd\n",
    "import numpy as np\n",
    "pd.set_option('display.max_rows', 500)\n",
    "import tensorflow as tf"
   ]
  },
  {
   "cell_type": "code",
   "execution_count": 3,
   "metadata": {
    "collapsed": false
   },
   "outputs": [],
   "source": [
    "conn = pymysql.connect(user='asaxena6', password='', host='127.0.0.1', database = 'cchs_nov16')"
   ]
  },
  {
   "cell_type": "code",
   "execution_count": 4,
   "metadata": {
    "collapsed": false
   },
   "outputs": [
    {
     "data": {
      "text/plain": [
       "'SELECT VisitEventID, VisitIdentifier, PatientIdentifier, EventTimeKey,         MinutesFromArrival, HeartRate, RespiratoryRate, Temperature, SystolicBP,         WBC, Bands, SedRate, CReactiveProtein, Procalcitonin, DiastolicBP, Platelet,         PulseOx, FIO2, MAP, OxygenSource, BUN, Lactate, Creatinine, BiliRubin,         CurrentLocationTypeCode from cchs_nov16.Nonshock_Infected order by PatientIdentifier, EventTimeKey;'"
      ]
     },
     "execution_count": 4,
     "metadata": {},
     "output_type": "execute_result"
    }
   ],
   "source": [
    "query = \"SELECT VisitEventID, VisitIdentifier, PatientIdentifier, EventTimeKey,\\\n",
    "         MinutesFromArrival, HeartRate, RespiratoryRate, Temperature, SystolicBP,\\\n",
    "         WBC, Bands, SedRate, CReactiveProtein, Procalcitonin, DiastolicBP, Platelet,\\\n",
    "         PulseOx, FIO2, MAP, OxygenSource, BUN, Lactate, Creatinine, BiliRubin,\\\n",
    "         CurrentLocationTypeCode from cchs_nov16.Nonshock_Infected order by PatientIdentifier, EventTimeKey;\"\n",
    "query"
   ]
  },
  {
   "cell_type": "code",
   "execution_count": 5,
   "metadata": {
    "collapsed": false
   },
   "outputs": [],
   "source": [
    "pd_shock = pd.read_sql(query, conn)"
   ]
  },
  {
   "cell_type": "code",
   "execution_count": 6,
   "metadata": {
    "collapsed": true
   },
   "outputs": [],
   "source": [
    "all_features = ['PatientIdentifier','VisitIdentifier','HeartRate','RespiratoryRate','PulseOx','SystolicBP','Temperature']"
   ]
  },
  {
   "cell_type": "code",
   "execution_count": 7,
   "metadata": {
    "collapsed": false
   },
   "outputs": [
    {
     "data": {
      "text/html": [
       "<div>\n",
       "<style scoped>\n",
       "    .dataframe tbody tr th:only-of-type {\n",
       "        vertical-align: middle;\n",
       "    }\n",
       "\n",
       "    .dataframe tbody tr th {\n",
       "        vertical-align: top;\n",
       "    }\n",
       "\n",
       "    .dataframe thead th {\n",
       "        text-align: right;\n",
       "    }\n",
       "</style>\n",
       "<table border=\"1\" class=\"dataframe\">\n",
       "  <thead>\n",
       "    <tr style=\"text-align: right;\">\n",
       "      <th></th>\n",
       "      <th>PatientIdentifier</th>\n",
       "      <th>VisitIdentifier</th>\n",
       "      <th>HeartRate</th>\n",
       "      <th>RespiratoryRate</th>\n",
       "      <th>PulseOx</th>\n",
       "      <th>SystolicBP</th>\n",
       "      <th>Temperature</th>\n",
       "    </tr>\n",
       "  </thead>\n",
       "  <tbody>\n",
       "    <tr>\n",
       "      <th>0</th>\n",
       "      <td>7</td>\n",
       "      <td>126021</td>\n",
       "      <td>NaN</td>\n",
       "      <td>NaN</td>\n",
       "      <td>NaN</td>\n",
       "      <td>NaN</td>\n",
       "      <td>NaN</td>\n",
       "    </tr>\n",
       "    <tr>\n",
       "      <th>1</th>\n",
       "      <td>7</td>\n",
       "      <td>126021</td>\n",
       "      <td>NaN</td>\n",
       "      <td>NaN</td>\n",
       "      <td>NaN</td>\n",
       "      <td>NaN</td>\n",
       "      <td>NaN</td>\n",
       "    </tr>\n",
       "    <tr>\n",
       "      <th>2</th>\n",
       "      <td>7</td>\n",
       "      <td>126021</td>\n",
       "      <td>101.0</td>\n",
       "      <td>20.0</td>\n",
       "      <td>97.0</td>\n",
       "      <td>141.0</td>\n",
       "      <td>38.0</td>\n",
       "    </tr>\n",
       "    <tr>\n",
       "      <th>3</th>\n",
       "      <td>7</td>\n",
       "      <td>126021</td>\n",
       "      <td>NaN</td>\n",
       "      <td>NaN</td>\n",
       "      <td>NaN</td>\n",
       "      <td>NaN</td>\n",
       "      <td>NaN</td>\n",
       "    </tr>\n",
       "    <tr>\n",
       "      <th>4</th>\n",
       "      <td>7</td>\n",
       "      <td>126021</td>\n",
       "      <td>NaN</td>\n",
       "      <td>NaN</td>\n",
       "      <td>NaN</td>\n",
       "      <td>NaN</td>\n",
       "      <td>NaN</td>\n",
       "    </tr>\n",
       "  </tbody>\n",
       "</table>\n",
       "</div>"
      ],
      "text/plain": [
       "   PatientIdentifier  VisitIdentifier  HeartRate  RespiratoryRate  PulseOx  \\\n",
       "0                  7           126021        NaN              NaN      NaN   \n",
       "1                  7           126021        NaN              NaN      NaN   \n",
       "2                  7           126021      101.0             20.0     97.0   \n",
       "3                  7           126021        NaN              NaN      NaN   \n",
       "4                  7           126021        NaN              NaN      NaN   \n",
       "\n",
       "   SystolicBP  Temperature  \n",
       "0         NaN          NaN  \n",
       "1         NaN          NaN  \n",
       "2       141.0         38.0  \n",
       "3         NaN          NaN  \n",
       "4         NaN          NaN  "
      ]
     },
     "execution_count": 7,
     "metadata": {},
     "output_type": "execute_result"
    }
   ],
   "source": [
    "pd_shock_rel = pd_shock[all_features]\n",
    "pd_shock_rel.head()"
   ]
  },
  {
   "cell_type": "code",
   "execution_count": 8,
   "metadata": {
    "collapsed": false
   },
   "outputs": [
    {
     "data": {
      "text/html": [
       "<div>\n",
       "<style scoped>\n",
       "    .dataframe tbody tr th:only-of-type {\n",
       "        vertical-align: middle;\n",
       "    }\n",
       "\n",
       "    .dataframe tbody tr th {\n",
       "        vertical-align: top;\n",
       "    }\n",
       "\n",
       "    .dataframe thead th {\n",
       "        text-align: right;\n",
       "    }\n",
       "</style>\n",
       "<table border=\"1\" class=\"dataframe\">\n",
       "  <thead>\n",
       "    <tr style=\"text-align: right;\">\n",
       "      <th></th>\n",
       "      <th>PatientIdentifier</th>\n",
       "      <th>VisitIdentifier</th>\n",
       "      <th>HeartRate</th>\n",
       "      <th>RespiratoryRate</th>\n",
       "      <th>PulseOx</th>\n",
       "      <th>SystolicBP</th>\n",
       "      <th>Temperature</th>\n",
       "    </tr>\n",
       "  </thead>\n",
       "  <tbody>\n",
       "    <tr>\n",
       "      <th>7380</th>\n",
       "      <td>3643</td>\n",
       "      <td>57643</td>\n",
       "      <td>NaN</td>\n",
       "      <td>NaN</td>\n",
       "      <td>NaN</td>\n",
       "      <td>NaN</td>\n",
       "      <td>NaN</td>\n",
       "    </tr>\n",
       "    <tr>\n",
       "      <th>7381</th>\n",
       "      <td>3643</td>\n",
       "      <td>57643</td>\n",
       "      <td>NaN</td>\n",
       "      <td>NaN</td>\n",
       "      <td>NaN</td>\n",
       "      <td>NaN</td>\n",
       "      <td>NaN</td>\n",
       "    </tr>\n",
       "    <tr>\n",
       "      <th>7382</th>\n",
       "      <td>3643</td>\n",
       "      <td>57643</td>\n",
       "      <td>108.0</td>\n",
       "      <td>34.0</td>\n",
       "      <td>88.0</td>\n",
       "      <td>NaN</td>\n",
       "      <td>NaN</td>\n",
       "    </tr>\n",
       "    <tr>\n",
       "      <th>7383</th>\n",
       "      <td>3643</td>\n",
       "      <td>57643</td>\n",
       "      <td>NaN</td>\n",
       "      <td>NaN</td>\n",
       "      <td>NaN</td>\n",
       "      <td>NaN</td>\n",
       "      <td>NaN</td>\n",
       "    </tr>\n",
       "    <tr>\n",
       "      <th>7384</th>\n",
       "      <td>3643</td>\n",
       "      <td>57643</td>\n",
       "      <td>NaN</td>\n",
       "      <td>NaN</td>\n",
       "      <td>NaN</td>\n",
       "      <td>NaN</td>\n",
       "      <td>NaN</td>\n",
       "    </tr>\n",
       "  </tbody>\n",
       "</table>\n",
       "</div>"
      ],
      "text/plain": [
       "      PatientIdentifier  VisitIdentifier  HeartRate  RespiratoryRate  PulseOx  \\\n",
       "7380               3643            57643        NaN              NaN      NaN   \n",
       "7381               3643            57643        NaN              NaN      NaN   \n",
       "7382               3643            57643      108.0             34.0     88.0   \n",
       "7383               3643            57643        NaN              NaN      NaN   \n",
       "7384               3643            57643        NaN              NaN      NaN   \n",
       "\n",
       "      SystolicBP  Temperature  \n",
       "7380         NaN          NaN  \n",
       "7381         NaN          NaN  \n",
       "7382         NaN          NaN  \n",
       "7383         NaN          NaN  \n",
       "7384         NaN          NaN  "
      ]
     },
     "execution_count": 8,
     "metadata": {},
     "output_type": "execute_result"
    }
   ],
   "source": [
    "pd_shock_rel[pd_shock_rel['PatientIdentifier'] == 3643].head()"
   ]
  },
  {
   "cell_type": "code",
   "execution_count": 9,
   "metadata": {
    "collapsed": false
   },
   "outputs": [],
   "source": [
    "pd_shock_fill = pd_shock_rel.groupby(['PatientIdentifier','VisitIdentifier']).fillna(method='ffill').fillna(method='bfill')"
   ]
  },
  {
   "cell_type": "code",
   "execution_count": 10,
   "metadata": {
    "collapsed": false
   },
   "outputs": [
    {
     "data": {
      "text/html": [
       "<div>\n",
       "<style scoped>\n",
       "    .dataframe tbody tr th:only-of-type {\n",
       "        vertical-align: middle;\n",
       "    }\n",
       "\n",
       "    .dataframe tbody tr th {\n",
       "        vertical-align: top;\n",
       "    }\n",
       "\n",
       "    .dataframe thead th {\n",
       "        text-align: right;\n",
       "    }\n",
       "</style>\n",
       "<table border=\"1\" class=\"dataframe\">\n",
       "  <thead>\n",
       "    <tr style=\"text-align: right;\">\n",
       "      <th></th>\n",
       "      <th>PatientIdentifier</th>\n",
       "      <th>VisitIdentifier</th>\n",
       "      <th>HeartRate</th>\n",
       "      <th>RespiratoryRate</th>\n",
       "      <th>PulseOx</th>\n",
       "      <th>SystolicBP</th>\n",
       "      <th>Temperature</th>\n",
       "    </tr>\n",
       "  </thead>\n",
       "  <tbody>\n",
       "    <tr>\n",
       "      <th>0</th>\n",
       "      <td>7</td>\n",
       "      <td>126021</td>\n",
       "      <td>101.0</td>\n",
       "      <td>20.0</td>\n",
       "      <td>97.0</td>\n",
       "      <td>141.0</td>\n",
       "      <td>38.0</td>\n",
       "    </tr>\n",
       "    <tr>\n",
       "      <th>1</th>\n",
       "      <td>7</td>\n",
       "      <td>126021</td>\n",
       "      <td>101.0</td>\n",
       "      <td>20.0</td>\n",
       "      <td>97.0</td>\n",
       "      <td>141.0</td>\n",
       "      <td>38.0</td>\n",
       "    </tr>\n",
       "    <tr>\n",
       "      <th>2</th>\n",
       "      <td>7</td>\n",
       "      <td>126021</td>\n",
       "      <td>101.0</td>\n",
       "      <td>20.0</td>\n",
       "      <td>97.0</td>\n",
       "      <td>141.0</td>\n",
       "      <td>38.0</td>\n",
       "    </tr>\n",
       "    <tr>\n",
       "      <th>3</th>\n",
       "      <td>7</td>\n",
       "      <td>126021</td>\n",
       "      <td>101.0</td>\n",
       "      <td>20.0</td>\n",
       "      <td>97.0</td>\n",
       "      <td>141.0</td>\n",
       "      <td>38.0</td>\n",
       "    </tr>\n",
       "    <tr>\n",
       "      <th>4</th>\n",
       "      <td>7</td>\n",
       "      <td>126021</td>\n",
       "      <td>101.0</td>\n",
       "      <td>20.0</td>\n",
       "      <td>97.0</td>\n",
       "      <td>141.0</td>\n",
       "      <td>38.0</td>\n",
       "    </tr>\n",
       "  </tbody>\n",
       "</table>\n",
       "</div>"
      ],
      "text/plain": [
       "   PatientIdentifier  VisitIdentifier  HeartRate  RespiratoryRate  PulseOx  \\\n",
       "0                  7           126021      101.0             20.0     97.0   \n",
       "1                  7           126021      101.0             20.0     97.0   \n",
       "2                  7           126021      101.0             20.0     97.0   \n",
       "3                  7           126021      101.0             20.0     97.0   \n",
       "4                  7           126021      101.0             20.0     97.0   \n",
       "\n",
       "   SystolicBP  Temperature  \n",
       "0       141.0         38.0  \n",
       "1       141.0         38.0  \n",
       "2       141.0         38.0  \n",
       "3       141.0         38.0  \n",
       "4       141.0         38.0  "
      ]
     },
     "execution_count": 10,
     "metadata": {},
     "output_type": "execute_result"
    }
   ],
   "source": [
    "pd_data = pd.concat([pd_shock_rel[['PatientIdentifier','VisitIdentifier']],pd_shock_fill],axis=1)\n",
    "pd_data.head()"
   ]
  },
  {
   "cell_type": "code",
   "execution_count": 11,
   "metadata": {
    "collapsed": false
   },
   "outputs": [
    {
     "data": {
      "text/html": [
       "<div>\n",
       "<style scoped>\n",
       "    .dataframe tbody tr th:only-of-type {\n",
       "        vertical-align: middle;\n",
       "    }\n",
       "\n",
       "    .dataframe tbody tr th {\n",
       "        vertical-align: top;\n",
       "    }\n",
       "\n",
       "    .dataframe thead th {\n",
       "        text-align: right;\n",
       "    }\n",
       "</style>\n",
       "<table border=\"1\" class=\"dataframe\">\n",
       "  <thead>\n",
       "    <tr style=\"text-align: right;\">\n",
       "      <th></th>\n",
       "      <th>PatientIdentifier</th>\n",
       "      <th>VisitIdentifier</th>\n",
       "      <th>HeartRate</th>\n",
       "      <th>RespiratoryRate</th>\n",
       "      <th>PulseOx</th>\n",
       "      <th>SystolicBP</th>\n",
       "      <th>Temperature</th>\n",
       "    </tr>\n",
       "  </thead>\n",
       "  <tbody>\n",
       "    <tr>\n",
       "      <th>7380</th>\n",
       "      <td>3643</td>\n",
       "      <td>57643</td>\n",
       "      <td>108.0</td>\n",
       "      <td>34.0</td>\n",
       "      <td>88.0</td>\n",
       "      <td>137.0</td>\n",
       "      <td>36.9</td>\n",
       "    </tr>\n",
       "    <tr>\n",
       "      <th>7381</th>\n",
       "      <td>3643</td>\n",
       "      <td>57643</td>\n",
       "      <td>108.0</td>\n",
       "      <td>34.0</td>\n",
       "      <td>88.0</td>\n",
       "      <td>137.0</td>\n",
       "      <td>36.9</td>\n",
       "    </tr>\n",
       "    <tr>\n",
       "      <th>7382</th>\n",
       "      <td>3643</td>\n",
       "      <td>57643</td>\n",
       "      <td>108.0</td>\n",
       "      <td>34.0</td>\n",
       "      <td>88.0</td>\n",
       "      <td>137.0</td>\n",
       "      <td>36.9</td>\n",
       "    </tr>\n",
       "    <tr>\n",
       "      <th>7383</th>\n",
       "      <td>3643</td>\n",
       "      <td>57643</td>\n",
       "      <td>108.0</td>\n",
       "      <td>34.0</td>\n",
       "      <td>88.0</td>\n",
       "      <td>137.0</td>\n",
       "      <td>36.9</td>\n",
       "    </tr>\n",
       "    <tr>\n",
       "      <th>7384</th>\n",
       "      <td>3643</td>\n",
       "      <td>57643</td>\n",
       "      <td>108.0</td>\n",
       "      <td>34.0</td>\n",
       "      <td>88.0</td>\n",
       "      <td>137.0</td>\n",
       "      <td>36.9</td>\n",
       "    </tr>\n",
       "  </tbody>\n",
       "</table>\n",
       "</div>"
      ],
      "text/plain": [
       "      PatientIdentifier  VisitIdentifier  HeartRate  RespiratoryRate  PulseOx  \\\n",
       "7380               3643            57643      108.0             34.0     88.0   \n",
       "7381               3643            57643      108.0             34.0     88.0   \n",
       "7382               3643            57643      108.0             34.0     88.0   \n",
       "7383               3643            57643      108.0             34.0     88.0   \n",
       "7384               3643            57643      108.0             34.0     88.0   \n",
       "\n",
       "      SystolicBP  Temperature  \n",
       "7380       137.0         36.9  \n",
       "7381       137.0         36.9  \n",
       "7382       137.0         36.9  \n",
       "7383       137.0         36.9  \n",
       "7384       137.0         36.9  "
      ]
     },
     "execution_count": 11,
     "metadata": {},
     "output_type": "execute_result"
    }
   ],
   "source": [
    "#THis patient has data for multiple visits\n",
    "pd_data[pd_data['PatientIdentifier'] == 3643].head()"
   ]
  },
  {
   "cell_type": "code",
   "execution_count": null,
   "metadata": {
    "collapsed": false
   },
   "outputs": [],
   "source": []
  },
  {
   "cell_type": "code",
   "execution_count": 12,
   "metadata": {
    "collapsed": false
   },
   "outputs": [
    {
     "data": {
      "text/html": [
       "<div>\n",
       "<style scoped>\n",
       "    .dataframe tbody tr th:only-of-type {\n",
       "        vertical-align: middle;\n",
       "    }\n",
       "\n",
       "    .dataframe tbody tr th {\n",
       "        vertical-align: top;\n",
       "    }\n",
       "\n",
       "    .dataframe thead th {\n",
       "        text-align: right;\n",
       "    }\n",
       "</style>\n",
       "<table border=\"1\" class=\"dataframe\">\n",
       "  <thead>\n",
       "    <tr style=\"text-align: right;\">\n",
       "      <th></th>\n",
       "      <th>PatientIdentifier</th>\n",
       "      <th>VisitIdentifier</th>\n",
       "      <th>HeartRate</th>\n",
       "      <th>RespiratoryRate</th>\n",
       "      <th>PulseOx</th>\n",
       "      <th>SystolicBP</th>\n",
       "      <th>Temperature</th>\n",
       "    </tr>\n",
       "  </thead>\n",
       "  <tbody>\n",
       "    <tr>\n",
       "      <th>0</th>\n",
       "      <td>7</td>\n",
       "      <td>126021</td>\n",
       "      <td>101.0</td>\n",
       "      <td>20.0</td>\n",
       "      <td>97.0</td>\n",
       "      <td>141.0</td>\n",
       "      <td>38.0</td>\n",
       "    </tr>\n",
       "    <tr>\n",
       "      <th>5</th>\n",
       "      <td>7</td>\n",
       "      <td>126021</td>\n",
       "      <td>109.0</td>\n",
       "      <td>28.0</td>\n",
       "      <td>94.0</td>\n",
       "      <td>174.0</td>\n",
       "      <td>38.0</td>\n",
       "    </tr>\n",
       "    <tr>\n",
       "      <th>7</th>\n",
       "      <td>7</td>\n",
       "      <td>126021</td>\n",
       "      <td>107.0</td>\n",
       "      <td>25.0</td>\n",
       "      <td>99.0</td>\n",
       "      <td>167.0</td>\n",
       "      <td>39.3</td>\n",
       "    </tr>\n",
       "    <tr>\n",
       "      <th>10</th>\n",
       "      <td>7</td>\n",
       "      <td>126021</td>\n",
       "      <td>103.0</td>\n",
       "      <td>18.0</td>\n",
       "      <td>98.0</td>\n",
       "      <td>185.0</td>\n",
       "      <td>39.3</td>\n",
       "    </tr>\n",
       "    <tr>\n",
       "      <th>12</th>\n",
       "      <td>7</td>\n",
       "      <td>126021</td>\n",
       "      <td>90.0</td>\n",
       "      <td>15.0</td>\n",
       "      <td>99.0</td>\n",
       "      <td>157.0</td>\n",
       "      <td>39.3</td>\n",
       "    </tr>\n",
       "  </tbody>\n",
       "</table>\n",
       "</div>"
      ],
      "text/plain": [
       "    PatientIdentifier  VisitIdentifier  HeartRate  RespiratoryRate  PulseOx  \\\n",
       "0                   7           126021      101.0             20.0     97.0   \n",
       "5                   7           126021      109.0             28.0     94.0   \n",
       "7                   7           126021      107.0             25.0     99.0   \n",
       "10                  7           126021      103.0             18.0     98.0   \n",
       "12                  7           126021       90.0             15.0     99.0   \n",
       "\n",
       "    SystolicBP  Temperature  \n",
       "0        141.0         38.0  \n",
       "5        174.0         38.0  \n",
       "7        167.0         39.3  \n",
       "10       185.0         39.3  \n",
       "12       157.0         39.3  "
      ]
     },
     "execution_count": 12,
     "metadata": {},
     "output_type": "execute_result"
    }
   ],
   "source": [
    "pd_data_unique = pd_data.drop_duplicates(subset=all_features, keep=\"first\")\n",
    "pd_data_unique.head()"
   ]
  },
  {
   "cell_type": "code",
   "execution_count": 13,
   "metadata": {
    "collapsed": false
   },
   "outputs": [
    {
     "data": {
      "text/html": [
       "<div>\n",
       "<style scoped>\n",
       "    .dataframe tbody tr th:only-of-type {\n",
       "        vertical-align: middle;\n",
       "    }\n",
       "\n",
       "    .dataframe tbody tr th {\n",
       "        vertical-align: top;\n",
       "    }\n",
       "\n",
       "    .dataframe thead tr th {\n",
       "        text-align: left;\n",
       "    }\n",
       "\n",
       "    .dataframe thead tr:last-of-type th {\n",
       "        text-align: right;\n",
       "    }\n",
       "</style>\n",
       "<table border=\"1\" class=\"dataframe\">\n",
       "  <thead>\n",
       "    <tr>\n",
       "      <th></th>\n",
       "      <th>VisitIdentifier</th>\n",
       "      <th>HeartRate</th>\n",
       "      <th>RespiratoryRate</th>\n",
       "      <th>PulseOx</th>\n",
       "      <th>SystolicBP</th>\n",
       "      <th>Temperature</th>\n",
       "    </tr>\n",
       "    <tr>\n",
       "      <th></th>\n",
       "      <th>count</th>\n",
       "      <th>count</th>\n",
       "      <th>count</th>\n",
       "      <th>count</th>\n",
       "      <th>count</th>\n",
       "      <th>count</th>\n",
       "    </tr>\n",
       "    <tr>\n",
       "      <th>PatientIdentifier</th>\n",
       "      <th></th>\n",
       "      <th></th>\n",
       "      <th></th>\n",
       "      <th></th>\n",
       "      <th></th>\n",
       "      <th></th>\n",
       "    </tr>\n",
       "  </thead>\n",
       "  <tbody>\n",
       "    <tr>\n",
       "      <th>7</th>\n",
       "      <td>9</td>\n",
       "      <td>9</td>\n",
       "      <td>9</td>\n",
       "      <td>9</td>\n",
       "      <td>9</td>\n",
       "      <td>9</td>\n",
       "    </tr>\n",
       "    <tr>\n",
       "      <th>20</th>\n",
       "      <td>47</td>\n",
       "      <td>47</td>\n",
       "      <td>47</td>\n",
       "      <td>47</td>\n",
       "      <td>47</td>\n",
       "      <td>47</td>\n",
       "    </tr>\n",
       "    <tr>\n",
       "      <th>29</th>\n",
       "      <td>27</td>\n",
       "      <td>27</td>\n",
       "      <td>27</td>\n",
       "      <td>27</td>\n",
       "      <td>27</td>\n",
       "      <td>27</td>\n",
       "    </tr>\n",
       "    <tr>\n",
       "      <th>31</th>\n",
       "      <td>23</td>\n",
       "      <td>23</td>\n",
       "      <td>23</td>\n",
       "      <td>23</td>\n",
       "      <td>23</td>\n",
       "      <td>23</td>\n",
       "    </tr>\n",
       "    <tr>\n",
       "      <th>44</th>\n",
       "      <td>56</td>\n",
       "      <td>56</td>\n",
       "      <td>56</td>\n",
       "      <td>56</td>\n",
       "      <td>56</td>\n",
       "      <td>56</td>\n",
       "    </tr>\n",
       "  </tbody>\n",
       "</table>\n",
       "</div>"
      ],
      "text/plain": [
       "                  VisitIdentifier HeartRate RespiratoryRate PulseOx  \\\n",
       "                            count     count           count   count   \n",
       "PatientIdentifier                                                     \n",
       "7                               9         9               9       9   \n",
       "20                             47        47              47      47   \n",
       "29                             27        27              27      27   \n",
       "31                             23        23              23      23   \n",
       "44                             56        56              56      56   \n",
       "\n",
       "                  SystolicBP Temperature  \n",
       "                       count       count  \n",
       "PatientIdentifier                         \n",
       "7                          9           9  \n",
       "20                        47          47  \n",
       "29                        27          27  \n",
       "31                        23          23  \n",
       "44                        56          56  "
      ]
     },
     "execution_count": 13,
     "metadata": {},
     "output_type": "execute_result"
    }
   ],
   "source": [
    "pd_patient_group = pd_data_unique.groupby('PatientIdentifier').agg(['count'])\n",
    "pd_patient_group.head()"
   ]
  },
  {
   "cell_type": "code",
   "execution_count": 14,
   "metadata": {
    "collapsed": false
   },
   "outputs": [],
   "source": [
    "#pd_patient_group[pd_patient_group['VisitIdentifier']['count'] == 15]"
   ]
  },
  {
   "cell_type": "code",
   "execution_count": 15,
   "metadata": {
    "collapsed": false
   },
   "outputs": [],
   "source": [
    "#pd_patient_group['VisitIdentifier'].nsmallest(20, 'count')"
   ]
  },
  {
   "cell_type": "code",
   "execution_count": 16,
   "metadata": {
    "collapsed": false
   },
   "outputs": [
    {
     "data": {
      "text/html": [
       "<div>\n",
       "<style scoped>\n",
       "    .dataframe tbody tr th:only-of-type {\n",
       "        vertical-align: middle;\n",
       "    }\n",
       "\n",
       "    .dataframe tbody tr th {\n",
       "        vertical-align: top;\n",
       "    }\n",
       "\n",
       "    .dataframe thead th {\n",
       "        text-align: right;\n",
       "    }\n",
       "</style>\n",
       "<table border=\"1\" class=\"dataframe\">\n",
       "  <thead>\n",
       "    <tr style=\"text-align: right;\">\n",
       "      <th></th>\n",
       "      <th>count</th>\n",
       "    </tr>\n",
       "  </thead>\n",
       "  <tbody>\n",
       "    <tr>\n",
       "      <th>count</th>\n",
       "      <td>2872.000000</td>\n",
       "    </tr>\n",
       "    <tr>\n",
       "      <th>mean</th>\n",
       "      <td>35.986072</td>\n",
       "    </tr>\n",
       "    <tr>\n",
       "      <th>std</th>\n",
       "      <td>43.353196</td>\n",
       "    </tr>\n",
       "    <tr>\n",
       "      <th>min</th>\n",
       "      <td>2.000000</td>\n",
       "    </tr>\n",
       "    <tr>\n",
       "      <th>25%</th>\n",
       "      <td>14.000000</td>\n",
       "    </tr>\n",
       "    <tr>\n",
       "      <th>50%</th>\n",
       "      <td>24.000000</td>\n",
       "    </tr>\n",
       "    <tr>\n",
       "      <th>75%</th>\n",
       "      <td>41.250000</td>\n",
       "    </tr>\n",
       "    <tr>\n",
       "      <th>max</th>\n",
       "      <td>616.000000</td>\n",
       "    </tr>\n",
       "  </tbody>\n",
       "</table>\n",
       "</div>"
      ],
      "text/plain": [
       "             count\n",
       "count  2872.000000\n",
       "mean     35.986072\n",
       "std      43.353196\n",
       "min       2.000000\n",
       "25%      14.000000\n",
       "50%      24.000000\n",
       "75%      41.250000\n",
       "max     616.000000"
      ]
     },
     "execution_count": 16,
     "metadata": {},
     "output_type": "execute_result"
    }
   ],
   "source": [
    "pd_patient_group['VisitIdentifier'].describe()"
   ]
  },
  {
   "cell_type": "code",
   "execution_count": 17,
   "metadata": {
    "collapsed": false
   },
   "outputs": [
    {
     "data": {
      "text/plain": [
       "1095"
      ]
     },
     "execution_count": 17,
     "metadata": {},
     "output_type": "execute_result"
    }
   ],
   "source": [
    "len(pd_patient_group[pd_patient_group['VisitIdentifier']['count'] >=30])\n",
    "#Choosing 30 as the sequence lenght so that we have sufficient data"
   ]
  },
  {
   "cell_type": "code",
   "execution_count": 18,
   "metadata": {
    "collapsed": false
   },
   "outputs": [
    {
     "data": {
      "text/plain": [
       "array([    20,     44,    110, ..., 119536, 119726, 119775])"
      ]
     },
     "execution_count": 18,
     "metadata": {},
     "output_type": "execute_result"
    }
   ],
   "source": [
    "# Get patients with records greater than 30\n",
    "pid = pd_patient_group[pd_patient_group['VisitIdentifier']['count'] >=30].index\n",
    "pid = np.array(pid)\n",
    "pid"
   ]
  },
  {
   "cell_type": "code",
   "execution_count": 19,
   "metadata": {
    "collapsed": false
   },
   "outputs": [
    {
     "data": {
      "text/plain": [
       "1095"
      ]
     },
     "execution_count": 19,
     "metadata": {},
     "output_type": "execute_result"
    }
   ],
   "source": [
    "len(pid)"
   ]
  },
  {
   "cell_type": "code",
   "execution_count": 20,
   "metadata": {
    "collapsed": false
   },
   "outputs": [
    {
     "data": {
      "text/plain": [
       "pandas.core.series.Series"
      ]
     },
     "execution_count": 20,
     "metadata": {},
     "output_type": "execute_result"
    }
   ],
   "source": [
    "type(pd_patient_group['VisitIdentifier']['count'])"
   ]
  },
  {
   "cell_type": "code",
   "execution_count": 21,
   "metadata": {
    "collapsed": false
   },
   "outputs": [
    {
     "data": {
      "text/plain": [
       "False"
      ]
     },
     "execution_count": 21,
     "metadata": {},
     "output_type": "execute_result"
    }
   ],
   "source": [
    "pd_data_unique.isnull().values.any()"
   ]
  },
  {
   "cell_type": "code",
   "execution_count": 22,
   "metadata": {
    "collapsed": false
   },
   "outputs": [
    {
     "data": {
      "text/plain": [
       "1095"
      ]
     },
     "execution_count": 22,
     "metadata": {},
     "output_type": "execute_result"
    }
   ],
   "source": [
    "#Number of unique patients\n",
    "nUniquePatients = len(pid)\n",
    "nUniquePatients"
   ]
  },
  {
   "cell_type": "code",
   "execution_count": 23,
   "metadata": {
    "collapsed": false
   },
   "outputs": [
    {
     "data": {
      "text/html": [
       "<div>\n",
       "<style scoped>\n",
       "    .dataframe tbody tr th:only-of-type {\n",
       "        vertical-align: middle;\n",
       "    }\n",
       "\n",
       "    .dataframe tbody tr th {\n",
       "        vertical-align: top;\n",
       "    }\n",
       "\n",
       "    .dataframe thead th {\n",
       "        text-align: right;\n",
       "    }\n",
       "</style>\n",
       "<table border=\"1\" class=\"dataframe\">\n",
       "  <thead>\n",
       "    <tr style=\"text-align: right;\">\n",
       "      <th></th>\n",
       "      <th>PatientIdentifier</th>\n",
       "      <th>VisitIdentifier</th>\n",
       "      <th>HeartRate</th>\n",
       "      <th>RespiratoryRate</th>\n",
       "      <th>PulseOx</th>\n",
       "      <th>SystolicBP</th>\n",
       "      <th>Temperature</th>\n",
       "    </tr>\n",
       "  </thead>\n",
       "  <tbody>\n",
       "    <tr>\n",
       "      <th>53</th>\n",
       "      <td>20</td>\n",
       "      <td>38911</td>\n",
       "      <td>86.0</td>\n",
       "      <td>16.0</td>\n",
       "      <td>94.0</td>\n",
       "      <td>147.0</td>\n",
       "      <td>36.9</td>\n",
       "    </tr>\n",
       "    <tr>\n",
       "      <th>54</th>\n",
       "      <td>20</td>\n",
       "      <td>38911</td>\n",
       "      <td>86.0</td>\n",
       "      <td>16.0</td>\n",
       "      <td>94.0</td>\n",
       "      <td>132.0</td>\n",
       "      <td>36.9</td>\n",
       "    </tr>\n",
       "    <tr>\n",
       "      <th>55</th>\n",
       "      <td>20</td>\n",
       "      <td>38911</td>\n",
       "      <td>90.0</td>\n",
       "      <td>16.0</td>\n",
       "      <td>94.0</td>\n",
       "      <td>123.0</td>\n",
       "      <td>36.9</td>\n",
       "    </tr>\n",
       "    <tr>\n",
       "      <th>56</th>\n",
       "      <td>20</td>\n",
       "      <td>38911</td>\n",
       "      <td>90.0</td>\n",
       "      <td>16.0</td>\n",
       "      <td>94.0</td>\n",
       "      <td>145.0</td>\n",
       "      <td>36.9</td>\n",
       "    </tr>\n",
       "    <tr>\n",
       "      <th>57</th>\n",
       "      <td>20</td>\n",
       "      <td>38911</td>\n",
       "      <td>87.0</td>\n",
       "      <td>16.0</td>\n",
       "      <td>94.0</td>\n",
       "      <td>117.0</td>\n",
       "      <td>36.9</td>\n",
       "    </tr>\n",
       "  </tbody>\n",
       "</table>\n",
       "</div>"
      ],
      "text/plain": [
       "    PatientIdentifier  VisitIdentifier  HeartRate  RespiratoryRate  PulseOx  \\\n",
       "53                 20            38911       86.0             16.0     94.0   \n",
       "54                 20            38911       86.0             16.0     94.0   \n",
       "55                 20            38911       90.0             16.0     94.0   \n",
       "56                 20            38911       90.0             16.0     94.0   \n",
       "57                 20            38911       87.0             16.0     94.0   \n",
       "\n",
       "    SystolicBP  Temperature  \n",
       "53       147.0         36.9  \n",
       "54       132.0         36.9  \n",
       "55       123.0         36.9  \n",
       "56       145.0         36.9  \n",
       "57       117.0         36.9  "
      ]
     },
     "execution_count": 23,
     "metadata": {},
     "output_type": "execute_result"
    }
   ],
   "source": [
    "pd_data_latest_records = pd_data_unique[pd_data_unique['PatientIdentifier'].isin(pid)].groupby('PatientIdentifier').tail(30)\n",
    "pd_data_latest_records.head()"
   ]
  },
  {
   "cell_type": "code",
   "execution_count": 24,
   "metadata": {
    "collapsed": false
   },
   "outputs": [],
   "source": [
    "#pd_data_latest_records.head()"
   ]
  },
  {
   "cell_type": "code",
   "execution_count": 25,
   "metadata": {
    "collapsed": false
   },
   "outputs": [
    {
     "data": {
      "text/plain": [
       "{'D_rounds': 1,\n",
       " 'G_rounds': 10,\n",
       " 'WGAN_clip': False,\n",
       " 'batch_mean': False,\n",
       " 'batch_size': 56,\n",
       " 'batches_per_lot': 1,\n",
       " 'cond_dim': 0,\n",
       " 'data': 'eICU_task',\n",
       " 'dp': False,\n",
       " 'dp_sigma': 0.6,\n",
       " 'hidden_units_d': 100,\n",
       " 'hidden_units_g': 100,\n",
       " 'kappa': 1,\n",
       " 'l2norm_bound': 4,\n",
       " 'latent_dim': 10,\n",
       " 'learn_scale': False,\n",
       " 'learning_rate': 0.01,\n",
       " 'max_val': 1,\n",
       " 'normalise': True,\n",
       " 'num_epochs': 120,\n",
       " 'num_generated_features': 5,\n",
       " 'num_samples': 1095,\n",
       " 'num_signals': 5,\n",
       " 'one_hot': None,\n",
       " 'predict_labels': False,\n",
       " 'seq_length': 30,\n",
       " 'shuffle': True,\n",
       " 'use_time': False}"
      ]
     },
     "execution_count": 25,
     "metadata": {},
     "output_type": "execute_result"
    }
   ],
   "source": [
    "settings = {\n",
    "    \"data\": \"eICU_task\",\n",
    "    \"num_samples\": nUniquePatients,\n",
    "    \"seq_length\": 30,\n",
    "    \"num_signals\": 5,\n",
    "    \"normalise\": True,\n",
    "    #For conditional GAN\n",
    "    \"cond_dim\": 0,\n",
    "    #For conditional GAN\n",
    "    \"max_val\": 1,\n",
    "    #For conditional GAN - to encode labels in one hot encoding\n",
    "    \"one_hot\": None,\n",
    "    \"predict_labels\": False,\n",
    "    \"hidden_units_g\": 100,\n",
    "    \"hidden_units_d\": 100,\n",
    "    \"kappa\": 1,\n",
    "    #Noise Dimensions\n",
    "    \"latent_dim\": 10,\n",
    "#     \"learning_rate\": 0.1,\n",
    "#     \"batch_size\": 28,\n",
    "    \"learning_rate\": 0.01,\n",
    "    \"batch_size\": 56,\n",
    "    \"num_epochs\": 120,\n",
    "    \"D_rounds\": 1,\n",
    "#     \"G_rounds\": 3,\n",
    "    \"G_rounds\": 10,\n",
    "    \"shuffle\": True,\n",
    "    \"num_generated_features\": 5,\n",
    "    \"batch_mean\": False,\n",
    "    \"learn_scale\": False,\n",
    "    \"dp\": False,\n",
    "    \"batches_per_lot\": 1,\n",
    "    \"dp_sigma\": 0.6,\n",
    "    \"l2norm_bound\": 4,\n",
    "    \"use_time\": False,\n",
    "    \"WGAN_clip\": False\n",
    "}\n",
    "settings"
   ]
  },
  {
   "cell_type": "code",
   "execution_count": 26,
   "metadata": {
    "collapsed": false
   },
   "outputs": [],
   "source": [
    "#60-20-20 Split\n",
    "#train, validate, test = np.split(pd_data_latest_records.sample(frac=1), [int(.6*len(pd_data_latest_records)), int(.8*len(pd_data_latest_records))])"
   ]
  },
  {
   "cell_type": "code",
   "execution_count": 27,
   "metadata": {
    "collapsed": true
   },
   "outputs": [],
   "source": [
    "import math"
   ]
  },
  {
   "cell_type": "code",
   "execution_count": 28,
   "metadata": {
    "collapsed": true
   },
   "outputs": [],
   "source": [
    "#80-20 split\n",
    "train = pd_data_latest_records.iloc[0:30*(math.floor(0.8*(pd_data_latest_records.shape[0]/30)))]\n",
    "validate = pd_data_latest_records.iloc[30*(math.floor(0.8*(pd_data_latest_records.shape[0]/30))):]"
   ]
  },
  {
   "cell_type": "code",
   "execution_count": 29,
   "metadata": {
    "collapsed": false
   },
   "outputs": [
    {
     "name": "stdout",
     "output_type": "stream",
     "text": [
      "(26280, 7)\n",
      "(6570, 7)\n"
     ]
    },
    {
     "data": {
      "text/html": [
       "<div>\n",
       "<style scoped>\n",
       "    .dataframe tbody tr th:only-of-type {\n",
       "        vertical-align: middle;\n",
       "    }\n",
       "\n",
       "    .dataframe tbody tr th {\n",
       "        vertical-align: top;\n",
       "    }\n",
       "\n",
       "    .dataframe thead th {\n",
       "        text-align: right;\n",
       "    }\n",
       "</style>\n",
       "<table border=\"1\" class=\"dataframe\">\n",
       "  <thead>\n",
       "    <tr style=\"text-align: right;\">\n",
       "      <th></th>\n",
       "      <th>PatientIdentifier</th>\n",
       "      <th>VisitIdentifier</th>\n",
       "      <th>HeartRate</th>\n",
       "      <th>RespiratoryRate</th>\n",
       "      <th>PulseOx</th>\n",
       "      <th>SystolicBP</th>\n",
       "      <th>Temperature</th>\n",
       "    </tr>\n",
       "  </thead>\n",
       "  <tbody>\n",
       "    <tr>\n",
       "      <th>53</th>\n",
       "      <td>20</td>\n",
       "      <td>38911</td>\n",
       "      <td>86.0</td>\n",
       "      <td>16.0</td>\n",
       "      <td>94.0</td>\n",
       "      <td>147.0</td>\n",
       "      <td>36.9</td>\n",
       "    </tr>\n",
       "    <tr>\n",
       "      <th>54</th>\n",
       "      <td>20</td>\n",
       "      <td>38911</td>\n",
       "      <td>86.0</td>\n",
       "      <td>16.0</td>\n",
       "      <td>94.0</td>\n",
       "      <td>132.0</td>\n",
       "      <td>36.9</td>\n",
       "    </tr>\n",
       "    <tr>\n",
       "      <th>55</th>\n",
       "      <td>20</td>\n",
       "      <td>38911</td>\n",
       "      <td>90.0</td>\n",
       "      <td>16.0</td>\n",
       "      <td>94.0</td>\n",
       "      <td>123.0</td>\n",
       "      <td>36.9</td>\n",
       "    </tr>\n",
       "    <tr>\n",
       "      <th>56</th>\n",
       "      <td>20</td>\n",
       "      <td>38911</td>\n",
       "      <td>90.0</td>\n",
       "      <td>16.0</td>\n",
       "      <td>94.0</td>\n",
       "      <td>145.0</td>\n",
       "      <td>36.9</td>\n",
       "    </tr>\n",
       "    <tr>\n",
       "      <th>57</th>\n",
       "      <td>20</td>\n",
       "      <td>38911</td>\n",
       "      <td>87.0</td>\n",
       "      <td>16.0</td>\n",
       "      <td>94.0</td>\n",
       "      <td>117.0</td>\n",
       "      <td>36.9</td>\n",
       "    </tr>\n",
       "  </tbody>\n",
       "</table>\n",
       "</div>"
      ],
      "text/plain": [
       "    PatientIdentifier  VisitIdentifier  HeartRate  RespiratoryRate  PulseOx  \\\n",
       "53                 20            38911       86.0             16.0     94.0   \n",
       "54                 20            38911       86.0             16.0     94.0   \n",
       "55                 20            38911       90.0             16.0     94.0   \n",
       "56                 20            38911       90.0             16.0     94.0   \n",
       "57                 20            38911       87.0             16.0     94.0   \n",
       "\n",
       "    SystolicBP  Temperature  \n",
       "53       147.0         36.9  \n",
       "54       132.0         36.9  \n",
       "55       123.0         36.9  \n",
       "56       145.0         36.9  \n",
       "57       117.0         36.9  "
      ]
     },
     "execution_count": 29,
     "metadata": {},
     "output_type": "execute_result"
    }
   ],
   "source": [
    "print(train.shape)\n",
    "print(validate.shape)\n",
    "train.head()"
   ]
  },
  {
   "cell_type": "code",
   "execution_count": 30,
   "metadata": {
    "collapsed": false
   },
   "outputs": [
    {
     "data": {
      "text/html": [
       "<div>\n",
       "<style scoped>\n",
       "    .dataframe tbody tr th:only-of-type {\n",
       "        vertical-align: middle;\n",
       "    }\n",
       "\n",
       "    .dataframe tbody tr th {\n",
       "        vertical-align: top;\n",
       "    }\n",
       "\n",
       "    .dataframe thead th {\n",
       "        text-align: right;\n",
       "    }\n",
       "</style>\n",
       "<table border=\"1\" class=\"dataframe\">\n",
       "  <thead>\n",
       "    <tr style=\"text-align: right;\">\n",
       "      <th></th>\n",
       "      <th>HeartRate</th>\n",
       "      <th>RespiratoryRate</th>\n",
       "      <th>PulseOx</th>\n",
       "      <th>SystolicBP</th>\n",
       "      <th>Temperature</th>\n",
       "    </tr>\n",
       "  </thead>\n",
       "  <tbody>\n",
       "    <tr>\n",
       "      <th>53</th>\n",
       "      <td>86.0</td>\n",
       "      <td>16.0</td>\n",
       "      <td>94.0</td>\n",
       "      <td>147.0</td>\n",
       "      <td>36.9</td>\n",
       "    </tr>\n",
       "    <tr>\n",
       "      <th>54</th>\n",
       "      <td>86.0</td>\n",
       "      <td>16.0</td>\n",
       "      <td>94.0</td>\n",
       "      <td>132.0</td>\n",
       "      <td>36.9</td>\n",
       "    </tr>\n",
       "    <tr>\n",
       "      <th>55</th>\n",
       "      <td>90.0</td>\n",
       "      <td>16.0</td>\n",
       "      <td>94.0</td>\n",
       "      <td>123.0</td>\n",
       "      <td>36.9</td>\n",
       "    </tr>\n",
       "    <tr>\n",
       "      <th>56</th>\n",
       "      <td>90.0</td>\n",
       "      <td>16.0</td>\n",
       "      <td>94.0</td>\n",
       "      <td>145.0</td>\n",
       "      <td>36.9</td>\n",
       "    </tr>\n",
       "    <tr>\n",
       "      <th>57</th>\n",
       "      <td>87.0</td>\n",
       "      <td>16.0</td>\n",
       "      <td>94.0</td>\n",
       "      <td>117.0</td>\n",
       "      <td>36.9</td>\n",
       "    </tr>\n",
       "  </tbody>\n",
       "</table>\n",
       "</div>"
      ],
      "text/plain": [
       "    HeartRate  RespiratoryRate  PulseOx  SystolicBP  Temperature\n",
       "53       86.0             16.0     94.0       147.0         36.9\n",
       "54       86.0             16.0     94.0       132.0         36.9\n",
       "55       90.0             16.0     94.0       123.0         36.9\n",
       "56       90.0             16.0     94.0       145.0         36.9\n",
       "57       87.0             16.0     94.0       117.0         36.9"
      ]
     },
     "execution_count": 30,
     "metadata": {},
     "output_type": "execute_result"
    }
   ],
   "source": [
    "X_train = pd_data_latest_records[['HeartRate','RespiratoryRate','PulseOx','SystolicBP','Temperature']]\n",
    "X_val = validate[['HeartRate','RespiratoryRate','PulseOx','SystolicBP','Temperature']]\n",
    "#X_test = test[['HeartRate','RespiratoryRate','PulseOx','SystolicBP','Temperature']]\n",
    "X_train.head()"
   ]
  },
  {
   "cell_type": "code",
   "execution_count": null,
   "metadata": {
    "collapsed": false
   },
   "outputs": [],
   "source": []
  },
  {
   "cell_type": "code",
   "execution_count": 31,
   "metadata": {
    "collapsed": false
   },
   "outputs": [
    {
     "data": {
      "text/plain": [
       "30"
      ]
     },
     "execution_count": 31,
     "metadata": {},
     "output_type": "execute_result"
    }
   ],
   "source": [
    "settings['seq_length']"
   ]
  },
  {
   "cell_type": "code",
   "execution_count": 32,
   "metadata": {
    "collapsed": true
   },
   "outputs": [],
   "source": [
    "def reshape_data():\n",
    "    # labels = {'train': data['Y_train'], 'vali': data['Y_vali'], 'test': data['Y_test']}\n",
    "    samples = {'train':X_train.values, 'vali':X_val.values}#, 'test':X_test.values}\n",
    "    # Reshape\n",
    "    for (k, X) in samples.items():\n",
    "        samples[k] = X.reshape(-1, settings['seq_length'], settings['num_signals'])\n",
    "    return samples"
   ]
  },
  {
   "cell_type": "code",
   "execution_count": 33,
   "metadata": {
    "collapsed": true
   },
   "outputs": [],
   "source": [
    "def normalise_data(train, vali, low=-1, high=1):\n",
    "    \"\"\" Apply some sort of whitening procedure\n",
    "    \"\"\"\n",
    "    # remember, data is num_samples x seq_length x signals\n",
    "    # whiten each signal - mean 0, std 1\n",
    "    mean = np.mean(np.vstack([train, vali]), axis=(0, 1))\n",
    "    std = np.std(np.vstack([train-mean, vali-mean]), axis=(0, 1))\n",
    "\n",
    "    normalised_train = (train - mean)/std\n",
    "    normalised_vali = (vali - mean)/std\n",
    "    #normalised_test = (test - mean)/std\n",
    "    return normalised_train, normalised_vali#, normalised_test"
   ]
  },
  {
   "cell_type": "code",
   "execution_count": 34,
   "metadata": {
    "collapsed": true
   },
   "outputs": [],
   "source": [
    "# def normalise_data(train, low=-1, high=1):\n",
    "#     \"\"\" Apply some sort of whitening procedure\n",
    "#     \"\"\"\n",
    "#     # remember, data is num_samples x seq_length x signals\n",
    "#     # whiten each signal - mean 0, std 1\n",
    "#     #mean = np.mean(np.vstack([train, vali]), axis=(0, 1))\n",
    "#     #std = np.std(np.vstack([train-mean, vali-mean]), axis=(0, 1))\n",
    "#     mean = np.mean(train, axis=(0, 1))\n",
    "#     std = np.std((train-mean), axis=(0, 1))\n",
    "#     normalised_train = (train - mean)/std\n",
    "#     #normalised_vali = (vali - mean)/std\n",
    "#     #normalised_test = (test - mean)/std\n",
    "#     return normalised_train"
   ]
  },
  {
   "cell_type": "code",
   "execution_count": 35,
   "metadata": {
    "collapsed": false
   },
   "outputs": [],
   "source": [
    "#np.vstack([X_train.values,X_val.values]).shape"
   ]
  },
  {
   "cell_type": "code",
   "execution_count": 36,
   "metadata": {
    "collapsed": false
   },
   "outputs": [],
   "source": [
    "def de_normalise_data(data,mean,std):\n",
    "    return (data*std)+mean"
   ]
  },
  {
   "cell_type": "code",
   "execution_count": 37,
   "metadata": {
    "collapsed": true
   },
   "outputs": [],
   "source": [
    "def get_samples_and_labels(settings):\n",
    "    \n",
    "    samples = reshape_data()\n",
    "    #train, vali, test = samples['train'], samples['vali'], samples['test']\n",
    "    train, vali = samples['train'], samples['vali']\n",
    "    #train_labels, vali_labels, test_labels = labels['train'], labels['vali'], labels['test']\n",
    "    #assert train_labels.shape[1] == settings['cond_dim']\n",
    "    # normalise to between -1, 1\n",
    "    #train, vali, test = normalise_data(train, vali, test)\n",
    "    train, vali = normalise_data(train, vali)\n",
    "    #train = normalise_data(train)\n",
    "    #labels = dict()\n",
    "    #labels['train'], labels['vali'], labels['test'] = train_labels, vali_labels, test_labels\n",
    "\n",
    "    samples = dict()\n",
    "    #samples['train'], samples['vali'], samples['test'] = train, vali, test\n",
    "    samples['train'], samples['vali'] = train, vali\n",
    "    \n",
    "\n",
    "    # futz around with labels\n",
    "#     # TODO refactor cause this is messy\n",
    "#     if 'one_hot' in settings and settings['one_hot'] and not settings['data_load_from']:\n",
    "#         if len(labels['train'].shape) == 1:\n",
    "#             # ASSUME labels go from 0 to max_val inclusive, find max-val\n",
    "#             max_val = int(np.max([labels['train'].max(), labels['test'].max(), labels['vali'].max()]))\n",
    "#             # now we have max_val + 1 dimensions\n",
    "#             print('Setting cond_dim to', max_val + 1, 'from', settings['cond_dim'])\n",
    "#             settings['cond_dim'] = max_val + 1\n",
    "#             print('Setting max_val to 1 from', settings['max_val'])\n",
    "#             settings['max_val'] = 1\n",
    "\n",
    "#             labels_oh = dict()\n",
    "#             for (k, v) in labels.items():\n",
    "#                 A = np.zeros(shape=(len(v), settings['cond_dim']))\n",
    "#                 A[np.arange(len(v)), (v).astype(int)] = 1\n",
    "#                 labels_oh[k] = A\n",
    "#             labels = labels_oh\n",
    "#         else:\n",
    "#             assert settings['max_val'] == 1\n",
    "#             # this is already one-hot!\n",
    "\n",
    "#     if 'predict_labels' in settings and settings['predict_labels']:\n",
    "#         samples, labels = data_utils.make_predict_labels(samples, labels)\n",
    "#         print('Setting cond_dim to 0 from', settings['cond_dim'])\n",
    "#         settings['cond_dim'] = 0\n",
    "\n",
    "    # update the settings dictionary to update erroneous settings\n",
    "    # (mostly about the sequence length etc. - it gets set by the data!)\n",
    "    settings['seq_length'] = samples['train'].shape[1]\n",
    "    settings['num_samples'] = samples['train'].shape[0] + samples['vali'].shape[0]# + samples['test'].shape[0]\n",
    "    settings['num_signals'] = samples['train'].shape[2]\n",
    "    settings['num_generated_features'] = samples['train'].shape[2]\n",
    "\n",
    "    return samples"
   ]
  },
  {
   "cell_type": "code",
   "execution_count": 38,
   "metadata": {
    "collapsed": true
   },
   "outputs": [],
   "source": [
    "samples = get_samples_and_labels(settings)"
   ]
  },
  {
   "cell_type": "code",
   "execution_count": 39,
   "metadata": {
    "collapsed": false
   },
   "outputs": [
    {
     "data": {
      "text/plain": [
       "(1095, 30, 5)"
      ]
     },
     "execution_count": 39,
     "metadata": {},
     "output_type": "execute_result"
    }
   ],
   "source": [
    "samples['train'].shape"
   ]
  },
  {
   "cell_type": "code",
   "execution_count": 41,
   "metadata": {
    "collapsed": false
   },
   "outputs": [],
   "source": [
    "#samples['train'][0]"
   ]
  },
  {
   "cell_type": "code",
   "execution_count": 42,
   "metadata": {
    "collapsed": false
   },
   "outputs": [
    {
     "data": {
      "text/plain": [
       "72.250477422628094"
      ]
     },
     "execution_count": 42,
     "metadata": {},
     "output_type": "execute_result"
    }
   ],
   "source": [
    "mean = np.mean(np.vstack([X_train.values,X_val.values]), axis=(0, 1))\n",
    "mean"
   ]
  },
  {
   "cell_type": "code",
   "execution_count": 43,
   "metadata": {
    "collapsed": false
   },
   "outputs": [
    {
     "data": {
      "text/plain": [
       "41.739929021365711"
      ]
     },
     "execution_count": 43,
     "metadata": {},
     "output_type": "execute_result"
    }
   ],
   "source": [
    "std = np.std(np.vstack([X_train.values - mean,X_val.values - mean]), axis=(0,1))\n",
    "std"
   ]
  },
  {
   "cell_type": "markdown",
   "metadata": {
    "collapsed": false
   },
   "source": [
    "## Build Model"
   ]
  },
  {
   "cell_type": "code",
   "execution_count": 44,
   "metadata": {
    "collapsed": false
   },
   "outputs": [],
   "source": [
    "# import importlib\n",
    "# importlib.reload(plotting)"
   ]
  },
  {
   "cell_type": "code",
   "execution_count": 45,
   "metadata": {
    "collapsed": false
   },
   "outputs": [],
   "source": [
    "import mod_core_rnn_cell_impl\n",
    "import mmd\n",
    "import model\n",
    "from mmd import rbf_mmd2, median_pairwise_distance, mix_rbf_mmd2_and_ratio\n",
    "import plotting\n",
    "\n",
    "from time import time\n",
    "from math import floor"
   ]
  },
  {
   "cell_type": "code",
   "execution_count": 46,
   "metadata": {
    "collapsed": false
   },
   "outputs": [],
   "source": [
    "#Z, X, CG, CD, CS = model.create_placeholders(batch_size, seq_length, latent_dim, num_signals, cond_dim)\n",
    "batch_size = settings['batch_size']\n",
    "seq_length = settings['seq_length']\n",
    "latent_dim = settings['latent_dim']\n",
    "num_signals = settings['num_signals']\n",
    "cond_dim = settings['cond_dim']\n",
    "Z, X = model.create_placeholders(batch_size, seq_length, latent_dim, num_signals, cond_dim)"
   ]
  },
  {
   "cell_type": "code",
   "execution_count": 47,
   "metadata": {
    "collapsed": false
   },
   "outputs": [],
   "source": [
    "discriminator_vars = ['hidden_units_d', 'seq_length', 'cond_dim', 'batch_size', 'batch_mean']\n",
    "discriminator_settings = dict((k, settings[k]) for k in discriminator_vars)\n",
    "generator_vars = ['hidden_units_g', 'seq_length', 'batch_size', \n",
    "                  'num_generated_features', 'cond_dim', 'learn_scale']\n",
    "generator_settings = dict((k, settings[k]) for k in generator_vars)"
   ]
  },
  {
   "cell_type": "code",
   "execution_count": 48,
   "metadata": {
    "collapsed": true
   },
   "outputs": [],
   "source": [
    "CGAN = (cond_dim > 0)\n",
    "if CGAN: assert not settings['predict_labels']"
   ]
  },
  {
   "cell_type": "code",
   "execution_count": 49,
   "metadata": {
    "collapsed": true
   },
   "outputs": [],
   "source": [
    "##Had to install toolz package again to solve error\n",
    "##ValueError: Function has keyword-only arguments or annotations, use getfullargspec() API which can support them"
   ]
  },
  {
   "cell_type": "code",
   "execution_count": 50,
   "metadata": {
    "collapsed": true
   },
   "outputs": [],
   "source": [
    "# D_loss, G_loss = model.GAN_loss(Z, X, generator_settings, discriminator_settings, \n",
    "#         kappa, CGAN, CG, CD, CS, wrong_labels=wrong_labels)\n",
    "D_loss, G_loss = model.GAN_loss(Z, X, generator_settings, discriminator_settings, \n",
    "        kappa=None, cond = CGAN, CG=None, CD=None, CS=None, wrong_labels=None)"
   ]
  },
  {
   "cell_type": "code",
   "execution_count": 51,
   "metadata": {
    "collapsed": false
   },
   "outputs": [],
   "source": [
    "# D_solver, G_solver, priv_accountant = model.GAN_solvers(D_loss, G_loss, learning_rate, batch_size, \n",
    "#         total_examples=samples['train'].shape[0], l2norm_bound=l2norm_bound,\n",
    "#         batches_per_lot=batches_per_lot, sigma=dp_sigma, dp=dp)\n",
    "D_solver, G_solver, priv_accountant = model.GAN_solvers(D_loss, G_loss, settings['learning_rate'], batch_size, \n",
    "        total_examples=samples['train'].shape[0], l2norm_bound=settings['l2norm_bound'],\n",
    "        batches_per_lot=settings['batches_per_lot'], sigma=settings['dp_sigma'], dp=settings[\"dp\"])\n"
   ]
  },
  {
   "cell_type": "code",
   "execution_count": 52,
   "metadata": {
    "collapsed": true
   },
   "outputs": [],
   "source": [
    "#G_sample = model.generator(Z, **generator_settings, reuse=True, c=CG)\n",
    "G_sample = model.generator(Z, **generator_settings, reuse=True, c=None)"
   ]
  },
  {
   "cell_type": "code",
   "execution_count": 53,
   "metadata": {
    "collapsed": false
   },
   "outputs": [],
   "source": [
    "# --- evaluation --- #\n",
    "# frequency to do visualisations\n",
    "vis_freq = max(14000//settings['num_samples'], 1)\n",
    "eval_freq = max(7000//settings['num_samples'], 1)\n",
    "\n",
    "# get heuristic bandwidth for mmd kernel from evaluation samples\n",
    "heuristic_sigma_training = median_pairwise_distance(samples['vali'])\n",
    "best_mmd2_so_far = 1000\n",
    "\n",
    "# optimise sigma using that (that's t-hat)\n",
    "batch_multiplier = 5000//batch_size\n",
    "eval_size = batch_multiplier*batch_size\n",
    "eval_eval_size = int(0.2*eval_size)\n",
    "eval_real_PH = tf.placeholder(tf.float32, [eval_eval_size, seq_length, settings['num_generated_features']])\n",
    "eval_sample_PH = tf.placeholder(tf.float32, [eval_eval_size, seq_length, settings['num_generated_features']])\n",
    "n_sigmas = 2\n",
    "sigma = tf.get_variable(name='sigma', shape=n_sigmas, initializer=tf.constant_initializer(value=np.power(heuristic_sigma_training, np.linspace(-1, 3, num=n_sigmas))))\n",
    "mmd2, that = mix_rbf_mmd2_and_ratio(eval_real_PH, eval_sample_PH, sigma)\n",
    "with tf.variable_scope(\"SIGMA_optimizer\"):\n",
    "    sigma_solver = tf.train.RMSPropOptimizer(learning_rate=0.05).minimize(-that, var_list=[sigma])\n",
    "    #sigma_solver = tf.train.AdamOptimizer().minimize(-that, var_list=[sigma])\n",
    "    #sigma_solver = tf.train.AdagradOptimizer(learning_rate=0.1).minimize(-that, var_list=[sigma])\n",
    "sigma_opt_iter = 2000\n",
    "sigma_opt_thresh = 0.001\n",
    "sigma_opt_vars = [var for var in tf.global_variables() if 'SIGMA_optimizer' in var.name]"
   ]
  },
  {
   "cell_type": "code",
   "execution_count": 54,
   "metadata": {
    "collapsed": false
   },
   "outputs": [
    {
     "data": {
      "text/plain": [
       "<tf.Tensor 'truediv_12:0' shape=() dtype=float32>"
      ]
     },
     "execution_count": 54,
     "metadata": {},
     "output_type": "execute_result"
    }
   ],
   "source": [
    "# tf.reset_default_graph()\n",
    "# sess.close()\n",
    "that"
   ]
  },
  {
   "cell_type": "code",
   "execution_count": 55,
   "metadata": {
    "collapsed": false
   },
   "outputs": [
    {
     "data": {
      "text/plain": [
       "4984"
      ]
     },
     "execution_count": 55,
     "metadata": {},
     "output_type": "execute_result"
    }
   ],
   "source": [
    "vis_freq\n",
    "batch_multiplier\n",
    "eval_freq\n",
    "eval_size"
   ]
  },
  {
   "cell_type": "code",
   "execution_count": 56,
   "metadata": {
    "collapsed": true
   },
   "outputs": [],
   "source": [
    "import os\n",
    "os.environ[\"CUDA_VISIBLE_DEVICES\"]=\"\""
   ]
  },
  {
   "cell_type": "code",
   "execution_count": 57,
   "metadata": {
    "collapsed": false
   },
   "outputs": [],
   "source": [
    "sess = tf.Session()\n",
    "sess.run(tf.global_variables_initializer())\n",
    "\n",
    "vis_Z = model.sample_Z(batch_size, seq_length, latent_dim, settings['use_time'])\n",
    "if CGAN:\n",
    "    vis_C = model.sample_C(batch_size, cond_dim, max_val, one_hot)\n",
    "    if 'mnist' in data:\n",
    "        if one_hot:\n",
    "            if cond_dim == 6:\n",
    "                vis_C[:6] = np.eye(6)\n",
    "            elif cond_dim == 3:\n",
    "                vis_C[:3] = np.eye(3)\n",
    "                vis_C[3:6] = np.eye(3)\n",
    "            else:\n",
    "                raise ValueError(cond_dim)\n",
    "        else:\n",
    "            if cond_dim == 6:\n",
    "                vis_C[:6] = np.arange(cond_dim)\n",
    "            elif cond_dim == 3:\n",
    "                vis_C = np.tile(np.arange(3), 2)\n",
    "            else:\n",
    "                raise ValueError(cond_dim)\n",
    "    elif 'eICU_task' in data:\n",
    "        vis_C = labels['train'][np.random.choice(labels['train'].shape[0], batch_size, replace=False), :]\n",
    "    vis_sample = sess.run(G_sample, feed_dict={Z: vis_Z, CG: vis_C})\n",
    "else:\n",
    "    vis_sample = sess.run(G_sample, feed_dict={Z: vis_Z})\n",
    "    vis_C = None"
   ]
  },
  {
   "cell_type": "code",
   "execution_count": 58,
   "metadata": {
    "collapsed": false
   },
   "outputs": [
    {
     "data": {
      "text/plain": [
       "(56, 30, 5)"
      ]
     },
     "execution_count": 58,
     "metadata": {},
     "output_type": "execute_result"
    }
   ],
   "source": [
    "vis_Z.shape\n",
    "vis_sample.shape"
   ]
  },
  {
   "cell_type": "code",
   "execution_count": 59,
   "metadata": {
    "collapsed": false
   },
   "outputs": [
    {
     "name": "stdout",
     "output_type": "stream",
     "text": [
      "epoch\ttime\tD_loss\tG_loss\tmmd2\tthat\tpdf_sample\tpdf_real\n",
      "0\t72.00\t1.2250\t0.5275\t1.00528\t7986\t NA\t NA\n"
     ]
    },
    {
     "name": "stderr",
     "output_type": "stream",
     "text": [
      "/home/asaxena6/plotting.py:288: FutureWarning: read_table is deprecated, use read_csv instead.\n",
      "  da = read_table(trace_path, sep=' ')\n"
     ]
    },
    {
     "name": "stdout",
     "output_type": "stream",
     "text": [
      "Recorded 9 parameters to ./experiments/parameters/LSTMGAN-BS56LR0.01GR10SeqLen30-Non-Sepsis_0.npy\n",
      "1\t103.82\t0.3226\t2.8688\tNA\tNA\t NA\t NA\n",
      "2\t138.13\t0.5340\t2.3951\tNA\tNA\t NA\t NA\n",
      "3\t170.47\t0.2350\t3.0397\tNA\tNA\t NA\t NA\n",
      "4\t201.10\t0.4144\t2.6314\tNA\tNA\t NA\t NA\n",
      "5\t258.22\t3.8541\t0.0818\t0.58882\t262\t NA\t NA\n",
      "6\t287.09\t1.5615\t0.6195\tNA\tNA\t NA\t NA\n",
      "7\t315.81\t1.0333\t1.2779\tNA\tNA\t NA\t NA\n",
      "8\t344.61\t1.4102\t0.6524\tNA\tNA\t NA\t NA\n",
      "9\t372.95\t1.5714\t0.5470\tNA\tNA\t NA\t NA\n",
      "10\t427.85\t1.3059\t0.8715\t0.39450\t187\t NA\t NA\n",
      "11\t456.68\t1.7312\t0.4628\tNA\tNA\t NA\t NA\n",
      "12\t484.54\t1.6159\t0.5346\tNA\tNA\t NA\t NA\n",
      "13\t511.01\t0.9562\t1.3652\tNA\tNA\t NA\t NA\n",
      "14\t539.02\t0.7282\t1.9552\tNA\tNA\t NA\t NA\n",
      "Recorded 9 parameters to ./experiments/parameters/LSTMGAN-BS56LR0.01GR10SeqLen30-Non-Sepsis_15.npy\n",
      "15\t588.76\t1.6572\t0.5188\t0.11192\t117\t NA\t NA\n",
      "16\t616.13\t1.3711\t0.6965\tNA\tNA\t NA\t NA\n",
      "17\t646.55\t1.1513\t1.0442\tNA\tNA\t NA\t NA\n",
      "18\t673.34\t0.9367\t1.3271\tNA\tNA\t NA\t NA\n",
      "19\t699.54\t1.3397\t0.7835\tNA\tNA\t NA\t NA\n",
      "20\t757.44\t1.4413\t0.6770\t0.18201\t120\t NA\t NA\n",
      "21\t791.37\t1.3731\t0.7194\tNA\tNA\t NA\t NA\n",
      "22\t827.26\t0.7160\t1.8680\tNA\tNA\t NA\t NA\n",
      "23\t864.04\t1.0543\t1.4515\tNA\tNA\t NA\t NA\n",
      "24\t898.53\t1.2512\t0.8948\tNA\tNA\t NA\t NA\n",
      "25\t954.92\t1.1163\t1.1685\t0.57733\t266\t NA\t NA\n",
      "26\t981.92\t1.6227\t0.5039\tNA\tNA\t NA\t NA\n",
      "27\t1011.18\t1.2075\t1.0753\tNA\tNA\t NA\t NA\n",
      "28\t1037.88\t1.3420\t0.7206\tNA\tNA\t NA\t NA\n",
      "29\t1065.73\t1.4000\t0.6892\tNA\tNA\t NA\t NA\n",
      "30\t1121.22\t1.0922\t1.0788\t0.58868\t352\t NA\t NA\n",
      "31\t1151.14\t1.1049\t1.1019\tNA\tNA\t NA\t NA\n",
      "32\t1178.36\t1.2211\t0.9066\tNA\tNA\t NA\t NA\n",
      "33\t1205.78\t1.5041\t0.5567\tNA\tNA\t NA\t NA\n",
      "34\t1234.62\t1.4803\t0.6430\tNA\tNA\t NA\t NA\n",
      "Recorded 9 parameters to ./experiments/parameters/LSTMGAN-BS56LR0.01GR10SeqLen30-Non-Sepsis_35.npy\n",
      "35\t1409.72\t1.6022\t0.4852\t0.00755\t75\t NA\t NA\n",
      "36\t1437.72\t1.2328\t0.8621\tNA\tNA\t NA\t NA\n",
      "37\t1464.35\t1.4126\t0.6672\tNA\tNA\t NA\t NA\n",
      "38\t1490.88\t1.2993\t0.7893\tNA\tNA\t NA\t NA\n",
      "39\t1523.23\t1.3670\t0.7223\tNA\tNA\t NA\t NA\n",
      "40\t1598.47\t1.4125\t0.6724\t0.44410\t247\t NA\t NA\n",
      "41\t1629.66\t1.3298\t0.7739\tNA\tNA\t NA\t NA\n",
      "42\t1657.10\t1.3798\t0.6887\tNA\tNA\t NA\t NA\n",
      "43\t1684.05\t1.1677\t1.0006\tNA\tNA\t NA\t NA\n",
      "44\t1713.01\t1.4287\t0.6520\tNA\tNA\t NA\t NA\n",
      "45\t1771.69\t1.2695\t0.8092\t0.62247\t417\t NA\t NA\n",
      "46\t1799.55\t1.3961\t0.7006\tNA\tNA\t NA\t NA\n",
      "47\t1825.83\t1.3676\t0.7334\tNA\tNA\t NA\t NA\n",
      "48\t1853.94\t1.3951\t0.7036\tNA\tNA\t NA\t NA\n",
      "49\t1881.94\t1.3496\t0.7152\tNA\tNA\t NA\t NA\n",
      "50\t1935.48\t1.5019\t0.5789\t0.49101\t267\t NA\t NA\n",
      "Recorded 9 parameters to ./experiments/parameters/LSTMGAN-BS56LR0.01GR10SeqLen30-Non-Sepsis_50.npy\n",
      "51\t1969.64\t1.4320\t0.6855\tNA\tNA\t NA\t NA\n",
      "52\t1997.86\t1.2445\t0.8592\tNA\tNA\t NA\t NA\n",
      "53\t2024.95\t1.1751\t0.9197\tNA\tNA\t NA\t NA\n",
      "54\t2053.23\t1.2898\t0.7626\tNA\tNA\t NA\t NA\n",
      "55\t2109.65\t1.5519\t0.4750\t0.77987\t413\t NA\t NA\n",
      "56\t2136.90\t1.1204\t0.9982\tNA\tNA\t NA\t NA\n",
      "57\t2164.11\t1.0586\t1.2028\tNA\tNA\t NA\t NA\n",
      "58\t2191.73\t1.3452\t0.6108\tNA\tNA\t NA\t NA\n",
      "59\t2217.62\t0.5854\t2.0118\tNA\tNA\t NA\t NA\n",
      "60\t2269.92\t0.5408\t2.2115\t0.87558\t1522\t NA\t NA\n",
      "61\t2299.78\t0.6998\t1.9025\tNA\tNA\t NA\t NA\n",
      "62\t2326.98\t1.4944\t0.5659\tNA\tNA\t NA\t NA\n",
      "63\t2353.06\t1.3616\t0.7198\tNA\tNA\t NA\t NA\n",
      "64\t2379.53\t1.2281\t0.9031\tNA\tNA\t NA\t NA\n",
      "65\t2433.19\t1.4397\t0.5801\t0.17070\t242\t NA\t NA\n",
      "66\t2460.14\t0.9500\t1.4792\tNA\tNA\t NA\t NA\n",
      "67\t2488.60\t2.1261\t0.2441\tNA\tNA\t NA\t NA\n",
      "68\t2516.61\t1.0122\t1.2101\tNA\tNA\t NA\t NA\n",
      "69\t2543.86\t0.8293\t1.4594\tNA\tNA\t NA\t NA\n",
      "70\t2613.88\t0.9717\t1.0405\t0.42163\t407\t NA\t NA\n",
      "71\t2643.17\t0.7519\t1.7048\tNA\tNA\t NA\t NA\n",
      "72\t2670.60\t1.1399\t0.9501\tNA\tNA\t NA\t NA\n",
      "73\t2699.03\t0.7678\t1.4928\tNA\tNA\t NA\t NA\n",
      "74\t2725.98\t1.1182\t1.1658\tNA\tNA\t NA\t NA\n",
      "75\t2796.02\t1.0324\t1.3005\t0.71200\t449\t NA\t NA\n",
      "76\t2823.09\t0.6188\t1.8643\tNA\tNA\t NA\t NA\n",
      "77\t2849.43\t0.6850\t1.5884\tNA\tNA\t NA\t NA\n",
      "78\t2875.57\t1.1477\t0.8205\tNA\tNA\t NA\t NA\n",
      "79\t2901.87\t1.3451\t0.6400\tNA\tNA\t NA\t NA\n",
      "80\t2960.96\t0.8949\t1.2219\t0.51189\t233\t NA\t NA\n",
      "81\t2990.91\t0.7103\t1.5235\tNA\tNA\t NA\t NA\n",
      "82\t3019.40\t1.7172\t0.4141\tNA\tNA\t NA\t NA\n",
      "83\t3046.94\t1.7164\t0.4063\tNA\tNA\t NA\t NA\n",
      "84\t3074.07\t0.8215\t1.3610\tNA\tNA\t NA\t NA\n",
      "85\t3133.47\t0.7634\t1.4756\t0.31460\t187\t NA\t NA\n",
      "86\t3159.12\t0.7859\t1.6268\tNA\tNA\t NA\t NA\n",
      "87\t3186.16\t0.8231\t1.6006\tNA\tNA\t NA\t NA\n",
      "88\t3212.80\t1.3761\t0.7853\tNA\tNA\t NA\t NA\n",
      "89\t3241.24\t0.9492\t1.2814\tNA\tNA\t NA\t NA\n",
      "90\t3310.14\t1.4417\t0.6082\t0.21173\t97\t NA\t NA\n",
      "91\t3347.36\t1.4375\t0.7145\tNA\tNA\t NA\t NA\n",
      "92\t3382.10\t1.4835\t0.6920\tNA\tNA\t NA\t NA\n",
      "93\t3412.90\t1.4411\t0.6955\tNA\tNA\t NA\t NA\n",
      "94\t3441.50\t1.5620\t0.5741\tNA\tNA\t NA\t NA\n",
      "95\t3495.12\t0.9931\t1.3296\t0.64477\t204\t NA\t NA\n",
      "96\t3522.24\t1.4036\t0.6146\tNA\tNA\t NA\t NA\n",
      "97\t3550.07\t1.4663\t0.5856\tNA\tNA\t NA\t NA\n",
      "98\t3577.97\t1.3798\t0.6823\tNA\tNA\t NA\t NA\n",
      "99\t3604.02\t1.4023\t0.6020\tNA\tNA\t NA\t NA\n",
      "100\t3665.78\t1.4323\t0.7017\t0.18555\t153\t NA\t NA\n",
      "Recorded 9 parameters to ./experiments/parameters/LSTMGAN-BS56LR0.01GR10SeqLen30-Non-Sepsis_100.npy\n",
      "101\t3701.55\t1.4648\t0.6236\tNA\tNA\t NA\t NA\n",
      "102\t3735.16\t1.0462\t1.1848\tNA\tNA\t NA\t NA\n",
      "103\t3764.34\t1.3371\t0.8472\tNA\tNA\t NA\t NA\n",
      "104\t3792.37\t1.2732\t0.8085\tNA\tNA\t NA\t NA\n",
      "105\t3845.96\t1.1591\t0.8585\t0.21034\t124\t NA\t NA\n",
      "106\t3874.73\t1.2305\t0.8440\tNA\tNA\t NA\t NA\n",
      "107\t3903.02\t0.8410\t1.4990\tNA\tNA\t NA\t NA\n",
      "108\t3932.26\t1.5140\t0.5779\tNA\tNA\t NA\t NA\n",
      "109\t3960.15\t1.4492\t0.6768\tNA\tNA\t NA\t NA\n",
      "110\t4024.38\t1.4124\t0.7258\t0.12322\t161\t NA\t NA\n",
      "111\t4056.43\t1.4028\t0.6516\tNA\tNA\t NA\t NA\n",
      "112\t4086.18\t2.0223\t0.3287\tNA\tNA\t NA\t NA\n",
      "113\t4118.00\t1.6241\t0.5100\tNA\tNA\t NA\t NA\n",
      "114\t4149.73\t1.4469\t0.6611\tNA\tNA\t NA\t NA\n",
      "115\t4222.76\t1.3620\t0.6854\t0.35182\t309\t NA\t NA\n",
      "116\t4253.16\t1.3359\t0.6095\tNA\tNA\t NA\t NA\n",
      "117\t4283.20\t1.3448\t0.6852\tNA\tNA\t NA\t NA\n",
      "118\t4313.67\t1.3305\t0.7859\tNA\tNA\t NA\t NA\n",
      "119\t4346.53\t1.2417\t0.8371\tNA\tNA\t NA\t NA\n",
      "Recorded 9 parameters to ./experiments/parameters/LSTMGAN-BS56LR0.01GR10SeqLen30-Non-Sepsis_119.npy\n"
     ]
    },
    {
     "data": {
      "text/plain": [
       "True"
      ]
     },
     "execution_count": 59,
     "metadata": {},
     "output_type": "execute_result"
    }
   ],
   "source": [
    "num_epochs=settings['num_epochs']\n",
    "use_time = settings['use_time']\n",
    "dp = settings['dp']\n",
    "shuffle = settings['shuffle']\n",
    "vis_real_indices = np.random.choice(len(samples['vali']), size=6)\n",
    "vis_real = np.float32(samples['vali'][vis_real_indices, :, :])\n",
    "#if not labels['vali'] is None:\n",
    "#    vis_real_labels = labels['vali'][vis_real_indices]\n",
    "#else:\n",
    "    #vis_real_labels = None\n",
    "vis_real_labels = None\n",
    "identifier = 'LSTMGAN-BS56LR0.01GR10SeqLen30-Non-Sepsis'\n",
    "plotting.save_plot_sample(vis_real, 0, identifier + '_real', n_samples=6, \n",
    "                           num_epochs=settings['num_epochs'])\n",
    "\n",
    "# for dp\n",
    "# target_eps = [0.125, 0.25, 0.5, 1, 2, 4, 8]\n",
    "# dp_trace = open('./experiments/traces/' + identifier + '.dptrace.txt', 'w')\n",
    "# dp_trace.write('epoch ' + ' eps' .join(map(str, target_eps)) + '\\n')\n",
    "\n",
    "trace = open('./experiments/traces/' + identifier + '.trace.txt', 'w')\n",
    "trace.write('epoch time D_loss G_loss mmd2 that pdf real_pdf\\n')\n",
    "\n",
    "# --- train --- #\n",
    "train_vars = ['batch_size', 'D_rounds', 'G_rounds', 'use_time', 'seq_length', \n",
    "              'latent_dim', 'num_generated_features', 'cond_dim', 'max_val', \n",
    "              'WGAN_clip', 'one_hot']\n",
    "train_settings = dict((k, settings[k]) for k in train_vars)\n",
    "\n",
    "\n",
    "t0 = time()\n",
    "best_epoch = 0\n",
    "print('epoch\\ttime\\tD_loss\\tG_loss\\tmmd2\\tthat\\tpdf_sample\\tpdf_real')\n",
    "for epoch in range(settings['num_epochs']):\n",
    "    \n",
    "    \n",
    "#     D_loss_curr, G_loss_curr = model.train_epoch(epoch, samples['train'], labels['train'],\n",
    "#                                         sess, Z, X, CG, CD, CS,\n",
    "#                                         D_loss, G_loss,\n",
    "#                                         D_solver, G_solver, \n",
    "#                                         **train_settings)\n",
    "\n",
    "    D_loss_curr, G_loss_curr = model.train_epoch(None, epoch, samples['train'], None,\n",
    "                                        sess, Z, X, None, None, None,\n",
    "                                        D_loss, G_loss,\n",
    "                                        D_solver, G_solver, \n",
    "                                        **train_settings)\n",
    "    # -- eval -- #\n",
    "    \n",
    "    # visualise plots of generated samples, with/without labels\n",
    "    if epoch % vis_freq == 0:\n",
    "        if CGAN:\n",
    "            vis_sample = sess.run(G_sample, feed_dict={Z: vis_Z, CG: vis_C})\n",
    "        else:\n",
    "            vis_sample = sess.run(G_sample, feed_dict={Z: vis_Z})\n",
    "        \n",
    "        one_hot = settings['one_hot']\n",
    "        predict_labels = settings['predict_labels']\n",
    "        resample_rate_in_min = None\n",
    "        multivariate_mnist = None\n",
    "        plotting.visualise_at_epoch(vis_sample, \"\", \n",
    "                predict_labels, one_hot, epoch, identifier, num_epochs,\n",
    "                resample_rate_in_min, multivariate_mnist, seq_length, labels=vis_C)\n",
    "        \n",
    "    # compute mmd2 and, if available, prob density\n",
    "    if epoch % eval_freq == 0:\n",
    "        \n",
    "        ## how many samples to evaluate with?\n",
    "        eval_Z = model.sample_Z(eval_size, seq_length, latent_dim, use_time)\n",
    "#         if 'eICU_task' in data:\n",
    "#             eval_C = labels['vali'][np.random.choice(labels['vali'].shape[0], eval_size), :]\n",
    "#         else:\n",
    "        max_val = None\n",
    "        eval_C = model.sample_C(eval_size, cond_dim, max_val, one_hot)\n",
    "        eval_sample = np.empty(shape=(eval_size, seq_length, num_signals))\n",
    "        for i in range(batch_multiplier):\n",
    "            if CGAN:\n",
    "                eval_sample[i*batch_size:(i+1)*batch_size, :, :] = sess.run(G_sample, feed_dict={Z: eval_Z[i*batch_size:(i+1)*batch_size], CG: eval_C[i*batch_size:(i+1)*batch_size]})\n",
    "            else:\n",
    "                eval_sample[i*batch_size:(i+1)*batch_size, :, :] = sess.run(G_sample, feed_dict={Z: eval_Z[i*batch_size:(i+1)*batch_size]})\n",
    "        eval_sample = np.float32(eval_sample)\n",
    "        eval_real = np.float32(samples['vali'][np.random.choice(len(samples['vali']), size=batch_multiplier*batch_size), :, :])\n",
    "       \n",
    "        eval_eval_real = eval_real[:eval_eval_size]\n",
    "        eval_test_real = eval_real[eval_eval_size:]\n",
    "        eval_eval_sample = eval_sample[:eval_eval_size]\n",
    "        eval_test_sample = eval_sample[eval_eval_size:]\n",
    "        \n",
    "        ## MMD\n",
    "        # reset ADAM variables\n",
    "        sess.run(tf.initialize_variables(sigma_opt_vars))\n",
    "        sigma_iter = 0\n",
    "        that_change = sigma_opt_thresh*2\n",
    "        old_that = 0\n",
    "        while that_change > sigma_opt_thresh and sigma_iter < sigma_opt_iter:\n",
    "            new_sigma, that_np, _ = sess.run([sigma, that, sigma_solver], feed_dict={eval_real_PH: eval_eval_real, eval_sample_PH: eval_eval_sample})\n",
    "            that_change = np.abs(that_np - old_that)\n",
    "            old_that = that_np\n",
    "            sigma_iter += 1\n",
    "        opt_sigma = sess.run(sigma)\n",
    "        mmd2, that_np = sess.run(mix_rbf_mmd2_and_ratio(eval_test_real, eval_test_sample,biased=False, sigmas=sigma))\n",
    "        \n",
    "        ## save parameters\n",
    "        if mmd2 < best_mmd2_so_far and epoch > 10:\n",
    "            best_epoch = epoch\n",
    "            best_mmd2_so_far = mmd2\n",
    "            model.dump_parameters(identifier + '_' + str(epoch), sess)\n",
    "        pdf = None\n",
    "        ## prob density (if available)\n",
    "        if not pdf is None:\n",
    "            pdf_sample = np.mean(pdf(eval_sample[:, :, 0]))\n",
    "            pdf_real = np.mean(pdf(eval_real[:, :, 0]))\n",
    "        else:\n",
    "            pdf_sample = 'NA'\n",
    "            pdf_real = 'NA'\n",
    "    else:\n",
    "        # report nothing this epoch\n",
    "        mmd2 = 'NA'\n",
    "        #that = 'NA'\n",
    "        that_np = 'NA'\n",
    "        pdf_sample = 'NA'\n",
    "        pdf_real = 'NA'\n",
    "    \n",
    "#     ## get 'spent privacy'\n",
    "#     if settings['dp']:\n",
    "#         spent_eps_deltas = priv_accountant.get_privacy_spent(sess, target_eps=target_eps)\n",
    "#         # get the moments\n",
    "#         deltas = []\n",
    "#         for (spent_eps, spent_delta) in spent_eps_deltas:\n",
    "#             deltas.append(spent_delta)\n",
    "#         dp_trace.write(str(epoch) + ' ' + ' '.join(map(str, deltas)) + '\\n')\n",
    "#         if epoch % 10 == 0: dp_trace.flush()\n",
    "    \n",
    "    ## print\n",
    "    t = time() - t0\n",
    "    try:\n",
    "        print('%d\\t%.2f\\t%.4f\\t%.4f\\t%.5f\\t%.0f\\t %s\\t %s' % (epoch, t, D_loss_curr, G_loss_curr, mmd2, that_np, pdf_sample, pdf_real))\n",
    "    except TypeError:       # mmd2 is NA (format as strings)\n",
    "        print('%d\\t%.2f\\t%.4f\\t%.4f\\t%s\\t%s\\t %s\\t %s' % (epoch, t, D_loss_curr, G_loss_curr, mmd2, that_np, pdf_sample, pdf_real))\n",
    "\n",
    "    ## save trace\n",
    "    trace.write(' '.join(map(str, [epoch, t, D_loss_curr, G_loss_curr, mmd2, that_np, pdf_sample, pdf_real])) + '\\n')\n",
    "    if epoch % 10 == 0: \n",
    "        trace.flush()\n",
    "        plotting.plot_trace(identifier, xmax=num_epochs, dp=dp)\n",
    "\n",
    "    if shuffle:     # shuffle the training data \n",
    "        perm = np.random.permutation(samples['train'].shape[0])\n",
    "        samples['train'] = samples['train'][perm]\n",
    "#         if labels['train'] is not None:\n",
    "#             labels['train'] = labels['train'][perm]\n",
    "    \n",
    "    if epoch % 50 == 0:\n",
    "        model.dump_parameters(identifier + '_' + str(epoch), sess)\n",
    "\n",
    "trace.flush()\n",
    "plotting.plot_trace(identifier, xmax=num_epochs, dp=dp)\n",
    "model.dump_parameters(identifier + '_' + str(epoch), sess)\n",
    "\n",
    "## after-the-fact evaluation\n",
    "#n_test = vali.shape[0]      # using validation set for now TODO\n",
    "#n_batches_for_test = floor(n_test/batch_size)\n",
    "#n_test_eval = n_batches_for_test*batch_size\n",
    "#test_sample = np.empty(shape=(n_test_eval, seq_length, num_signals))\n",
    "#test_Z = model.sample_Z(n_test_eval, seq_length, latent_dim, use_time)\n",
    "#for i in range(n_batches_for_test):\n",
    "#    test_sample[i*batch_size:(i+1)*batch_size, :, :] = sess.run(G_sample, feed_dict={Z: test_Z[i*batch_size:(i+1)*batch_size]})\n",
    "#test_sample = np.float32(test_sample)\n",
    "#test_real = np.float32(vali[np.random.choice(n_test, n_test_eval, replace=False), :, :])\n",
    "## we can only get samples in the size of the batch...\n",
    "#heuristic_sigma = median_pairwise_distance(test_real, test_sample)\n",
    "#test_mmd2, that = sess.run(mix_rbf_mmd2_and_ratio(test_real, test_sample, sigmas=heuristic_sigma, biased=False))\n",
    "##print(test_mmd2, that)"
   ]
  },
  {
   "cell_type": "code",
   "execution_count": 60,
   "metadata": {
    "collapsed": false
   },
   "outputs": [
    {
     "name": "stdout",
     "output_type": "stream",
     "text": [
      "(1095, 30, 5)\n",
      "(219, 30, 5)\n"
     ]
    }
   ],
   "source": [
    "print(samples['train'].shape)\n",
    "print(samples['vali'].shape)"
   ]
  },
  {
   "cell_type": "code",
   "execution_count": 61,
   "metadata": {
    "collapsed": false
   },
   "outputs": [],
   "source": [
    "real_data = np.vstack((samples['train'],samples['vali']))\n",
    "np.save('./data/'+identifier+'real_data',real_data)"
   ]
  },
  {
   "cell_type": "code",
   "execution_count": 62,
   "metadata": {
    "collapsed": false
   },
   "outputs": [],
   "source": [
    "real_data = np.load('./data/'+identifier+'real_data.npy')"
   ]
  },
  {
   "cell_type": "code",
   "execution_count": 63,
   "metadata": {
    "collapsed": false
   },
   "outputs": [
    {
     "data": {
      "text/plain": [
       "(1314, 30, 5)"
      ]
     },
     "execution_count": 63,
     "metadata": {},
     "output_type": "execute_result"
    }
   ],
   "source": [
    "real_data.shape"
   ]
  },
  {
   "cell_type": "code",
   "execution_count": 25,
   "metadata": {
    "collapsed": false
   },
   "outputs": [],
   "source": [
    "#real_data[0]"
   ]
  },
  {
   "cell_type": "code",
   "execution_count": 65,
   "metadata": {
    "collapsed": false
   },
   "outputs": [
    {
     "data": {
      "text/plain": [
       "(1314, 30, 5)"
      ]
     },
     "execution_count": 65,
     "metadata": {},
     "output_type": "execute_result"
    }
   ],
   "source": [
    "deNorm_real_data = de_normalise_data(real_data,mean,std)\n",
    "deNorm_real_data.shape"
   ]
  },
  {
   "cell_type": "code",
   "execution_count": 66,
   "metadata": {
    "collapsed": false
   },
   "outputs": [],
   "source": [
    "#deNorm_real_data[0]"
   ]
  },
  {
   "cell_type": "code",
   "execution_count": 67,
   "metadata": {
    "collapsed": true
   },
   "outputs": [],
   "source": [
    "np.save('./data/'+identifier+'deNorm_real_data',deNorm_real_data)"
   ]
  },
  {
   "cell_type": "code",
   "execution_count": 68,
   "metadata": {
    "collapsed": false
   },
   "outputs": [
    {
     "data": {
      "text/plain": [
       "(1314, 30, 5)"
      ]
     },
     "execution_count": 68,
     "metadata": {},
     "output_type": "execute_result"
    }
   ],
   "source": [
    "deNorm_real_data = np.load('./data/'+identifier+'deNorm_real_data.npy')\n",
    "deNorm_real_data.shape"
   ]
  },
  {
   "cell_type": "code",
   "execution_count": 69,
   "metadata": {
    "collapsed": false
   },
   "outputs": [],
   "source": [
    "#75-25 train test split\n",
    "n_samples_fake = samples['train'].shape[0]\n",
    "n_batches_for_fake = floor(n_samples_fake/settings['batch_size'])\n",
    "n_test_eval = n_batches_for_fake*settings['batch_size']\n",
    "test_sample = np.empty(shape=(n_test_eval, seq_length, num_signals))\n",
    "for i in range(n_batches_for_fake):\n",
    "    fake_Z = model.sample_Z(settings['batch_size'], seq_length, latent_dim, use_time)\n",
    "    test_sample[i*settings['batch_size']:(i+1)*settings['batch_size'], :, :] = sess.run(G_sample, feed_dict={Z: fake_Z})"
   ]
  },
  {
   "cell_type": "code",
   "execution_count": 70,
   "metadata": {
    "collapsed": false
   },
   "outputs": [
    {
     "data": {
      "text/plain": [
       "(1064, 30, 5)"
      ]
     },
     "execution_count": 70,
     "metadata": {},
     "output_type": "execute_result"
    }
   ],
   "source": [
    "fake_data = test_sample\n",
    "fake_data.shape"
   ]
  },
  {
   "cell_type": "code",
   "execution_count": 71,
   "metadata": {
    "collapsed": true
   },
   "outputs": [],
   "source": [
    "np.save('./data/'+identifier+'fake_data',fake_data)"
   ]
  },
  {
   "cell_type": "code",
   "execution_count": 72,
   "metadata": {
    "collapsed": false
   },
   "outputs": [
    {
     "data": {
      "text/plain": [
       "(1064, 30, 5)"
      ]
     },
     "execution_count": 72,
     "metadata": {},
     "output_type": "execute_result"
    }
   ],
   "source": [
    "fake_data = np.load('./data/'+identifier+'fake_data.npy')\n",
    "fake_data.shape"
   ]
  },
  {
   "cell_type": "code",
   "execution_count": 73,
   "metadata": {
    "collapsed": false
   },
   "outputs": [
    {
     "data": {
      "text/plain": [
       "(1064, 30, 5)"
      ]
     },
     "execution_count": 73,
     "metadata": {},
     "output_type": "execute_result"
    }
   ],
   "source": [
    "deNorm_fake_data = de_normalise_data(fake_data,mean,std)\n",
    "deNorm_fake_data.shape"
   ]
  },
  {
   "cell_type": "code",
   "execution_count": 74,
   "metadata": {
    "collapsed": false
   },
   "outputs": [],
   "source": [
    "#deNorm_fake_data[0]"
   ]
  },
  {
   "cell_type": "code",
   "execution_count": 75,
   "metadata": {
    "collapsed": true
   },
   "outputs": [],
   "source": [
    "np.save('./data/'+identifier+'deNorm_fake_data',deNorm_fake_data)"
   ]
  },
  {
   "cell_type": "code",
   "execution_count": 76,
   "metadata": {
    "collapsed": false
   },
   "outputs": [
    {
     "data": {
      "text/plain": [
       "(1064, 30, 5)"
      ]
     },
     "execution_count": 76,
     "metadata": {},
     "output_type": "execute_result"
    }
   ],
   "source": [
    "deNorm_fake_data = np.load('./data/'+identifier+'deNorm_fake_data.npy')\n",
    "deNorm_fake_data.shape"
   ]
  },
  {
   "cell_type": "code",
   "execution_count": 77,
   "metadata": {
    "collapsed": false
   },
   "outputs": [],
   "source": [
    "#model.generator.save(identifier+'.h5')"
   ]
  },
  {
   "cell_type": "code",
   "execution_count": 78,
   "metadata": {
    "collapsed": true
   },
   "outputs": [],
   "source": [
    "#Generate Data"
   ]
  },
  {
   "cell_type": "code",
   "execution_count": 79,
   "metadata": {
    "collapsed": false
   },
   "outputs": [],
   "source": [
    "# eval_Z = model.sample_Z(56, seq_length, latent_dim, use_time)"
   ]
  },
  {
   "cell_type": "code",
   "execution_count": 80,
   "metadata": {
    "collapsed": false
   },
   "outputs": [],
   "source": [
    "# eval_Z.shape"
   ]
  },
  {
   "cell_type": "code",
   "execution_count": null,
   "metadata": {
    "collapsed": false
   },
   "outputs": [],
   "source": []
  },
  {
   "cell_type": "code",
   "execution_count": null,
   "metadata": {
    "collapsed": false
   },
   "outputs": [],
   "source": []
  },
  {
   "cell_type": "code",
   "execution_count": null,
   "metadata": {
    "collapsed": false
   },
   "outputs": [],
   "source": []
  },
  {
   "cell_type": "code",
   "execution_count": null,
   "metadata": {
    "collapsed": false
   },
   "outputs": [],
   "source": []
  },
  {
   "cell_type": "code",
   "execution_count": null,
   "metadata": {
    "collapsed": false
   },
   "outputs": [],
   "source": [
    "# eval_sample = sess.run(G_sample, feed_dict={Z: eval_Z})\n",
    "# eval_sample = np.float32(eval_sample)"
   ]
  },
  {
   "cell_type": "code",
   "execution_count": null,
   "metadata": {
    "collapsed": false
   },
   "outputs": [],
   "source": [
    "# eval_sample[0]"
   ]
  },
  {
   "cell_type": "code",
   "execution_count": null,
   "metadata": {
    "collapsed": false
   },
   "outputs": [],
   "source": [
    "# nvidia-smi"
   ]
  },
  {
   "cell_type": "code",
   "execution_count": null,
   "metadata": {
    "collapsed": false
   },
   "outputs": [],
   "source": [
    "# clip_ops = []\n",
    "# for var in discriminator_vars:\n",
    "#     clip_bounds = [-.01, .01]\n",
    "#     clip_ops.append(\n",
    "#         tf.assign(var, tf.clip_by_value(var, clip_bounds[0], clip_bounds[1]))\n",
    "#     )\n",
    "# clip_disc_weights = tf.group(*clip_ops)"
   ]
  },
  {
   "cell_type": "code",
   "execution_count": null,
   "metadata": {
    "collapsed": true
   },
   "outputs": [],
   "source": [
    "# clip_disc_weights"
   ]
  },
  {
   "cell_type": "code",
   "execution_count": null,
   "metadata": {
    "collapsed": true
   },
   "outputs": [],
   "source": []
  },
  {
   "cell_type": "code",
   "execution_count": null,
   "metadata": {
    "collapsed": true
   },
   "outputs": [],
   "source": []
  }
 ],
 "metadata": {
  "kernelspec": {
   "display_name": "Python 3",
   "language": "python",
   "name": "python3"
  },
  "language_info": {
   "codemirror_mode": {
    "name": "ipython",
    "version": 3
   },
   "file_extension": ".py",
   "mimetype": "text/x-python",
   "name": "python",
   "nbconvert_exporter": "python",
   "pygments_lexer": "ipython3",
   "version": "3.5.4"
  }
 },
 "nbformat": 4,
 "nbformat_minor": 0
}
